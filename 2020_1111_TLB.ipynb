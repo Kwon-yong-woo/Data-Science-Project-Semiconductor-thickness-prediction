{
 "cells": [
  {
   "cell_type": "code",
   "execution_count": 1,
   "metadata": {},
   "outputs": [],
   "source": [
    "import sys\n",
    "import pandas as pd\n",
    "import numpy as np \n",
    "import tensorflow as tf\n",
    "from tensorflow import keras\n",
    "from keras.models import Sequential\n",
    "from keras.layers import SimpleRNN\n",
    "from keras import optimizers\n",
    "from tensorflow.keras import layers\n",
    "from sklearn import svm\n",
    "import sklearn.svm as svm\n",
    "import sklearn.metrics as mt\n",
    "from sklearn import model_selection as ms\n",
    "from sklearn.preprocessing import StandardScaler\n",
    "from sklearn.decomposition import PCA\n",
    "from sklearn.linear_model import LinearRegression\n",
    "import statsmodels.api as sm\n",
    "from scipy import stats\n",
    "from random import *\n",
    "from keras import utils\n",
    "import seaborn as sns\n",
    "sns.set\n",
    "\n",
    "import matplotlib.pyplot as plt\n",
    "%matplotlib inline"
   ]
  },
  {
   "cell_type": "code",
   "execution_count": 2,
   "metadata": {},
   "outputs": [
    {
     "name": "stdout",
     "output_type": "stream",
     "text": [
      "2.5.0-dev20201029\n"
     ]
    }
   ],
   "source": [
    "print(tf.__version__)"
   ]
  },
  {
   "cell_type": "code",
   "execution_count": 3,
   "metadata": {},
   "outputs": [
    {
     "data": {
      "text/html": [
       "<div>\n",
       "<style scoped>\n",
       "    .dataframe tbody tr th:only-of-type {\n",
       "        vertical-align: middle;\n",
       "    }\n",
       "\n",
       "    .dataframe tbody tr th {\n",
       "        vertical-align: top;\n",
       "    }\n",
       "\n",
       "    .dataframe thead th {\n",
       "        text-align: right;\n",
       "    }\n",
       "</style>\n",
       "<table border=\"1\" class=\"dataframe\">\n",
       "  <thead>\n",
       "    <tr style=\"text-align: right;\">\n",
       "      <th></th>\n",
       "      <th>Model</th>\n",
       "      <th>LayerNum</th>\n",
       "      <th>PP</th>\n",
       "      <th>MatlMaker</th>\n",
       "      <th>RD</th>\n",
       "      <th>GD</th>\n",
       "      <th>MatlNum</th>\n",
       "      <th>RC</th>\n",
       "      <th>MatlG</th>\n",
       "      <th>Cu1</th>\n",
       "      <th>CP1</th>\n",
       "      <th>Cu2</th>\n",
       "      <th>CP2</th>\n",
       "      <th>Thickness</th>\n",
       "    </tr>\n",
       "  </thead>\n",
       "  <tbody>\n",
       "    <tr>\n",
       "      <th>2050</th>\n",
       "      <td>45</td>\n",
       "      <td>6</td>\n",
       "      <td>1</td>\n",
       "      <td>DS7402M</td>\n",
       "      <td>1.36</td>\n",
       "      <td>2.56</td>\n",
       "      <td>2116.0</td>\n",
       "      <td>53.0</td>\n",
       "      <td>103.8</td>\n",
       "      <td>0.0</td>\n",
       "      <td>0</td>\n",
       "      <td>15.0</td>\n",
       "      <td>59</td>\n",
       "      <td>118.49</td>\n",
       "    </tr>\n",
       "    <tr>\n",
       "      <th>2051</th>\n",
       "      <td>45</td>\n",
       "      <td>7</td>\n",
       "      <td>0</td>\n",
       "      <td>DS7402M</td>\n",
       "      <td>1.36</td>\n",
       "      <td>2.56</td>\n",
       "      <td>NaN</td>\n",
       "      <td>NaN</td>\n",
       "      <td>NaN</td>\n",
       "      <td>15.0</td>\n",
       "      <td>59</td>\n",
       "      <td>33.0</td>\n",
       "      <td>73</td>\n",
       "      <td>61.44</td>\n",
       "    </tr>\n",
       "    <tr>\n",
       "      <th>2052</th>\n",
       "      <td>45</td>\n",
       "      <td>8</td>\n",
       "      <td>1</td>\n",
       "      <td>DS7402M</td>\n",
       "      <td>1.36</td>\n",
       "      <td>2.56</td>\n",
       "      <td>1080.0</td>\n",
       "      <td>67.0</td>\n",
       "      <td>46.8</td>\n",
       "      <td>33.0</td>\n",
       "      <td>73</td>\n",
       "      <td>15.0</td>\n",
       "      <td>55</td>\n",
       "      <td>73.73</td>\n",
       "    </tr>\n",
       "    <tr>\n",
       "      <th>2053</th>\n",
       "      <td>45</td>\n",
       "      <td>9</td>\n",
       "      <td>0</td>\n",
       "      <td>DS7402M</td>\n",
       "      <td>1.36</td>\n",
       "      <td>2.56</td>\n",
       "      <td>NaN</td>\n",
       "      <td>NaN</td>\n",
       "      <td>NaN</td>\n",
       "      <td>15.0</td>\n",
       "      <td>55</td>\n",
       "      <td>15.0</td>\n",
       "      <td>73</td>\n",
       "      <td>61.44</td>\n",
       "    </tr>\n",
       "    <tr>\n",
       "      <th>2054</th>\n",
       "      <td>45</td>\n",
       "      <td>10</td>\n",
       "      <td>1</td>\n",
       "      <td>DS7402M</td>\n",
       "      <td>1.36</td>\n",
       "      <td>2.56</td>\n",
       "      <td>1067.0</td>\n",
       "      <td>67.0</td>\n",
       "      <td>31.0</td>\n",
       "      <td>15.0</td>\n",
       "      <td>73</td>\n",
       "      <td>9.0</td>\n",
       "      <td>53</td>\n",
       "      <td>52.66</td>\n",
       "    </tr>\n",
       "  </tbody>\n",
       "</table>\n",
       "</div>"
      ],
      "text/plain": [
       "      Model  LayerNum  PP MatlMaker    RD    GD  MatlNum    RC  MatlG   Cu1  \\\n",
       "2050     45         6   1   DS7402M  1.36  2.56   2116.0  53.0  103.8   0.0   \n",
       "2051     45         7   0   DS7402M  1.36  2.56      NaN   NaN    NaN  15.0   \n",
       "2052     45         8   1   DS7402M  1.36  2.56   1080.0  67.0   46.8  33.0   \n",
       "2053     45         9   0   DS7402M  1.36  2.56      NaN   NaN    NaN  15.0   \n",
       "2054     45        10   1   DS7402M  1.36  2.56   1067.0  67.0   31.0  15.0   \n",
       "\n",
       "      CP1   Cu2  CP2  Thickness  \n",
       "2050    0  15.0   59     118.49  \n",
       "2051   59  33.0   73      61.44  \n",
       "2052   73  15.0   55      73.73  \n",
       "2053   55  15.0   73      61.44  \n",
       "2054   73   9.0   53      52.66  "
      ]
     },
     "execution_count": 3,
     "metadata": {},
     "output_type": "execute_result"
    }
   ],
   "source": [
    "raw_data = pd.read_excel('Data_preprocessing2.xlsx')\n",
    "raw_data2 = pd.read_excel('Data_preprocessing.xlsx')\n",
    "\n",
    "\n",
    "data = raw_data.copy()\n",
    "data.tail()"
   ]
  },
  {
   "cell_type": "code",
   "execution_count": 4,
   "metadata": {
    "scrolled": true
   },
   "outputs": [
    {
     "data": {
      "text/plain": [
       "Model          int64\n",
       "LayerNum       int64\n",
       "PP             int64\n",
       "MatlMaker     object\n",
       "RD           float64\n",
       "GD           float64\n",
       "MatlNum      float64\n",
       "RC           float64\n",
       "MatlG        float64\n",
       "Cu1          float64\n",
       "CP1            int64\n",
       "Cu2          float64\n",
       "CP2            int64\n",
       "Thickness    float64\n",
       "dtype: object"
      ]
     },
     "execution_count": 4,
     "metadata": {},
     "output_type": "execute_result"
    }
   ],
   "source": [
    "data.dtypes"
   ]
  },
  {
   "cell_type": "code",
   "execution_count": 5,
   "metadata": {},
   "outputs": [
    {
     "data": {
      "text/html": [
       "<div>\n",
       "<style scoped>\n",
       "    .dataframe tbody tr th:only-of-type {\n",
       "        vertical-align: middle;\n",
       "    }\n",
       "\n",
       "    .dataframe tbody tr th {\n",
       "        vertical-align: top;\n",
       "    }\n",
       "\n",
       "    .dataframe thead th {\n",
       "        text-align: right;\n",
       "    }\n",
       "</style>\n",
       "<table border=\"1\" class=\"dataframe\">\n",
       "  <thead>\n",
       "    <tr style=\"text-align: right;\">\n",
       "      <th></th>\n",
       "      <th>Model</th>\n",
       "      <th>LayerNum</th>\n",
       "      <th>PP</th>\n",
       "      <th>MatlMaker</th>\n",
       "      <th>RD</th>\n",
       "      <th>GD</th>\n",
       "      <th>MatlNum</th>\n",
       "      <th>RC</th>\n",
       "      <th>MatlG</th>\n",
       "      <th>Cu1</th>\n",
       "      <th>CP1</th>\n",
       "      <th>Cu2</th>\n",
       "      <th>CP2</th>\n",
       "      <th>Thickness</th>\n",
       "    </tr>\n",
       "  </thead>\n",
       "  <tbody>\n",
       "    <tr>\n",
       "      <th>0</th>\n",
       "      <td>1</td>\n",
       "      <td>1</td>\n",
       "      <td>1</td>\n",
       "      <td>DS7402M</td>\n",
       "      <td>1.36</td>\n",
       "      <td>2.56</td>\n",
       "      <td>1080.0</td>\n",
       "      <td>61.0</td>\n",
       "      <td>46.8</td>\n",
       "      <td>8.21</td>\n",
       "      <td>55</td>\n",
       "      <td>14.29</td>\n",
       "      <td>73</td>\n",
       "      <td>67.70</td>\n",
       "    </tr>\n",
       "    <tr>\n",
       "      <th>1</th>\n",
       "      <td>1</td>\n",
       "      <td>2</td>\n",
       "      <td>0</td>\n",
       "      <td>DS7402M</td>\n",
       "      <td>1.36</td>\n",
       "      <td>2.56</td>\n",
       "      <td>0.0</td>\n",
       "      <td>0.0</td>\n",
       "      <td>0.0</td>\n",
       "      <td>14.29</td>\n",
       "      <td>73</td>\n",
       "      <td>15.04</td>\n",
       "      <td>56</td>\n",
       "      <td>73.71</td>\n",
       "    </tr>\n",
       "    <tr>\n",
       "      <th>2</th>\n",
       "      <td>1</td>\n",
       "      <td>3</td>\n",
       "      <td>1</td>\n",
       "      <td>DS7402M</td>\n",
       "      <td>1.36</td>\n",
       "      <td>2.56</td>\n",
       "      <td>7628.0</td>\n",
       "      <td>47.0</td>\n",
       "      <td>203.4</td>\n",
       "      <td>15.04</td>\n",
       "      <td>56</td>\n",
       "      <td>14.58</td>\n",
       "      <td>46</td>\n",
       "      <td>187.25</td>\n",
       "    </tr>\n",
       "    <tr>\n",
       "      <th>3</th>\n",
       "      <td>1</td>\n",
       "      <td>4</td>\n",
       "      <td>0</td>\n",
       "      <td>DS7402M</td>\n",
       "      <td>1.36</td>\n",
       "      <td>2.56</td>\n",
       "      <td>0.0</td>\n",
       "      <td>0.0</td>\n",
       "      <td>0.0</td>\n",
       "      <td>14.58</td>\n",
       "      <td>46</td>\n",
       "      <td>14.29</td>\n",
       "      <td>75</td>\n",
       "      <td>77.47</td>\n",
       "    </tr>\n",
       "    <tr>\n",
       "      <th>4</th>\n",
       "      <td>1</td>\n",
       "      <td>5</td>\n",
       "      <td>1</td>\n",
       "      <td>DS7402M</td>\n",
       "      <td>1.36</td>\n",
       "      <td>2.56</td>\n",
       "      <td>3313.0</td>\n",
       "      <td>53.0</td>\n",
       "      <td>81.4</td>\n",
       "      <td>14.29</td>\n",
       "      <td>75</td>\n",
       "      <td>15.04</td>\n",
       "      <td>48</td>\n",
       "      <td>80.48</td>\n",
       "    </tr>\n",
       "  </tbody>\n",
       "</table>\n",
       "</div>"
      ],
      "text/plain": [
       "   Model  LayerNum  PP MatlMaker    RD    GD  MatlNum    RC  MatlG    Cu1  \\\n",
       "0      1         1   1   DS7402M  1.36  2.56   1080.0  61.0   46.8   8.21   \n",
       "1      1         2   0   DS7402M  1.36  2.56      0.0   0.0    0.0  14.29   \n",
       "2      1         3   1   DS7402M  1.36  2.56   7628.0  47.0  203.4  15.04   \n",
       "3      1         4   0   DS7402M  1.36  2.56      0.0   0.0    0.0  14.58   \n",
       "4      1         5   1   DS7402M  1.36  2.56   3313.0  53.0   81.4  14.29   \n",
       "\n",
       "   CP1    Cu2  CP2  Thickness  \n",
       "0   55  14.29   73      67.70  \n",
       "1   73  15.04   56      73.71  \n",
       "2   56  14.58   46     187.25  \n",
       "3   46  14.29   75      77.47  \n",
       "4   75  15.04   48      80.48  "
      ]
     },
     "execution_count": 5,
     "metadata": {},
     "output_type": "execute_result"
    }
   ],
   "source": [
    "data = data.fillna(0)\n",
    "data.head()"
   ]
  },
  {
   "cell_type": "markdown",
   "metadata": {},
   "source": [
    "## TLB Simulation"
   ]
  },
  {
   "cell_type": "code",
   "execution_count": null,
   "metadata": {},
   "outputs": [],
   "source": [
    "data[\"A\"] = data[\"MatlG\"].apply()"
   ]
  },
  {
   "cell_type": "code",
   "execution_count": null,
   "metadata": {},
   "outputs": [],
   "source": [
    "data[\"MatlG\"]/data[\"LayerNum\"]"
   ]
  },
  {
   "cell_type": "code",
   "execution_count": null,
   "metadata": {},
   "outputs": [],
   "source": [
    "def a_generate(g,rc):\n",
    "    rc_r = rc.map(lambda x: x*0.01)\n",
    "    return g/(1-rc_r)"
   ]
  },
  {
   "cell_type": "code",
   "execution_count": null,
   "metadata": {},
   "outputs": [],
   "source": [
    "data.head()"
   ]
  },
  {
   "cell_type": "code",
   "execution_count": null,
   "metadata": {},
   "outputs": [],
   "source": [
    "#data[\"RC\"].map(lambda x: x*0.01)\n",
    "data.apply(lambda x : a_generate(\"MatlG\",\"RC\"))"
   ]
  },
  {
   "cell_type": "code",
   "execution_count": null,
   "metadata": {},
   "outputs": [],
   "source": [
    "cal = []\n",
    "for i in range(len(data)):\n",
    "    rc_ = data[\"RC\"][i]*0.01\n",
    "    g = data[\"MatlG\"][i]\n",
    "    cal.append(g/(1-rc_))\n",
    "data[\"A\"] = cal"
   ]
  },
  {
   "cell_type": "code",
   "execution_count": null,
   "metadata": {},
   "outputs": [],
   "source": [
    "data.head()"
   ]
  },
  {
   "cell_type": "code",
   "execution_count": null,
   "metadata": {},
   "outputs": [],
   "source": [
    "46.8/0.39"
   ]
  },
  {
   "cell_type": "code",
   "execution_count": null,
   "metadata": {},
   "outputs": [],
   "source": [
    "def div(a,b):\n",
    "    return a/b\n",
    "def mul(a,b):\n",
    "    return a*b\n",
    "def sum_(a,b):\n",
    "    return a+b\n",
    "def diff_(a,b):\n",
    "    return a-b\n"
   ]
  },
  {
   "cell_type": "code",
   "execution_count": null,
   "metadata": {},
   "outputs": [],
   "source": [
    "data = data.drop(columns=\"A\")"
   ]
  },
  {
   "cell_type": "code",
   "execution_count": null,
   "metadata": {},
   "outputs": [],
   "source": [
    "A = div(data[\"MatlG\"],diff_(1,mul(data[\"RC\"],0.01)))\n",
    "B = div(data[\"MatlG\"],data[\"GD\"])\n",
    "C = diff_(A,data[\"MatlG\"])\n",
    "D = div(C,data[\"RD\"])\n",
    "T_1 = sum_(B,D)"
   ]
  },
  {
   "cell_type": "code",
   "execution_count": null,
   "metadata": {},
   "outputs": [],
   "source": [
    "data[\"A\"] = A\n",
    "data[\"B\"] = B\n",
    "data[\"C\"] = C\n",
    "data[\"D\"] = D\n",
    "data[\"T1\"] =T_1\n",
    "data.head()"
   ]
  },
  {
   "cell_type": "code",
   "execution_count": null,
   "metadata": {},
   "outputs": [],
   "source": [
    "data[\"total_eff\"] = mul(data[\"Cu1\"],diff_(1,div(data[\"CP1\"],100))) + mul(data[\"Cu2\"],diff_(1,div(data[\"CP2\"],100)))\n",
    "data[\"Score\"] = mul(diff_(data[\"T1\"],data[\"total_eff\"]),0.97)\n"
   ]
  },
  {
   "cell_type": "code",
   "execution_count": null,
   "metadata": {},
   "outputs": [],
   "source": [
    "data[\"Score_approxi\"] = sum_(data[\"total_eff\"],div(data[\"Thickness\"],0.97))"
   ]
  },
  {
   "cell_type": "code",
   "execution_count": null,
   "metadata": {},
   "outputs": [],
   "source": [
    "data.head()"
   ]
  },
  {
   "cell_type": "code",
   "execution_count": null,
   "metadata": {},
   "outputs": [],
   "source": [
    "real_ = []\n",
    "for i in range(len(data)):\n",
    "    v_ = data[\"Score\"][i]\n",
    "    if v_ < 0:\n",
    "        real_.append(data[\"Score_approxi\"][i])\n",
    "    else:\n",
    "        real_.append(data[\"Score\"][i])\n",
    "data = data.drop(columns=\"Real_value\")\n",
    "data[\"Approxi_thick\"] = real_"
   ]
  },
  {
   "cell_type": "code",
   "execution_count": null,
   "metadata": {},
   "outputs": [],
   "source": [
    "data.head()"
   ]
  },
  {
   "cell_type": "markdown",
   "metadata": {},
   "source": [
    "## SVM"
   ]
  },
  {
   "cell_type": "code",
   "execution_count": null,
   "metadata": {},
   "outputs": [],
   "source": [
    "data2 = data.iloc[:,2:]\n",
    "data2.head()"
   ]
  },
  {
   "cell_type": "code",
   "execution_count": null,
   "metadata": {
    "scrolled": false
   },
   "outputs": [],
   "source": [
    "data2.MatlMaker.value_counts()"
   ]
  },
  {
   "cell_type": "code",
   "execution_count": null,
   "metadata": {},
   "outputs": [],
   "source": [
    "X = data2.iloc[:, 3:]\n",
    "y = data2.iloc[:, 0]\n",
    "\n",
    "\n",
    "X_train, X_test, y_train, y_test = ms.train_test_split(X_scaled, y, \n",
    "                                                      test_size = 0.3, random_state = 100)\n",
    "\n",
    "\n",
    "svm_clf =svm.SVC(kernel = 'linear', random_state=100)\n",
    "\n",
    "scores = cross_val_score(svm_clf, X_scaled, y, cv = 5)\n",
    "scores\n",
    "\n",
    "pd.DataFrame(cross_validate(svm_clf, X_scaled, y, cv =5))\n",
    "\n",
    "print('교차검증 평균: ', scores.mean())"
   ]
  },
  {
   "cell_type": "code",
   "execution_count": null,
   "metadata": {},
   "outputs": [],
   "source": [
    "X = data2.iloc[:, 3:]\n",
    "y = data2.iloc[:, 0]\n",
    "\n",
    "scaler = StandardScaler()\n",
    "scaler.fit(X)\n",
    "X_scaled = scaler.transform(X)\n",
    "\n",
    "X_train, X_test, y_train, y_test = ms.train_test_split(X_scaled, y, \n",
    "                                                      test_size = 0.3, random_state = 100)\n",
    "\n",
    "\n",
    "svm_clf =svm.SVC(kernel = 'linear', random_state=100)\n",
    "\n",
    "scores = cross_val_score(svm_clf, X_scaled, y, cv = 5)\n",
    "scores\n",
    "\n",
    "pd.DataFrame(cross_validate(svm_clf, X_scaled, y, cv =5))\n",
    "\n",
    "print('교차검증 평균: ', scores.mean())\n",
    "\n"
   ]
  },
  {
   "cell_type": "code",
   "execution_count": null,
   "metadata": {},
   "outputs": [],
   "source": [
    "X = data2.iloc[:, 3:]\n",
    "y = data2.iloc[:, 0]\n",
    "\n",
    "scaler = StandardScaler()\n",
    "scaler.fit(X)\n",
    "X_scaled = scaler.transform(X)\n",
    "\n",
    "X_train, X_test, y_train, y_test = ms.train_test_split(X_scaled, y, \n",
    "                                                      test_size = 0.3, random_state = 100)\n",
    "\n",
    "\n",
    "svm_clf =svm.SVC(kernel = 'linear', random_state=100)\n",
    "\n",
    "parameters = {'C': [0.001, 0.01, 0.1, 1, 10, 25, 50, 100]} #C : cost, 어느 정도의 오차를 허용할지, 작을수록 오차 많이 허용\n",
    "\n",
    "grid_svm = ms.GridSearchCV(svm_clf,\n",
    "                      param_grid = parameters, cv = 5)\n",
    "\n",
    "grid_svm.fit(X_train, y_train)\n",
    "\n",
    "result = pd.DataFrame(grid_svm.cv_results_['params'])\n",
    "result['mean_test_score'] = grid_svm.cv_results_['mean_test_score']\n",
    "result.sort_values(by='mean_test_score', ascending=False)"
   ]
  },
  {
   "cell_type": "code",
   "execution_count": null,
   "metadata": {},
   "outputs": [],
   "source": [
    "X = data2.iloc[:, 3:]\n",
    "y = data2.iloc[:, 0]\n",
    "\n",
    "scaler = StandardScaler()\n",
    "scaler.fit(X)\n",
    "X_scaled = scaler.transform(X)\n",
    "\n",
    "X_train, X_test, y_train, y_test = ms.train_test_split(X_scaled, y, \n",
    "                                                      test_size = 0.3, random_state = 100)\n",
    "\n",
    "\n",
    "svm_clf =svm.SVC(kernel = 'rbf')\n",
    "\n",
    "scores = cross_val_score(svm_clf, X_scaled, y, cv = 5)\n",
    "scores\n",
    "\n",
    "pd.DataFrame(cross_validate(svm_clf, X_scaled, y, cv =5))\n",
    "\n",
    "print('교차검증 평균: ', scores.mean())\n"
   ]
  },
  {
   "cell_type": "code",
   "execution_count": null,
   "metadata": {},
   "outputs": [],
   "source": [
    "X = data2.iloc[:, 3:]\n",
    "y = data2.iloc[:, 0]\n",
    "\n",
    "scaler = StandardScaler()\n",
    "scaler.fit(X)\n",
    "X_scaled = scaler.transform(X)\n",
    "\n",
    "X_train, X_test, y_train, y_test = ms.train_test_split(X_scaled, y, \n",
    "                                                      test_size = 0.3, random_state = 100)\n",
    "\n",
    "\n",
    "\n",
    "svm_clf = svm.SVC(kernel = 'rbf',random_state=100)\n",
    "parameters = {'C': [0.001, 0.01, 0.1, 1, 10, 25, 50, 100],\n",
    "             'gamma':[0.001, 0.01, 0.1, 1, 10, 25, 50, 100]}    #gamma : 곡률 경계에 대한 파라미터, 클수록 경계가 값에 가까워짐\n",
    "\n",
    "grid_svm = ms.GridSearchCV(svm_clf,\n",
    "                      param_grid = parameters, cv = 5)\n",
    "\n",
    "grid_svm.fit(X_train, y_train)\n",
    "\n",
    "result = pd.DataFrame(grid_svm.cv_results_['params'])\n",
    "result['mean_test_score'] = grid_svm.cv_results_['mean_test_score']\n",
    "result.sort_values(by='mean_test_score', ascending=False)"
   ]
  },
  {
   "cell_type": "code",
   "execution_count": null,
   "metadata": {},
   "outputs": [],
   "source": [
    "pca = PCA(n_components = 3)\n",
    "principalComponents = pca.fit_transform(X_scaled)\n",
    "principalDf = pd.DataFrame(data=principalComponents, columns = ['principal component1', 'principal component2',\n",
    "                                                                'principal component3'])"
   ]
  },
  {
   "cell_type": "code",
   "execution_count": null,
   "metadata": {},
   "outputs": [],
   "source": [
    "principalDf.head()"
   ]
  },
  {
   "cell_type": "code",
   "execution_count": null,
   "metadata": {},
   "outputs": [],
   "source": [
    "sum(pca.explained_variance_ratio_)"
   ]
  },
  {
   "cell_type": "code",
   "execution_count": null,
   "metadata": {},
   "outputs": [],
   "source": [
    "fig = plt.figure()\n",
    "ax = fig.gca(projection = '3d')\n",
    "ax.set_xlabel('Principal Component 1', fontsize = 15)\n",
    "ax.set_ylabel('Principal Component 2', fontsize = 15)\n",
    "ax.set_zlabel('Principal Component 2', fontsize = 15)\n",
    "ax.set_title('3 component PCA', fontsize=20)\n",
    "\n",
    "targets = ['DS7402M', 'EM-370Z', 'NPG-151']\n",
    "colors = ['r', 'g', 'b']\n",
    "finalDf = pd.concat([principalDf, data2[['MatlMaker']]], axis = 1)\n",
    "for target, color in zip(targets,colors):\n",
    "    indicesToKeep = finalDf['MatlMaker'] == target\n",
    "    ax.scatter(finalDf.loc[indicesToKeep, 'principal component1']\n",
    "               , finalDf.loc[indicesToKeep, 'principal component2']\n",
    "               , finalDf.loc[indicesToKeep, 'principal component3']\n",
    "               , c = color\n",
    "               , s = 50)\n",
    "ax.legend(targets)\n",
    "ax.grid()"
   ]
  },
  {
   "cell_type": "markdown",
   "metadata": {},
   "source": [
    "## Regression"
   ]
  },
  {
   "cell_type": "code",
   "execution_count": null,
   "metadata": {},
   "outputs": [],
   "source": [
    "data3 = raw_data.copy()\n",
    "data3"
   ]
  },
  {
   "cell_type": "code",
   "execution_count": null,
   "metadata": {},
   "outputs": [],
   "source": [
    "data3.isna()"
   ]
  },
  {
   "cell_type": "code",
   "execution_count": null,
   "metadata": {
    "scrolled": true
   },
   "outputs": [],
   "source": [
    "data3 = data3[data3['PP'] == 1]"
   ]
  },
  {
   "cell_type": "code",
   "execution_count": null,
   "metadata": {},
   "outputs": [],
   "source": [
    "data3.head()"
   ]
  },
  {
   "cell_type": "code",
   "execution_count": null,
   "metadata": {},
   "outputs": [],
   "source": [
    "data3 = data3.fillna(0)\n",
    "#data3 = data3[data3[\"MatlNum\"]!= 0]\n",
    "#data3"
   ]
  },
  {
   "cell_type": "code",
   "execution_count": null,
   "metadata": {},
   "outputs": [],
   "source": [
    "y = data3['Thickness']\n",
    "x = data3[['RD','GD','RC','MatlG','Cu1','CP1','Cu2','CP2']]\n",
    "\n",
    "x_train, x_test, y_train, y_test = ms.train_test_split(x,y, train_size = 0.8, test_size=0.2)"
   ]
  },
  {
   "cell_type": "code",
   "execution_count": null,
   "metadata": {},
   "outputs": [],
   "source": [
    "mlr = LinearRegression()\n",
    "mlr.fit(x_train, y_train)"
   ]
  },
  {
   "cell_type": "code",
   "execution_count": null,
   "metadata": {},
   "outputs": [],
   "source": [
    "y_predict = mlr.predict(x_test)"
   ]
  },
  {
   "cell_type": "code",
   "execution_count": null,
   "metadata": {
    "scrolled": false
   },
   "outputs": [],
   "source": [
    "x2 = sm.add_constant(x_train)\n",
    "est = sm.OLS(y_train , x2)\n",
    "est2 = est.fit()\n",
    "print(est2.summary())"
   ]
  },
  {
   "cell_type": "code",
   "execution_count": null,
   "metadata": {
    "scrolled": false
   },
   "outputs": [],
   "source": [
    "fig = plt.figure()\n",
    "ax = fig.gca()\n",
    "\n",
    "ax.hist(y_test-y_predict)"
   ]
  },
  {
   "cell_type": "markdown",
   "metadata": {},
   "source": [
    "## Regression 2"
   ]
  },
  {
   "cell_type": "code",
   "execution_count": null,
   "metadata": {},
   "outputs": [],
   "source": [
    "data4 = raw_data.copy()"
   ]
  },
  {
   "cell_type": "code",
   "execution_count": null,
   "metadata": {},
   "outputs": [],
   "source": [
    "data4 = data4.fillna(0)"
   ]
  },
  {
   "cell_type": "code",
   "execution_count": null,
   "metadata": {},
   "outputs": [],
   "source": [
    "y = data4['Thickness']\n",
    "x = data4[['RD','GD','RC','MatlG','Cu1','CP1','Cu2','CP2']]\n",
    "\n",
    "x_train, x_test, y_train, y_test = ms.train_test_split(x,y, train_size = 0.8, test_size=0.2)"
   ]
  },
  {
   "cell_type": "code",
   "execution_count": null,
   "metadata": {
    "scrolled": false
   },
   "outputs": [],
   "source": [
    "x2 = sm.add_constant(x_train)\n",
    "est = sm.OLS(y_train , x2)\n",
    "est2 = est.fit()\n",
    "print(est2.summary())"
   ]
  },
  {
   "cell_type": "markdown",
   "metadata": {},
   "source": [
    "## RNN"
   ]
  },
  {
   "cell_type": "code",
   "execution_count": 6,
   "metadata": {
    "scrolled": true
   },
   "outputs": [
    {
     "data": {
      "text/plain": [
       "(1232, 11)"
      ]
     },
     "execution_count": 6,
     "metadata": {},
     "output_type": "execute_result"
    }
   ],
   "source": [
    "data_rnn = raw_data.copy()\n",
    "\n",
    "data_rnn = data_rnn[data_rnn['PP'] == 1]\n",
    "data_rnn = data_rnn.drop(['PP','MatlMaker','MatlNum'],axis='columns')\n",
    "\n",
    "data_rnn.shape"
   ]
  },
  {
   "cell_type": "code",
   "execution_count": 7,
   "metadata": {},
   "outputs": [],
   "source": [
    "range_ = data_rnn['Model'].unique().tolist()\n",
    "\n",
    "for i in range_:\n",
    "    globals()['data_{}'.format(i)] = data_rnn[data_rnn['Model'] == i]\n",
    "    globals()['data_{}'.format(i)].reset_index(drop = True, inplace=True)"
   ]
  },
  {
   "cell_type": "code",
   "execution_count": 8,
   "metadata": {},
   "outputs": [],
   "source": [
    "# data_1.pop('Model')\n",
    "# data_1.pop('LayerNum')\n",
    "# data_1"
   ]
  },
  {
   "cell_type": "code",
   "execution_count": 9,
   "metadata": {
    "scrolled": true
   },
   "outputs": [],
   "source": [
    "# def des(x):\n",
    "#     stats = x.describe().round(2)\n",
    "#     stats = stats.drop(stats.columns[-1], axis =1)\n",
    "#     stats = stats.transpose()\n",
    "#     return stats\n",
    "\n",
    "# for i in range_:\n",
    "#     globals()['des_data_{}'.format(i)] = des(globals()['data_{}'.format(i)])"
   ]
  },
  {
   "cell_type": "code",
   "execution_count": 10,
   "metadata": {},
   "outputs": [],
   "source": [
    "# for i in range_:\n",
    "#     globals()['normed_data_{}'.format(i)] = (globals()['data_{}'.format(i)] \\\n",
    "#                                         - globals()['des_data_{}'.format(i)]['mean']) \\\n",
    "#                                         / globals()['des_data_{}'.format(i)]['std']"
   ]
  },
  {
   "cell_type": "code",
   "execution_count": 11,
   "metadata": {
    "scrolled": false
   },
   "outputs": [],
   "source": [
    "seq_all = []\n",
    "\n",
    "for i in range_:\n",
    "    l1 = len(globals()['data_{}'.format(i)]['LayerNum'].unique())\n",
    "    l2 = len(globals()['data_{}'.format(i)])\n",
    "    l3 = int(l2/l1)\n",
    "\n",
    "\n",
    "    for j in range(1, l3+1):\n",
    "        globals()['seq_{}_{}'.format(i,j)] = globals()['data_{}'.format(i)].copy().iloc[l1*(j-1):l1*j]\n",
    "        globals()['seq_{}_{}'.format(i,j)].drop(['Model','LayerNum'], axis='columns', inplace=True)\n",
    "        seq_all.append(globals()['seq_{}_{}'.format(i,j)])\n",
    "\n",
    "#     for j in seq_all:\n",
    "#         seq_x = j.drop('Thickness', axis=1)\n",
    "#         seq_y = j['Thickness']\n"
   ]
  },
  {
   "cell_type": "code",
   "execution_count": 12,
   "metadata": {},
   "outputs": [],
   "source": [
    "dataset = []\n",
    "\n",
    "for i in range(1,len(range_)+1):\n",
    "    l1 = len(globals()['data_{}'.format(i)]['LayerNum'].unique())\n",
    "    l2 = len(globals()['data_{}'.format(i)])\n",
    "    l3 = int(l2/l1)\n",
    "\n",
    "    for j in range(1, l3+1):  \n",
    "        size0 = globals()['seq_{}_{}'.format(i,j)].shape[0]\n",
    "        size1 = globals()['seq_{}_{}'.format(i,j)].shape[1]\n",
    "        pad = pd.DataFrame([[0]*size1],columns=globals()['seq_{}_{}'.format(i,j)].columns, index = range(9 - size0))\n",
    "        globals()['seq_{}_{}'.format(i,j)] = pd.concat([globals()['seq_{}_{}'.format(i,j)], pad]).reset_index(drop=True)\n",
    "        dataset.append(globals()['seq_{}_{}'.format(i,j)])"
   ]
  },
  {
   "cell_type": "code",
   "execution_count": 13,
   "metadata": {},
   "outputs": [
    {
     "data": {
      "text/plain": [
       "211"
      ]
     },
     "execution_count": 13,
     "metadata": {},
     "output_type": "execute_result"
    }
   ],
   "source": [
    "len(dataset)"
   ]
  },
  {
   "cell_type": "code",
   "execution_count": 38,
   "metadata": {},
   "outputs": [
    {
     "data": {
      "text/html": [
       "<div>\n",
       "<style scoped>\n",
       "    .dataframe tbody tr th:only-of-type {\n",
       "        vertical-align: middle;\n",
       "    }\n",
       "\n",
       "    .dataframe tbody tr th {\n",
       "        vertical-align: top;\n",
       "    }\n",
       "\n",
       "    .dataframe thead th {\n",
       "        text-align: right;\n",
       "    }\n",
       "</style>\n",
       "<table border=\"1\" class=\"dataframe\">\n",
       "  <thead>\n",
       "    <tr style=\"text-align: right;\">\n",
       "      <th></th>\n",
       "      <th>RD</th>\n",
       "      <th>GD</th>\n",
       "      <th>RC</th>\n",
       "      <th>MatlG</th>\n",
       "      <th>Cu1</th>\n",
       "      <th>CP1</th>\n",
       "      <th>Cu2</th>\n",
       "      <th>CP2</th>\n",
       "      <th>Thickness</th>\n",
       "    </tr>\n",
       "  </thead>\n",
       "  <tbody>\n",
       "    <tr>\n",
       "      <th>0</th>\n",
       "      <td>1.36</td>\n",
       "      <td>2.56</td>\n",
       "      <td>61.0</td>\n",
       "      <td>46.8</td>\n",
       "      <td>8.21</td>\n",
       "      <td>55</td>\n",
       "      <td>14.29</td>\n",
       "      <td>73</td>\n",
       "      <td>67.70</td>\n",
       "    </tr>\n",
       "    <tr>\n",
       "      <th>1</th>\n",
       "      <td>1.36</td>\n",
       "      <td>2.56</td>\n",
       "      <td>47.0</td>\n",
       "      <td>203.4</td>\n",
       "      <td>15.04</td>\n",
       "      <td>56</td>\n",
       "      <td>14.58</td>\n",
       "      <td>46</td>\n",
       "      <td>187.25</td>\n",
       "    </tr>\n",
       "    <tr>\n",
       "      <th>2</th>\n",
       "      <td>1.36</td>\n",
       "      <td>2.56</td>\n",
       "      <td>53.0</td>\n",
       "      <td>81.4</td>\n",
       "      <td>14.29</td>\n",
       "      <td>75</td>\n",
       "      <td>15.04</td>\n",
       "      <td>48</td>\n",
       "      <td>80.48</td>\n",
       "    </tr>\n",
       "    <tr>\n",
       "      <th>3</th>\n",
       "      <td>1.36</td>\n",
       "      <td>2.56</td>\n",
       "      <td>53.0</td>\n",
       "      <td>81.4</td>\n",
       "      <td>14.29</td>\n",
       "      <td>48</td>\n",
       "      <td>14.29</td>\n",
       "      <td>75</td>\n",
       "      <td>81.44</td>\n",
       "    </tr>\n",
       "    <tr>\n",
       "      <th>4</th>\n",
       "      <td>1.36</td>\n",
       "      <td>2.56</td>\n",
       "      <td>47.0</td>\n",
       "      <td>203.4</td>\n",
       "      <td>15.04</td>\n",
       "      <td>50</td>\n",
       "      <td>15.80</td>\n",
       "      <td>60</td>\n",
       "      <td>193.23</td>\n",
       "    </tr>\n",
       "    <tr>\n",
       "      <th>5</th>\n",
       "      <td>1.36</td>\n",
       "      <td>2.56</td>\n",
       "      <td>61.0</td>\n",
       "      <td>46.8</td>\n",
       "      <td>15.04</td>\n",
       "      <td>73</td>\n",
       "      <td>8.05</td>\n",
       "      <td>56</td>\n",
       "      <td>65.44</td>\n",
       "    </tr>\n",
       "    <tr>\n",
       "      <th>6</th>\n",
       "      <td>0.00</td>\n",
       "      <td>0.00</td>\n",
       "      <td>0.0</td>\n",
       "      <td>0.0</td>\n",
       "      <td>0.00</td>\n",
       "      <td>0</td>\n",
       "      <td>0.00</td>\n",
       "      <td>0</td>\n",
       "      <td>0.00</td>\n",
       "    </tr>\n",
       "    <tr>\n",
       "      <th>7</th>\n",
       "      <td>0.00</td>\n",
       "      <td>0.00</td>\n",
       "      <td>0.0</td>\n",
       "      <td>0.0</td>\n",
       "      <td>0.00</td>\n",
       "      <td>0</td>\n",
       "      <td>0.00</td>\n",
       "      <td>0</td>\n",
       "      <td>0.00</td>\n",
       "    </tr>\n",
       "    <tr>\n",
       "      <th>8</th>\n",
       "      <td>0.00</td>\n",
       "      <td>0.00</td>\n",
       "      <td>0.0</td>\n",
       "      <td>0.0</td>\n",
       "      <td>0.00</td>\n",
       "      <td>0</td>\n",
       "      <td>0.00</td>\n",
       "      <td>0</td>\n",
       "      <td>0.00</td>\n",
       "    </tr>\n",
       "  </tbody>\n",
       "</table>\n",
       "</div>"
      ],
      "text/plain": [
       "     RD    GD    RC  MatlG    Cu1  CP1    Cu2  CP2  Thickness\n",
       "0  1.36  2.56  61.0   46.8   8.21   55  14.29   73      67.70\n",
       "1  1.36  2.56  47.0  203.4  15.04   56  14.58   46     187.25\n",
       "2  1.36  2.56  53.0   81.4  14.29   75  15.04   48      80.48\n",
       "3  1.36  2.56  53.0   81.4  14.29   48  14.29   75      81.44\n",
       "4  1.36  2.56  47.0  203.4  15.04   50  15.80   60     193.23\n",
       "5  1.36  2.56  61.0   46.8  15.04   73   8.05   56      65.44\n",
       "6  0.00  0.00   0.0    0.0   0.00    0   0.00    0       0.00\n",
       "7  0.00  0.00   0.0    0.0   0.00    0   0.00    0       0.00\n",
       "8  0.00  0.00   0.0    0.0   0.00    0   0.00    0       0.00"
      ]
     },
     "execution_count": 38,
     "metadata": {},
     "output_type": "execute_result"
    }
   ],
   "source": [
    "dataset[0]"
   ]
  },
  {
   "cell_type": "code",
   "execution_count": 14,
   "metadata": {},
   "outputs": [],
   "source": [
    "np.random.seed(0)\n",
    "p = np.random.choice(211, 168 , replace=False)"
   ]
  },
  {
   "cell_type": "code",
   "execution_count": 15,
   "metadata": {},
   "outputs": [],
   "source": [
    "train_dataset = [dataset[i] for i in p]"
   ]
  },
  {
   "cell_type": "code",
   "execution_count": 16,
   "metadata": {
    "scrolled": true
   },
   "outputs": [],
   "source": [
    "q = [i for i in range(211) if i not in p]"
   ]
  },
  {
   "cell_type": "code",
   "execution_count": 17,
   "metadata": {
    "scrolled": true
   },
   "outputs": [
    {
     "data": {
      "text/plain": [
       "211"
      ]
     },
     "execution_count": 17,
     "metadata": {},
     "output_type": "execute_result"
    }
   ],
   "source": [
    "len(p) + len(q)"
   ]
  },
  {
   "cell_type": "code",
   "execution_count": 18,
   "metadata": {},
   "outputs": [],
   "source": [
    "test_dataset = [dataset[i] for i in q]"
   ]
  },
  {
   "cell_type": "code",
   "execution_count": 19,
   "metadata": {},
   "outputs": [],
   "source": [
    "# for i in range(210):\n",
    "#     dataset[0] = dataset[0].append(dataset[i+1])"
   ]
  },
  {
   "cell_type": "code",
   "execution_count": 20,
   "metadata": {},
   "outputs": [],
   "source": [
    "for i in range(len(p)-1):\n",
    "    train_dataset[0] = train_dataset[0].append(train_dataset[i+1])\n",
    "    \n",
    "for i in range(len(q)-1):\n",
    "    test_dataset[0] = test_dataset[0].append(test_dataset[i+1])"
   ]
  },
  {
   "cell_type": "code",
   "execution_count": 21,
   "metadata": {},
   "outputs": [],
   "source": [
    "# dataset[0].reset_index(drop = True, inplace=True)\n",
    "# train_dataset = dataset[0].sample(frac=0.9,random_state=0)     # data split\n",
    "# test_dataset = dataset[0].drop(train_dataset.index)"
   ]
  },
  {
   "cell_type": "code",
   "execution_count": 22,
   "metadata": {},
   "outputs": [
    {
     "data": {
      "text/html": [
       "<div>\n",
       "<style scoped>\n",
       "    .dataframe tbody tr th:only-of-type {\n",
       "        vertical-align: middle;\n",
       "    }\n",
       "\n",
       "    .dataframe tbody tr th {\n",
       "        vertical-align: top;\n",
       "    }\n",
       "\n",
       "    .dataframe thead th {\n",
       "        text-align: right;\n",
       "    }\n",
       "</style>\n",
       "<table border=\"1\" class=\"dataframe\">\n",
       "  <thead>\n",
       "    <tr style=\"text-align: right;\">\n",
       "      <th></th>\n",
       "      <th>RD</th>\n",
       "      <th>GD</th>\n",
       "      <th>RC</th>\n",
       "      <th>MatlG</th>\n",
       "      <th>Cu1</th>\n",
       "      <th>CP1</th>\n",
       "      <th>Cu2</th>\n",
       "      <th>CP2</th>\n",
       "      <th>Thickness</th>\n",
       "    </tr>\n",
       "  </thead>\n",
       "  <tbody>\n",
       "    <tr>\n",
       "      <th>0</th>\n",
       "      <td>1.56</td>\n",
       "      <td>2.55</td>\n",
       "      <td>63.0</td>\n",
       "      <td>46.8</td>\n",
       "      <td>9.0</td>\n",
       "      <td>50</td>\n",
       "      <td>15.0</td>\n",
       "      <td>70</td>\n",
       "      <td>70.83</td>\n",
       "    </tr>\n",
       "    <tr>\n",
       "      <th>1</th>\n",
       "      <td>1.56</td>\n",
       "      <td>2.55</td>\n",
       "      <td>57.0</td>\n",
       "      <td>103.8</td>\n",
       "      <td>15.0</td>\n",
       "      <td>51</td>\n",
       "      <td>0.0</td>\n",
       "      <td>0</td>\n",
       "      <td>115.56</td>\n",
       "    </tr>\n",
       "    <tr>\n",
       "      <th>2</th>\n",
       "      <td>1.56</td>\n",
       "      <td>2.55</td>\n",
       "      <td>57.0</td>\n",
       "      <td>103.8</td>\n",
       "      <td>0.0</td>\n",
       "      <td>0</td>\n",
       "      <td>15.0</td>\n",
       "      <td>40</td>\n",
       "      <td>115.56</td>\n",
       "    </tr>\n",
       "    <tr>\n",
       "      <th>3</th>\n",
       "      <td>1.56</td>\n",
       "      <td>2.55</td>\n",
       "      <td>63.0</td>\n",
       "      <td>46.8</td>\n",
       "      <td>15.0</td>\n",
       "      <td>72</td>\n",
       "      <td>15.0</td>\n",
       "      <td>43</td>\n",
       "      <td>53.68</td>\n",
       "    </tr>\n",
       "    <tr>\n",
       "      <th>4</th>\n",
       "      <td>1.56</td>\n",
       "      <td>2.55</td>\n",
       "      <td>63.0</td>\n",
       "      <td>46.8</td>\n",
       "      <td>15.0</td>\n",
       "      <td>44</td>\n",
       "      <td>15.0</td>\n",
       "      <td>72</td>\n",
       "      <td>54.42</td>\n",
       "    </tr>\n",
       "    <tr>\n",
       "      <th>...</th>\n",
       "      <td>...</td>\n",
       "      <td>...</td>\n",
       "      <td>...</td>\n",
       "      <td>...</td>\n",
       "      <td>...</td>\n",
       "      <td>...</td>\n",
       "      <td>...</td>\n",
       "      <td>...</td>\n",
       "      <td>...</td>\n",
       "    </tr>\n",
       "    <tr>\n",
       "      <th>4</th>\n",
       "      <td>1.36</td>\n",
       "      <td>2.56</td>\n",
       "      <td>49.0</td>\n",
       "      <td>203.4</td>\n",
       "      <td>0.0</td>\n",
       "      <td>0</td>\n",
       "      <td>15.0</td>\n",
       "      <td>41</td>\n",
       "      <td>206.31</td>\n",
       "    </tr>\n",
       "    <tr>\n",
       "      <th>5</th>\n",
       "      <td>1.36</td>\n",
       "      <td>2.56</td>\n",
       "      <td>63.0</td>\n",
       "      <td>46.8</td>\n",
       "      <td>15.0</td>\n",
       "      <td>73</td>\n",
       "      <td>9.0</td>\n",
       "      <td>51</td>\n",
       "      <td>74.32</td>\n",
       "    </tr>\n",
       "    <tr>\n",
       "      <th>6</th>\n",
       "      <td>0.00</td>\n",
       "      <td>0.00</td>\n",
       "      <td>0.0</td>\n",
       "      <td>0.0</td>\n",
       "      <td>0.0</td>\n",
       "      <td>0</td>\n",
       "      <td>0.0</td>\n",
       "      <td>0</td>\n",
       "      <td>0.00</td>\n",
       "    </tr>\n",
       "    <tr>\n",
       "      <th>7</th>\n",
       "      <td>0.00</td>\n",
       "      <td>0.00</td>\n",
       "      <td>0.0</td>\n",
       "      <td>0.0</td>\n",
       "      <td>0.0</td>\n",
       "      <td>0</td>\n",
       "      <td>0.0</td>\n",
       "      <td>0</td>\n",
       "      <td>0.00</td>\n",
       "    </tr>\n",
       "    <tr>\n",
       "      <th>8</th>\n",
       "      <td>0.00</td>\n",
       "      <td>0.00</td>\n",
       "      <td>0.0</td>\n",
       "      <td>0.0</td>\n",
       "      <td>0.0</td>\n",
       "      <td>0</td>\n",
       "      <td>0.0</td>\n",
       "      <td>0</td>\n",
       "      <td>0.00</td>\n",
       "    </tr>\n",
       "  </tbody>\n",
       "</table>\n",
       "<p>1512 rows × 9 columns</p>\n",
       "</div>"
      ],
      "text/plain": [
       "      RD    GD    RC  MatlG   Cu1  CP1   Cu2  CP2  Thickness\n",
       "0   1.56  2.55  63.0   46.8   9.0   50  15.0   70      70.83\n",
       "1   1.56  2.55  57.0  103.8  15.0   51   0.0    0     115.56\n",
       "2   1.56  2.55  57.0  103.8   0.0    0  15.0   40     115.56\n",
       "3   1.56  2.55  63.0   46.8  15.0   72  15.0   43      53.68\n",
       "4   1.56  2.55  63.0   46.8  15.0   44  15.0   72      54.42\n",
       "..   ...   ...   ...    ...   ...  ...   ...  ...        ...\n",
       "4   1.36  2.56  49.0  203.4   0.0    0  15.0   41     206.31\n",
       "5   1.36  2.56  63.0   46.8  15.0   73   9.0   51      74.32\n",
       "6   0.00  0.00   0.0    0.0   0.0    0   0.0    0       0.00\n",
       "7   0.00  0.00   0.0    0.0   0.0    0   0.0    0       0.00\n",
       "8   0.00  0.00   0.0    0.0   0.0    0   0.0    0       0.00\n",
       "\n",
       "[1512 rows x 9 columns]"
      ]
     },
     "execution_count": 22,
     "metadata": {},
     "output_type": "execute_result"
    }
   ],
   "source": [
    "train_dataset[0]"
   ]
  },
  {
   "cell_type": "code",
   "execution_count": 23,
   "metadata": {},
   "outputs": [
    {
     "name": "stdout",
     "output_type": "stream",
     "text": [
      "(1512, 9)\n",
      "(387, 9)\n"
     ]
    }
   ],
   "source": [
    "print(train_dataset[0].shape)\n",
    "print(test_dataset[0].shape)"
   ]
  },
  {
   "cell_type": "code",
   "execution_count": 24,
   "metadata": {},
   "outputs": [],
   "source": [
    "train_seq_x = train_dataset[0].drop('Thickness', axis = 1)\n",
    "train_seq_y = train_dataset[0]['Thickness']\n",
    "test_seq_x = test_dataset[0].drop('Thickness', axis = 1)\n",
    "test_seq_y = test_dataset[0]['Thickness']"
   ]
  },
  {
   "cell_type": "code",
   "execution_count": 25,
   "metadata": {},
   "outputs": [
    {
     "data": {
      "text/html": [
       "<div>\n",
       "<style scoped>\n",
       "    .dataframe tbody tr th:only-of-type {\n",
       "        vertical-align: middle;\n",
       "    }\n",
       "\n",
       "    .dataframe tbody tr th {\n",
       "        vertical-align: top;\n",
       "    }\n",
       "\n",
       "    .dataframe thead th {\n",
       "        text-align: right;\n",
       "    }\n",
       "</style>\n",
       "<table border=\"1\" class=\"dataframe\">\n",
       "  <thead>\n",
       "    <tr style=\"text-align: right;\">\n",
       "      <th></th>\n",
       "      <th>RD</th>\n",
       "      <th>GD</th>\n",
       "      <th>RC</th>\n",
       "      <th>MatlG</th>\n",
       "      <th>Cu1</th>\n",
       "      <th>CP1</th>\n",
       "      <th>Cu2</th>\n",
       "      <th>CP2</th>\n",
       "    </tr>\n",
       "  </thead>\n",
       "  <tbody>\n",
       "    <tr>\n",
       "      <th>0</th>\n",
       "      <td>1.56</td>\n",
       "      <td>2.55</td>\n",
       "      <td>63.0</td>\n",
       "      <td>46.8</td>\n",
       "      <td>9.0</td>\n",
       "      <td>50</td>\n",
       "      <td>15.0</td>\n",
       "      <td>70</td>\n",
       "    </tr>\n",
       "    <tr>\n",
       "      <th>1</th>\n",
       "      <td>1.56</td>\n",
       "      <td>2.55</td>\n",
       "      <td>57.0</td>\n",
       "      <td>103.8</td>\n",
       "      <td>15.0</td>\n",
       "      <td>51</td>\n",
       "      <td>0.0</td>\n",
       "      <td>0</td>\n",
       "    </tr>\n",
       "    <tr>\n",
       "      <th>2</th>\n",
       "      <td>1.56</td>\n",
       "      <td>2.55</td>\n",
       "      <td>57.0</td>\n",
       "      <td>103.8</td>\n",
       "      <td>0.0</td>\n",
       "      <td>0</td>\n",
       "      <td>15.0</td>\n",
       "      <td>40</td>\n",
       "    </tr>\n",
       "    <tr>\n",
       "      <th>3</th>\n",
       "      <td>1.56</td>\n",
       "      <td>2.55</td>\n",
       "      <td>63.0</td>\n",
       "      <td>46.8</td>\n",
       "      <td>15.0</td>\n",
       "      <td>72</td>\n",
       "      <td>15.0</td>\n",
       "      <td>43</td>\n",
       "    </tr>\n",
       "    <tr>\n",
       "      <th>4</th>\n",
       "      <td>1.56</td>\n",
       "      <td>2.55</td>\n",
       "      <td>63.0</td>\n",
       "      <td>46.8</td>\n",
       "      <td>15.0</td>\n",
       "      <td>44</td>\n",
       "      <td>15.0</td>\n",
       "      <td>72</td>\n",
       "    </tr>\n",
       "    <tr>\n",
       "      <th>5</th>\n",
       "      <td>1.56</td>\n",
       "      <td>2.55</td>\n",
       "      <td>57.0</td>\n",
       "      <td>103.8</td>\n",
       "      <td>15.0</td>\n",
       "      <td>46</td>\n",
       "      <td>0.0</td>\n",
       "      <td>0</td>\n",
       "    </tr>\n",
       "    <tr>\n",
       "      <th>6</th>\n",
       "      <td>1.56</td>\n",
       "      <td>2.55</td>\n",
       "      <td>57.0</td>\n",
       "      <td>103.8</td>\n",
       "      <td>0.0</td>\n",
       "      <td>0</td>\n",
       "      <td>15.0</td>\n",
       "      <td>48</td>\n",
       "    </tr>\n",
       "    <tr>\n",
       "      <th>7</th>\n",
       "      <td>1.56</td>\n",
       "      <td>2.55</td>\n",
       "      <td>63.0</td>\n",
       "      <td>46.8</td>\n",
       "      <td>15.0</td>\n",
       "      <td>70</td>\n",
       "      <td>9.0</td>\n",
       "      <td>50</td>\n",
       "    </tr>\n",
       "    <tr>\n",
       "      <th>8</th>\n",
       "      <td>0.00</td>\n",
       "      <td>0.00</td>\n",
       "      <td>0.0</td>\n",
       "      <td>0.0</td>\n",
       "      <td>0.0</td>\n",
       "      <td>0</td>\n",
       "      <td>0.0</td>\n",
       "      <td>0</td>\n",
       "    </tr>\n",
       "    <tr>\n",
       "      <th>0</th>\n",
       "      <td>1.36</td>\n",
       "      <td>2.56</td>\n",
       "      <td>69.0</td>\n",
       "      <td>31.0</td>\n",
       "      <td>9.0</td>\n",
       "      <td>44</td>\n",
       "      <td>33.0</td>\n",
       "      <td>70</td>\n",
       "    </tr>\n",
       "    <tr>\n",
       "      <th>1</th>\n",
       "      <td>1.36</td>\n",
       "      <td>2.56</td>\n",
       "      <td>53.0</td>\n",
       "      <td>103.8</td>\n",
       "      <td>33.0</td>\n",
       "      <td>46</td>\n",
       "      <td>33.0</td>\n",
       "      <td>69</td>\n",
       "    </tr>\n",
       "    <tr>\n",
       "      <th>2</th>\n",
       "      <td>1.36</td>\n",
       "      <td>2.56</td>\n",
       "      <td>53.0</td>\n",
       "      <td>103.8</td>\n",
       "      <td>33.0</td>\n",
       "      <td>51</td>\n",
       "      <td>33.0</td>\n",
       "      <td>70</td>\n",
       "    </tr>\n",
       "    <tr>\n",
       "      <th>3</th>\n",
       "      <td>1.36</td>\n",
       "      <td>2.56</td>\n",
       "      <td>53.0</td>\n",
       "      <td>103.8</td>\n",
       "      <td>33.0</td>\n",
       "      <td>69</td>\n",
       "      <td>33.0</td>\n",
       "      <td>47</td>\n",
       "    </tr>\n",
       "    <tr>\n",
       "      <th>4</th>\n",
       "      <td>1.36</td>\n",
       "      <td>2.56</td>\n",
       "      <td>69.0</td>\n",
       "      <td>31.0</td>\n",
       "      <td>33.0</td>\n",
       "      <td>70</td>\n",
       "      <td>9.0</td>\n",
       "      <td>45</td>\n",
       "    </tr>\n",
       "    <tr>\n",
       "      <th>5</th>\n",
       "      <td>0.00</td>\n",
       "      <td>0.00</td>\n",
       "      <td>0.0</td>\n",
       "      <td>0.0</td>\n",
       "      <td>0.0</td>\n",
       "      <td>0</td>\n",
       "      <td>0.0</td>\n",
       "      <td>0</td>\n",
       "    </tr>\n",
       "    <tr>\n",
       "      <th>6</th>\n",
       "      <td>0.00</td>\n",
       "      <td>0.00</td>\n",
       "      <td>0.0</td>\n",
       "      <td>0.0</td>\n",
       "      <td>0.0</td>\n",
       "      <td>0</td>\n",
       "      <td>0.0</td>\n",
       "      <td>0</td>\n",
       "    </tr>\n",
       "  </tbody>\n",
       "</table>\n",
       "</div>"
      ],
      "text/plain": [
       "     RD    GD    RC  MatlG   Cu1  CP1   Cu2  CP2\n",
       "0  1.56  2.55  63.0   46.8   9.0   50  15.0   70\n",
       "1  1.56  2.55  57.0  103.8  15.0   51   0.0    0\n",
       "2  1.56  2.55  57.0  103.8   0.0    0  15.0   40\n",
       "3  1.56  2.55  63.0   46.8  15.0   72  15.0   43\n",
       "4  1.56  2.55  63.0   46.8  15.0   44  15.0   72\n",
       "5  1.56  2.55  57.0  103.8  15.0   46   0.0    0\n",
       "6  1.56  2.55  57.0  103.8   0.0    0  15.0   48\n",
       "7  1.56  2.55  63.0   46.8  15.0   70   9.0   50\n",
       "8  0.00  0.00   0.0    0.0   0.0    0   0.0    0\n",
       "0  1.36  2.56  69.0   31.0   9.0   44  33.0   70\n",
       "1  1.36  2.56  53.0  103.8  33.0   46  33.0   69\n",
       "2  1.36  2.56  53.0  103.8  33.0   51  33.0   70\n",
       "3  1.36  2.56  53.0  103.8  33.0   69  33.0   47\n",
       "4  1.36  2.56  69.0   31.0  33.0   70   9.0   45\n",
       "5  0.00  0.00   0.0    0.0   0.0    0   0.0    0\n",
       "6  0.00  0.00   0.0    0.0   0.0    0   0.0    0"
      ]
     },
     "execution_count": 25,
     "metadata": {},
     "output_type": "execute_result"
    }
   ],
   "source": [
    "train_seq_x.head(16)"
   ]
  },
  {
   "cell_type": "code",
   "execution_count": 26,
   "metadata": {},
   "outputs": [],
   "source": [
    "train_seq_x2 = train_seq_x.values.reshape(-1,9,8)\n",
    "train_seq_y2 = train_seq_y.values.reshape(-1,9,1)\n",
    "\n",
    "test_seq_x2 = test_seq_x.values.reshape(-1,9,8)\n",
    "test_seq_y2 = test_seq_y.values.reshape(-1,9,1)"
   ]
  },
  {
   "cell_type": "code",
   "execution_count": 27,
   "metadata": {
    "scrolled": true
   },
   "outputs": [
    {
     "data": {
      "text/plain": [
       "array([[[ 70.83 ],\n",
       "        [115.56 ],\n",
       "        [115.56 ],\n",
       "        ...,\n",
       "        [116.68 ],\n",
       "        [ 69.34 ],\n",
       "        [  0.   ]],\n",
       "\n",
       "       [[ 48.6  ],\n",
       "        [ 96.48 ],\n",
       "        [ 96.75 ],\n",
       "        ...,\n",
       "        [  0.   ],\n",
       "        [  0.   ],\n",
       "        [  0.   ]],\n",
       "\n",
       "       [[ 70.36 ],\n",
       "        [ 70.97 ],\n",
       "        [ 79.07 ],\n",
       "        ...,\n",
       "        [  0.   ],\n",
       "        [  0.   ],\n",
       "        [  0.   ]],\n",
       "\n",
       "       ...,\n",
       "\n",
       "       [[ 73.49 ],\n",
       "        [159.125],\n",
       "        [159.125],\n",
       "        ...,\n",
       "        [  0.   ],\n",
       "        [  0.   ],\n",
       "        [  0.   ]],\n",
       "\n",
       "       [[ 46.62 ],\n",
       "        [ 48.54 ],\n",
       "        [  0.   ],\n",
       "        ...,\n",
       "        [  0.   ],\n",
       "        [  0.   ],\n",
       "        [  0.   ]],\n",
       "\n",
       "       [[ 72.75 ],\n",
       "        [208.485],\n",
       "        [208.485],\n",
       "        ...,\n",
       "        [  0.   ],\n",
       "        [  0.   ],\n",
       "        [  0.   ]]])"
      ]
     },
     "execution_count": 27,
     "metadata": {},
     "output_type": "execute_result"
    }
   ],
   "source": [
    "train_seq_y2"
   ]
  },
  {
   "cell_type": "code",
   "execution_count": 28,
   "metadata": {},
   "outputs": [],
   "source": [
    "def build_model():\n",
    "    model = keras.Sequential()\n",
    "    model.add(SimpleRNN(32, input_shape = (9, 8), return_sequences = True))\n",
    "    model.add(layers.Dense(8, activation='relu'))\n",
    "    model.add(layers.Dense(8, activation='relu'))\n",
    "    model.add(layers.Dense(1))\n",
    "#     model.add(layers.Activation('softmax'))\n",
    "    \n",
    "    adam = optimizers.Adam(lr = 0.001)\n",
    "\n",
    "    model.compile(loss='mse',\n",
    "                optimizer=adam,\n",
    "                metrics=['mae', 'mse'])\n",
    "    \n",
    "    return model"
   ]
  },
  {
   "cell_type": "code",
   "execution_count": 29,
   "metadata": {},
   "outputs": [],
   "source": [
    "model = build_model()"
   ]
  },
  {
   "cell_type": "code",
   "execution_count": 30,
   "metadata": {},
   "outputs": [
    {
     "name": "stdout",
     "output_type": "stream",
     "text": [
      "Model: \"sequential\"\n",
      "_________________________________________________________________\n",
      "Layer (type)                 Output Shape              Param #   \n",
      "=================================================================\n",
      "simple_rnn (SimpleRNN)       (None, 9, 32)             1312      \n",
      "_________________________________________________________________\n",
      "dense (Dense)                (None, 9, 8)              264       \n",
      "_________________________________________________________________\n",
      "dense_1 (Dense)              (None, 9, 8)              72        \n",
      "_________________________________________________________________\n",
      "dense_2 (Dense)              (None, 9, 1)              9         \n",
      "=================================================================\n",
      "Total params: 1,657\n",
      "Trainable params: 1,657\n",
      "Non-trainable params: 0\n",
      "_________________________________________________________________\n"
     ]
    }
   ],
   "source": [
    "model.summary()"
   ]
  },
  {
   "cell_type": "code",
   "execution_count": 31,
   "metadata": {},
   "outputs": [
    {
     "data": {
      "image/png": "[encoded data removed]",
      "text/plain": [
       "<IPython.core.display.Image object>"
      ]
     },
     "execution_count": 31,
     "metadata": {},
     "output_type": "execute_result"
    }
   ],
   "source": [
    "utils.plot_model(model, show_shapes=True, show_layer_names=True)"
   ]
  },
  {
   "cell_type": "code",
   "execution_count": 32,
   "metadata": {
    "scrolled": true
   },
   "outputs": [
    {
     "name": "stdout",
     "output_type": "stream",
     "text": [
      "\n",
      "....................................................................................................\n",
      "....................................................................................................\n",
      "....................................................................................................\n",
      "...................................................................................................."
     ]
    }
   ],
   "source": [
    "class PrintDot(keras.callbacks.Callback):\n",
    "    def on_epoch_end(self, epoch, logs):\n",
    "        if epoch % 100 == 0: print('')\n",
    "        print('.', end='')\n",
    "\n",
    "EPOCHS = 400\n",
    "\n",
    "history = model.fit(\n",
    "  train_seq_x2, train_seq_y2,\n",
    "  epochs=EPOCHS, validation_split = 0.1 ,\n",
    "  verbose=0, callbacks=[PrintDot()])"
   ]
  },
  {
   "cell_type": "code",
   "execution_count": 33,
   "metadata": {},
   "outputs": [
    {
     "data": {
      "text/html": [
       "<div>\n",
       "<style scoped>\n",
       "    .dataframe tbody tr th:only-of-type {\n",
       "        vertical-align: middle;\n",
       "    }\n",
       "\n",
       "    .dataframe tbody tr th {\n",
       "        vertical-align: top;\n",
       "    }\n",
       "\n",
       "    .dataframe thead th {\n",
       "        text-align: right;\n",
       "    }\n",
       "</style>\n",
       "<table border=\"1\" class=\"dataframe\">\n",
       "  <thead>\n",
       "    <tr style=\"text-align: right;\">\n",
       "      <th></th>\n",
       "      <th>loss</th>\n",
       "      <th>mae</th>\n",
       "      <th>mse</th>\n",
       "      <th>val_loss</th>\n",
       "      <th>val_mae</th>\n",
       "      <th>val_mse</th>\n",
       "      <th>epoch</th>\n",
       "    </tr>\n",
       "  </thead>\n",
       "  <tbody>\n",
       "    <tr>\n",
       "      <th>395</th>\n",
       "      <td>28.276297</td>\n",
       "      <td>3.201285</td>\n",
       "      <td>28.276295</td>\n",
       "      <td>26.693983</td>\n",
       "      <td>3.345264</td>\n",
       "      <td>26.693983</td>\n",
       "      <td>395</td>\n",
       "    </tr>\n",
       "    <tr>\n",
       "      <th>396</th>\n",
       "      <td>28.169916</td>\n",
       "      <td>3.189675</td>\n",
       "      <td>28.169914</td>\n",
       "      <td>26.100676</td>\n",
       "      <td>3.313217</td>\n",
       "      <td>26.100676</td>\n",
       "      <td>396</td>\n",
       "    </tr>\n",
       "    <tr>\n",
       "      <th>397</th>\n",
       "      <td>28.001711</td>\n",
       "      <td>3.186484</td>\n",
       "      <td>28.001713</td>\n",
       "      <td>26.212730</td>\n",
       "      <td>3.328630</td>\n",
       "      <td>26.212730</td>\n",
       "      <td>397</td>\n",
       "    </tr>\n",
       "    <tr>\n",
       "      <th>398</th>\n",
       "      <td>27.852446</td>\n",
       "      <td>3.180946</td>\n",
       "      <td>27.852448</td>\n",
       "      <td>25.884293</td>\n",
       "      <td>3.294539</td>\n",
       "      <td>25.884293</td>\n",
       "      <td>398</td>\n",
       "    </tr>\n",
       "    <tr>\n",
       "      <th>399</th>\n",
       "      <td>27.795420</td>\n",
       "      <td>3.163461</td>\n",
       "      <td>27.795418</td>\n",
       "      <td>25.784283</td>\n",
       "      <td>3.310293</td>\n",
       "      <td>25.784283</td>\n",
       "      <td>399</td>\n",
       "    </tr>\n",
       "  </tbody>\n",
       "</table>\n",
       "</div>"
      ],
      "text/plain": [
       "          loss       mae        mse   val_loss   val_mae    val_mse  epoch\n",
       "395  28.276297  3.201285  28.276295  26.693983  3.345264  26.693983    395\n",
       "396  28.169916  3.189675  28.169914  26.100676  3.313217  26.100676    396\n",
       "397  28.001711  3.186484  28.001713  26.212730  3.328630  26.212730    397\n",
       "398  27.852446  3.180946  27.852448  25.884293  3.294539  25.884293    398\n",
       "399  27.795420  3.163461  27.795418  25.784283  3.310293  25.784283    399"
      ]
     },
     "execution_count": 33,
     "metadata": {},
     "output_type": "execute_result"
    }
   ],
   "source": [
    "hist = pd.DataFrame(history.history)\n",
    "hist['epoch'] = history.epoch\n",
    "hist.tail()"
   ]
  },
  {
   "cell_type": "code",
   "execution_count": 34,
   "metadata": {},
   "outputs": [
    {
     "data": {
      "image/png": "[encoded data removed]",
      "text/plain": [
       "<Figure size 576x864 with 2 Axes>"
      ]
     },
     "metadata": {
      "needs_background": "light"
     },
     "output_type": "display_data"
    }
   ],
   "source": [
    "import matplotlib.pyplot as plt\n",
    "\n",
    "def plot_history(history):\n",
    "    hist= pd.DataFrame(history.history)\n",
    "    hist['epoch'] = history.epoch\n",
    "\n",
    "    plt.figure(figsize=(8,12))\n",
    "\n",
    "    plt.subplot(2,1,1)\n",
    "    plt.xlabel('Epoch')\n",
    "    plt.ylabel('Mean Abs Error')\n",
    "    plt.plot(hist['epoch'], hist['mae'],\n",
    "           label='Train Error')\n",
    "    plt.plot(hist['epoch'], hist['val_mae'],\n",
    "           label = 'Val Error')\n",
    "#     plt.ylim([0,5])\n",
    "    plt.legend()\n",
    "\n",
    "    plt.subplot(2,1,2)\n",
    "    plt.xlabel('Epoch')\n",
    "    plt.ylabel('Mean Square Error')\n",
    "    plt.plot(hist['epoch'], hist['mse'],\n",
    "           label='Train Error')\n",
    "    plt.plot(hist['epoch'], hist['val_mse'],\n",
    "           label = 'Val Error')\n",
    "#     plt.ylim([0,200])\n",
    "    plt.legend()\n",
    "    plt.show()\n",
    "\n",
    "plot_history(history)"
   ]
  },
  {
   "cell_type": "code",
   "execution_count": 35,
   "metadata": {
    "scrolled": true
   },
   "outputs": [
    {
     "data": {
      "text/plain": [
       "[<matplotlib.lines.Line2D at 0x1c95bfd5130>]"
      ]
     },
     "execution_count": 35,
     "metadata": {},
     "output_type": "execute_result"
    },
    {
     "data": {
      "image/png": "[encoded data removed]",
      "text/plain": [
       "<Figure size 432x288 with 1 Axes>"
      ]
     },
     "metadata": {
      "needs_background": "light"
     },
     "output_type": "display_data"
    }
   ],
   "source": [
    "test_predictions = model.predict(test_seq_x2).flatten()\n",
    "\n",
    "plt.scatter(test_seq_y, test_predictions)\n",
    "plt.xlabel('True Values')\n",
    "plt.ylabel('Predictions')\n",
    "plt.axis('equal')\n",
    "plt.axis('square')\n",
    "plt.xlim([0,plt.xlim()[1]])\n",
    "plt.ylim([0,plt.ylim()[1]])\n",
    "plt.plot([-100, 250], [-100, 250])"
   ]
  },
  {
   "cell_type": "code",
   "execution_count": null,
   "metadata": {},
   "outputs": [],
   "source": []
  },
  {
   "cell_type": "code",
   "execution_count": 36,
   "metadata": {},
   "outputs": [
    {
     "data": {
      "text/plain": [
       "0.9912231444829992"
      ]
     },
     "execution_count": 36,
     "metadata": {},
     "output_type": "execute_result"
    }
   ],
   "source": [
    "se = test_seq_y - test_predictions\n",
    "se2 = se ** 2\n",
    "s = sum(i for i in se2)\n",
    "\n",
    "st = test_seq_y - np.mean(test_seq_y)\n",
    "st2 = st ** 2\n",
    "t = sum(i for i in st2)\n",
    "\n",
    "r_sqr = 1 - (s/t)\n",
    "r_sqr"
   ]
  },
  {
   "cell_type": "code",
   "execution_count": 37,
   "metadata": {},
   "outputs": [
    {
     "data": {
      "image/png": "[encoded data removed]",
      "text/plain": [
       "<Figure size 576x216 with 1 Axes>"
      ]
     },
     "metadata": {
      "needs_background": "light"
     },
     "output_type": "display_data"
    }
   ],
   "source": [
    "plt.figure(figsize=(8, 3))\n",
    "sns.distplot(se, label=\"y_pred\")\n",
    "plt.xlabel(\"Error\")\n",
    "plt.title(\"prediction\")\n",
    "plt.tight_layout()\n",
    "plt.show()"
   ]
  },
  {
   "cell_type": "code",
   "execution_count": 43,
   "metadata": {},
   "outputs": [
    {
     "data": {
      "text/plain": [
       "387"
      ]
     },
     "execution_count": 43,
     "metadata": {},
     "output_type": "execute_result"
    }
   ],
   "source": [
    "len(se)"
   ]
  },
  {
   "cell_type": "code",
   "execution_count": null,
   "metadata": {},
   "outputs": [],
   "source": []
  }
 ],
 "metadata": {
  "kernelspec": {
   "display_name": "Python 3",
   "language": "python",
   "name": "python3"
  },
  "language_info": {
   "codemirror_mode": {
    "name": "ipython",
    "version": 3
   },
   "file_extension": ".py",
   "mimetype": "text/x-python",
   "name": "python",
   "nbconvert_exporter": "python",
   "pygments_lexer": "ipython3",
   "version": "3.7.6"
  }
 },
 "nbformat": 4,
 "nbformat_minor": 4
}
