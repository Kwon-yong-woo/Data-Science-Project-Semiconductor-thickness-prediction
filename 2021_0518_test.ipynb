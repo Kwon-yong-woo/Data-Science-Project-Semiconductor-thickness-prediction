{
 "cells": [
  {
   "cell_type": "code",
   "execution_count": 1,
   "metadata": {},
   "outputs": [],
   "source": [
    "import pandas as pd\n",
    "import numpy as np\n",
    "import pickle, json\n",
    "import random\n",
    "import time\n",
    "import os\n",
    "\n",
    "\n",
    "import tensorflow as tf\n",
    "from tensorflow import keras\n",
    "\n",
    "from sklearn import linear_model\n",
    "from sklearn.model_selection import train_test_split\n",
    "import sklearn\n",
    "import sklearn.datasets\n",
    "from sklearn import preprocessing\n",
    "\n",
    "\n",
    "\n",
    "from tqdm.notebook import tqdm"
   ]
  },
  {
   "cell_type": "code",
   "execution_count": 2,
   "metadata": {},
   "outputs": [],
   "source": [
    "def extraction_dataset(data_2,number):\n",
    "    test_model = data_2[data_2[\"Model\"]==number]\n",
    "    a = list(test_model[\"LayerNum\"].value_counts().sort_index().keys())\n",
    "    a_index = [i-1 for i in a]\n",
    "    df_ = test_model.iloc[a_index,:]\n",
    "    return df_"
   ]
  },
  {
   "cell_type": "code",
   "execution_count": 3,
   "metadata": {},
   "outputs": [
    {
     "data": {
      "text/html": [
       "<div>\n",
       "<style scoped>\n",
       "    .dataframe tbody tr th:only-of-type {\n",
       "        vertical-align: middle;\n",
       "    }\n",
       "\n",
       "    .dataframe tbody tr th {\n",
       "        vertical-align: top;\n",
       "    }\n",
       "\n",
       "    .dataframe thead th {\n",
       "        text-align: right;\n",
       "    }\n",
       "</style>\n",
       "<table border=\"1\" class=\"dataframe\">\n",
       "  <thead>\n",
       "    <tr style=\"text-align: right;\">\n",
       "      <th></th>\n",
       "      <th>Model</th>\n",
       "      <th>LayerNum</th>\n",
       "      <th>PP</th>\n",
       "      <th>MatlMaker</th>\n",
       "      <th>RD</th>\n",
       "      <th>GD</th>\n",
       "      <th>MatlNum</th>\n",
       "      <th>RC</th>\n",
       "      <th>MatlG</th>\n",
       "      <th>Cu1</th>\n",
       "      <th>CP1</th>\n",
       "      <th>Cu2</th>\n",
       "      <th>CP2</th>\n",
       "      <th>Input_T</th>\n",
       "      <th>Thickness</th>\n",
       "    </tr>\n",
       "  </thead>\n",
       "  <tbody>\n",
       "    <tr>\n",
       "      <th>0</th>\n",
       "      <td>1</td>\n",
       "      <td>1</td>\n",
       "      <td>1</td>\n",
       "      <td>DS7402M</td>\n",
       "      <td>1.36</td>\n",
       "      <td>2.56</td>\n",
       "      <td>1080.0</td>\n",
       "      <td>61.0</td>\n",
       "      <td>46.8</td>\n",
       "      <td>8.21</td>\n",
       "      <td>55</td>\n",
       "      <td>14.29</td>\n",
       "      <td>73</td>\n",
       "      <td>60</td>\n",
       "      <td>67.70</td>\n",
       "    </tr>\n",
       "    <tr>\n",
       "      <th>1</th>\n",
       "      <td>1</td>\n",
       "      <td>2</td>\n",
       "      <td>0</td>\n",
       "      <td>DS7402M</td>\n",
       "      <td>1.36</td>\n",
       "      <td>2.56</td>\n",
       "      <td>0.0</td>\n",
       "      <td>0.0</td>\n",
       "      <td>0.0</td>\n",
       "      <td>14.29</td>\n",
       "      <td>73</td>\n",
       "      <td>15.04</td>\n",
       "      <td>56</td>\n",
       "      <td>75</td>\n",
       "      <td>73.71</td>\n",
       "    </tr>\n",
       "    <tr>\n",
       "      <th>2</th>\n",
       "      <td>1</td>\n",
       "      <td>3</td>\n",
       "      <td>1</td>\n",
       "      <td>DS7402M</td>\n",
       "      <td>1.36</td>\n",
       "      <td>2.56</td>\n",
       "      <td>7628.0</td>\n",
       "      <td>47.0</td>\n",
       "      <td>203.4</td>\n",
       "      <td>15.04</td>\n",
       "      <td>56</td>\n",
       "      <td>14.58</td>\n",
       "      <td>46</td>\n",
       "      <td>200</td>\n",
       "      <td>187.25</td>\n",
       "    </tr>\n",
       "    <tr>\n",
       "      <th>3</th>\n",
       "      <td>1</td>\n",
       "      <td>4</td>\n",
       "      <td>0</td>\n",
       "      <td>DS7402M</td>\n",
       "      <td>1.36</td>\n",
       "      <td>2.56</td>\n",
       "      <td>0.0</td>\n",
       "      <td>0.0</td>\n",
       "      <td>0.0</td>\n",
       "      <td>14.58</td>\n",
       "      <td>46</td>\n",
       "      <td>14.29</td>\n",
       "      <td>75</td>\n",
       "      <td>75</td>\n",
       "      <td>77.47</td>\n",
       "    </tr>\n",
       "    <tr>\n",
       "      <th>4</th>\n",
       "      <td>1</td>\n",
       "      <td>5</td>\n",
       "      <td>1</td>\n",
       "      <td>DS7402M</td>\n",
       "      <td>1.36</td>\n",
       "      <td>2.56</td>\n",
       "      <td>3313.0</td>\n",
       "      <td>53.0</td>\n",
       "      <td>81.4</td>\n",
       "      <td>14.29</td>\n",
       "      <td>75</td>\n",
       "      <td>15.04</td>\n",
       "      <td>48</td>\n",
       "      <td>90</td>\n",
       "      <td>80.48</td>\n",
       "    </tr>\n",
       "  </tbody>\n",
       "</table>\n",
       "</div>"
      ],
      "text/plain": [
       "   Model  LayerNum  PP MatlMaker    RD    GD  MatlNum    RC  MatlG    Cu1  \\\n",
       "0      1         1   1   DS7402M  1.36  2.56   1080.0  61.0   46.8   8.21   \n",
       "1      1         2   0   DS7402M  1.36  2.56      0.0   0.0    0.0  14.29   \n",
       "2      1         3   1   DS7402M  1.36  2.56   7628.0  47.0  203.4  15.04   \n",
       "3      1         4   0   DS7402M  1.36  2.56      0.0   0.0    0.0  14.58   \n",
       "4      1         5   1   DS7402M  1.36  2.56   3313.0  53.0   81.4  14.29   \n",
       "\n",
       "   CP1    Cu2  CP2  Input_T  Thickness  \n",
       "0   55  14.29   73       60      67.70  \n",
       "1   73  15.04   56       75      73.71  \n",
       "2   56  14.58   46      200     187.25  \n",
       "3   46  14.29   75       75      77.47  \n",
       "4   75  15.04   48       90      80.48  "
      ]
     },
     "execution_count": 3,
     "metadata": {},
     "output_type": "execute_result"
    }
   ],
   "source": [
    "data = pd.read_excel(r\"C:\\Users\\Samsung\\jupyter\\Project_PCB\\data\\Data_preprocessing5.xlsx\")\n",
    "data = data.fillna(0)\n",
    "data.head()"
   ]
  },
  {
   "cell_type": "code",
   "execution_count": 4,
   "metadata": {},
   "outputs": [],
   "source": [
    "dic_glass = {}\n",
    "keys = data[\"MatlG\"].groupby(data[\"MatlNum\"]).mean().keys()\n",
    "values = data[\"MatlG\"].groupby(data[\"MatlNum\"]).mean().values\n",
    "for i in range(len(keys)):\n",
    "    dic_glass[keys[i]] = round(values[i],2)\n",
    "data = data.drop(columns=[\"RD\",\"GD\",\"MatlNum\"])\n"
   ]
  },
  {
   "cell_type": "code",
   "execution_count": 5,
   "metadata": {},
   "outputs": [],
   "source": [
    "model_list = list(data[\"Model\"].value_counts().keys())\n",
    "testset_dic = {}\n",
    "testset_list = []\n",
    "for mo in model_list:\n",
    "    globals () [\"model_{}\".format(mo)] = extraction_dataset(data,mo)\n",
    "    testset_list.append(globals () [\"model_{}\".format(mo)])\n",
    "    testset_dic[\"model_{}\".format(mo)] = globals () [\"model_{}\".format(mo)]\n",
    "drop_index = []\n",
    "for i in testset_list:\n",
    "    drop_index.extend(list(i.index))\n",
    "data_drop = data.drop(drop_index)"
   ]
  },
  {
   "cell_type": "code",
   "execution_count": 6,
   "metadata": {},
   "outputs": [],
   "source": [
    "data_drop = data_drop[data_drop[\"PP\"]==1]\n",
    "Maker = data_drop['MatlMaker'].unique()\n",
    "Glass_all = data_drop['MatlG'].unique()\n",
    "len_list = {}\n",
    "\n",
    "for i in Maker:\n",
    "    df = data_drop[data_drop['MatlMaker'] == i]\n",
    "    Glass = df['MatlG'].unique()\n",
    "    for j in Glass:\n",
    "        df2 = df[df['MatlG'] == j]\n",
    "        len_list[\"{} {}\".format(i,j)] = len(df2)"
   ]
  },
  {
   "cell_type": "markdown",
   "metadata": {},
   "source": [
    "# 'DS7402M 46.8' 로 test 하기"
   ]
  },
  {
   "cell_type": "code",
   "execution_count": 7,
   "metadata": {
    "scrolled": false
   },
   "outputs": [
    {
     "data": {
      "text/html": [
       "<div>\n",
       "<style scoped>\n",
       "    .dataframe tbody tr th:only-of-type {\n",
       "        vertical-align: middle;\n",
       "    }\n",
       "\n",
       "    .dataframe tbody tr th {\n",
       "        vertical-align: top;\n",
       "    }\n",
       "\n",
       "    .dataframe thead th {\n",
       "        text-align: right;\n",
       "    }\n",
       "</style>\n",
       "<table border=\"1\" class=\"dataframe\">\n",
       "  <thead>\n",
       "    <tr style=\"text-align: right;\">\n",
       "      <th></th>\n",
       "      <th>LayerNum</th>\n",
       "      <th>RC</th>\n",
       "      <th>Cu1</th>\n",
       "      <th>CP1</th>\n",
       "      <th>Cu2</th>\n",
       "      <th>CP2</th>\n",
       "      <th>Input_T</th>\n",
       "      <th>Thickness</th>\n",
       "    </tr>\n",
       "  </thead>\n",
       "  <tbody>\n",
       "    <tr>\n",
       "      <th>11</th>\n",
       "      <td>1</td>\n",
       "      <td>61.0</td>\n",
       "      <td>8.37</td>\n",
       "      <td>55</td>\n",
       "      <td>14.29</td>\n",
       "      <td>73</td>\n",
       "      <td>60</td>\n",
       "      <td>66.19</td>\n",
       "    </tr>\n",
       "    <tr>\n",
       "      <th>21</th>\n",
       "      <td>11</td>\n",
       "      <td>61.0</td>\n",
       "      <td>14.29</td>\n",
       "      <td>73</td>\n",
       "      <td>8.53</td>\n",
       "      <td>56</td>\n",
       "      <td>60</td>\n",
       "      <td>65.44</td>\n",
       "    </tr>\n",
       "    <tr>\n",
       "      <th>22</th>\n",
       "      <td>1</td>\n",
       "      <td>61.0</td>\n",
       "      <td>8.69</td>\n",
       "      <td>55</td>\n",
       "      <td>14.29</td>\n",
       "      <td>73</td>\n",
       "      <td>60</td>\n",
       "      <td>67.70</td>\n",
       "    </tr>\n",
       "    <tr>\n",
       "      <th>32</th>\n",
       "      <td>11</td>\n",
       "      <td>61.0</td>\n",
       "      <td>14.29</td>\n",
       "      <td>73</td>\n",
       "      <td>8.05</td>\n",
       "      <td>56</td>\n",
       "      <td>60</td>\n",
       "      <td>66.02</td>\n",
       "    </tr>\n",
       "    <tr>\n",
       "      <th>33</th>\n",
       "      <td>1</td>\n",
       "      <td>61.0</td>\n",
       "      <td>8.37</td>\n",
       "      <td>55</td>\n",
       "      <td>13.54</td>\n",
       "      <td>73</td>\n",
       "      <td>60</td>\n",
       "      <td>67.70</td>\n",
       "    </tr>\n",
       "  </tbody>\n",
       "</table>\n",
       "</div>"
      ],
      "text/plain": [
       "    LayerNum    RC    Cu1  CP1    Cu2  CP2  Input_T  Thickness\n",
       "11         1  61.0   8.37   55  14.29   73       60      66.19\n",
       "21        11  61.0  14.29   73   8.53   56       60      65.44\n",
       "22         1  61.0   8.69   55  14.29   73       60      67.70\n",
       "32        11  61.0  14.29   73   8.05   56       60      66.02\n",
       "33         1  61.0   8.37   55  13.54   73       60      67.70"
      ]
     },
     "execution_count": 7,
     "metadata": {},
     "output_type": "execute_result"
    }
   ],
   "source": [
    "data_test = data_drop[data_drop[\"MatlMaker\"]==\"DS7402M\"]\n",
    "data_test = data_drop[data_drop[\"MatlG\"]==46.8]\n",
    "\n",
    "drop_list = ['MatlMaker','MatlG',\"Model\",\"PP\"]\n",
    "data_test = data_test.drop(columns=drop_list)\n",
    "data_test.head()"
   ]
  },
  {
   "cell_type": "code",
   "execution_count": 8,
   "metadata": {},
   "outputs": [
    {
     "data": {
      "text/html": [
       "<div>\n",
       "<style scoped>\n",
       "    .dataframe tbody tr th:only-of-type {\n",
       "        vertical-align: middle;\n",
       "    }\n",
       "\n",
       "    .dataframe tbody tr th {\n",
       "        vertical-align: top;\n",
       "    }\n",
       "\n",
       "    .dataframe thead th {\n",
       "        text-align: right;\n",
       "    }\n",
       "</style>\n",
       "<table border=\"1\" class=\"dataframe\">\n",
       "  <thead>\n",
       "    <tr style=\"text-align: right;\">\n",
       "      <th></th>\n",
       "      <th>LayerNum</th>\n",
       "      <th>RC</th>\n",
       "      <th>Cu1</th>\n",
       "      <th>CP1</th>\n",
       "      <th>Cu2</th>\n",
       "      <th>CP2</th>\n",
       "      <th>Input_T</th>\n",
       "      <th>Thickness</th>\n",
       "    </tr>\n",
       "  </thead>\n",
       "  <tbody>\n",
       "    <tr>\n",
       "      <th>0</th>\n",
       "      <td>0.007013</td>\n",
       "      <td>0.427806</td>\n",
       "      <td>0.058701</td>\n",
       "      <td>0.385726</td>\n",
       "      <td>0.100219</td>\n",
       "      <td>0.511964</td>\n",
       "      <td>0.420792</td>\n",
       "      <td>0.464204</td>\n",
       "    </tr>\n",
       "    <tr>\n",
       "      <th>1</th>\n",
       "      <td>0.076890</td>\n",
       "      <td>0.426392</td>\n",
       "      <td>0.099888</td>\n",
       "      <td>0.510273</td>\n",
       "      <td>0.059625</td>\n",
       "      <td>0.391442</td>\n",
       "      <td>0.419402</td>\n",
       "      <td>0.457428</td>\n",
       "    </tr>\n",
       "    <tr>\n",
       "      <th>2</th>\n",
       "      <td>0.006978</td>\n",
       "      <td>0.425638</td>\n",
       "      <td>0.060636</td>\n",
       "      <td>0.383772</td>\n",
       "      <td>0.099711</td>\n",
       "      <td>0.509370</td>\n",
       "      <td>0.418660</td>\n",
       "      <td>0.472388</td>\n",
       "    </tr>\n",
       "    <tr>\n",
       "      <th>3</th>\n",
       "      <td>0.076762</td>\n",
       "      <td>0.425683</td>\n",
       "      <td>0.099721</td>\n",
       "      <td>0.509424</td>\n",
       "      <td>0.056176</td>\n",
       "      <td>0.390791</td>\n",
       "      <td>0.418705</td>\n",
       "      <td>0.460715</td>\n",
       "    </tr>\n",
       "    <tr>\n",
       "      <th>4</th>\n",
       "      <td>0.006982</td>\n",
       "      <td>0.425911</td>\n",
       "      <td>0.058441</td>\n",
       "      <td>0.384018</td>\n",
       "      <td>0.094538</td>\n",
       "      <td>0.509697</td>\n",
       "      <td>0.418929</td>\n",
       "      <td>0.472691</td>\n",
       "    </tr>\n",
       "  </tbody>\n",
       "</table>\n",
       "</div>"
      ],
      "text/plain": [
       "   LayerNum        RC       Cu1       CP1       Cu2       CP2   Input_T  \\\n",
       "0  0.007013  0.427806  0.058701  0.385726  0.100219  0.511964  0.420792   \n",
       "1  0.076890  0.426392  0.099888  0.510273  0.059625  0.391442  0.419402   \n",
       "2  0.006978  0.425638  0.060636  0.383772  0.099711  0.509370  0.418660   \n",
       "3  0.076762  0.425683  0.099721  0.509424  0.056176  0.390791  0.418705   \n",
       "4  0.006982  0.425911  0.058441  0.384018  0.094538  0.509697  0.418929   \n",
       "\n",
       "   Thickness  \n",
       "0   0.464204  \n",
       "1   0.457428  \n",
       "2   0.472388  \n",
       "3   0.460715  \n",
       "4   0.472691  "
      ]
     },
     "execution_count": 8,
     "metadata": {},
     "output_type": "execute_result"
    }
   ],
   "source": [
    "data_x = data_test.values #returns a numpy array\n",
    "min_max_scaler = preprocessing.Normalizer()\n",
    "x_scaled = min_max_scaler.fit_transform(data_x)\n",
    "data_2 = pd.DataFrame(x_scaled,columns=list(data_test.columns))\n",
    "data_2.head()"
   ]
  },
  {
   "cell_type": "code",
   "execution_count": 9,
   "metadata": {
    "scrolled": true
   },
   "outputs": [],
   "source": [
    "y = data_2.loc[:,\"Thickness\"]\n",
    "x = data_2.drop(columns=\"Thickness\")\n",
    "X_train, X_test, y_train, y_test = train_test_split(x,y,test_size=0.2,random_state=42)"
   ]
  },
  {
   "cell_type": "code",
   "execution_count": 10,
   "metadata": {},
   "outputs": [],
   "source": [
    "def rsq(y_pred,y_test):\n",
    "    se = y_test - y_pred\n",
    "    se2 = se ** 2\n",
    "    s = sum(i for i in se2)\n",
    "\n",
    "    st = y_test - np.mean(y_test)\n",
    "    st2 = st ** 2\n",
    "    t = sum(i for i in st2)\n",
    "\n",
    "    r_sqr = 1 - (s/t)\n",
    "    return r_sqr"
   ]
  },
  {
   "cell_type": "code",
   "execution_count": 11,
   "metadata": {},
   "outputs": [
    {
     "data": {
      "application/vnd.jupyter.widget-view+json": {
       "model_id": "b95ebe7589d1444eb6c6b2a73a2b418e",
       "version_major": 2,
       "version_minor": 0
      },
      "text/plain": [
       "  0%|          | 0/100 [00:00<?, ?it/s]"
      ]
     },
     "metadata": {},
     "output_type": "display_data"
    }
   ],
   "source": [
    "tq =  tqdm(range(100))\n",
    "n = 0\n",
    "lr_result = []\n",
    "for i in tq:\n",
    "    X_train, X_test, y_train, y_test = train_test_split(x,y,test_size=0.2,random_state=n)\n",
    "    lr = linear_model.LinearRegression()\n",
    "    lr.fit(X_train, y_train)\n",
    "    lr_result.append(list(lr.coef_)+[lr.intercept_])\n",
    "    n += 1\n",
    "lr_df = pd.DataFrame(lr_result,columns=x.columns.to_list() + [\"intercept\"])\n",
    "lr_statis = lr_df.describe()"
   ]
  },
  {
   "cell_type": "code",
   "execution_count": 12,
   "metadata": {},
   "outputs": [
    {
     "data": {
      "application/vnd.jupyter.widget-view+json": {
       "model_id": "e27197e4ac824972ac3dc599689c0f7f",
       "version_major": 2,
       "version_minor": 0
      },
      "text/plain": [
       "  0%|          | 0/100 [00:00<?, ?it/s]"
      ]
     },
     "metadata": {},
     "output_type": "display_data"
    }
   ],
   "source": [
    "def rsq(y_pred,y_test):\n",
    "    se = y_test - y_pred\n",
    "    se2 = se ** 2\n",
    "    s = sum(i for i in se2)\n",
    "\n",
    "    st = y_test - np.mean(y_test)\n",
    "    st2 = st ** 2\n",
    "    t = sum(i for i in st2)\n",
    "\n",
    "    r_sqr = 1 - (s/t)\n",
    "    return r_sqr\n",
    "\n",
    "tq =  tqdm(range(100))\n",
    "n = 0\n",
    "lr_result = []\n",
    "for i in tq:\n",
    "    X_train, X_test, y_train, y_test = train_test_split(x,y,test_size=0.2,random_state=n)\n",
    "    lr = linear_model.LinearRegression()\n",
    "    lr.fit(X_train, y_train)\n",
    "    lr_result.append(list(lr.coef_)+[lr.intercept_])\n",
    "    n += 1\n",
    "lr_df = pd.DataFrame(lr_result,columns=x.columns.to_list() + [\"intercept\"])\n",
    "lr_statis = lr_df.describe()"
   ]
  },
  {
   "cell_type": "code",
   "execution_count": 13,
   "metadata": {},
   "outputs": [],
   "source": [
    "def initial_weight(lr_statis,layers_other):\n",
    "    col_list = lr_statis.columns.to_list()\n",
    "    w_all = []\n",
    "    w_candi = []\n",
    "    n_layers = layers_other[0]\n",
    "    \n",
    "    for col_ in col_list:\n",
    "        mean_ = lr_statis.loc[\"mean\",col_]\n",
    "        std_ = lr_statis.loc[\"std\",col_]\n",
    "        candi_ = np.random.normal(mean_,std_,size=(1,n_layers))\n",
    "        w_candi.extend(candi_)\n",
    "    \n",
    "    w_stack = np.stack(w_candi)\n",
    "    w_all.append(w_stack)\n",
    "    wei_2 = [np.random.normal(loc=0.0, scale=0.1, size=(y, x)) for x, y in zip(layers_other[:-1], layers_other[1:])]\n",
    "    \n",
    "    w_all.extend(wei_2)\n",
    "    \n",
    "    return w_all"
   ]
  },
  {
   "cell_type": "code",
   "execution_count": 14,
   "metadata": {},
   "outputs": [],
   "source": [
    "WIE = initial_weight(lr_statis,[3,1])"
   ]
  },
  {
   "cell_type": "markdown",
   "metadata": {},
   "source": [
    "# ANN-customize"
   ]
  },
  {
   "cell_type": "code",
   "execution_count": 15,
   "metadata": {},
   "outputs": [],
   "source": [
    "def relu(x) : \n",
    "    x[x<=0] = 0\n",
    "    return x\n",
    "\n",
    "def reluDerivative(x):\n",
    "    x[x<=0] = 0\n",
    "    x[x>0] = 1\n",
    "    return x"
   ]
  },
  {
   "cell_type": "code",
   "execution_count": 16,
   "metadata": {},
   "outputs": [],
   "source": [
    "\n",
    "def sigmoid(t):\n",
    "    return 1/(1+np.exp(-t))\n",
    "\n",
    "# Derivative of sigmoid\n",
    "def sigmoid_derivative(p):\n",
    "    return p * (1 - p)\n",
    "\n",
    "def relu(z):\n",
    "    return np.maximum(0,z)\n",
    "\n",
    "def d_relu(z):\n",
    "\n",
    "    z[z>=0]=1\n",
    "    z[z<0]= 0\n",
    "    return z\n",
    "\n",
    "\n",
    "def tanh(x):\n",
    "    return np.tanh(x)\n",
    "\n",
    "def d_tanh(x):\n",
    "    return 1 - x * x\n",
    "\n",
    "\n",
    "def none(z):\n",
    "    return z\n",
    "\n",
    "def d_none(z):\n",
    "    return 1\n",
    "\n",
    "\n",
    "\n",
    "\n",
    "class NeuralNetwork:\n",
    "    def __init__(self, x,y,WIE,learn):\n",
    "        self.input = x\n",
    "        self.weights1= WIE[0]\n",
    "        self.weights2 = WIE[1].T\n",
    "        self.weights3 = WIE[2].T\n",
    "        \n",
    "        self.y = y\n",
    "        self.alpha = learn\n",
    "        self.output = np.zeros(y.shape)\n",
    "        self.acti = sigmoid\n",
    "        self.d_acti = sigmoid_derivative\n",
    "        \n",
    "        self.acti_out = sigmoid\n",
    "        self.d_acti_out = sigmoid_derivative\n",
    "\n",
    "    def feedforward(self):\n",
    "        self.layer1 = self.acti(np.dot(self.input, self.weights1))\n",
    "        self.layer2 = self.acti(np.dot(self.layer1, self.weights2))\n",
    "        self.layer3 = self.acti_out(np.dot(self.layer2, self.weights3))\n",
    "        \n",
    "        return self.layer3\n",
    "        \n",
    "    def backprop(self):\n",
    "        d_3 = 2*(self.y- self.output)*self.d_acti(self.output)\n",
    "        d_2 = np.dot(d_3,self.weights3.T)*self.d_acti(self.layer2)\n",
    "        d_1 = np.dot(d_2,self.weights2.T)*self.d_acti_out(self.layer1)\n",
    "        \n",
    "        d_weights3 = np.dot(d_3.T,self.layer2).T\n",
    "        d_weights2 = np.dot(self.layer1.T,d_2)\n",
    "        d_weights1 = np.dot(self.input.T,d_1)\n",
    "        \n",
    "        \n",
    "        \n",
    "        \n",
    "        self.weights1 += self.alpha * d_weights1\n",
    "\n",
    "        self.weights2 += self.alpha * d_weights2\n",
    "        \n",
    "        self.weights3 += self.alpha * d_weights3\n",
    "\n",
    "    def train(self, X, y):\n",
    "        self.output = self.feedforward()\n",
    "        self.backprop()"
   ]
  },
  {
   "cell_type": "code",
   "execution_count": 17,
   "metadata": {},
   "outputs": [],
   "source": [
    "X_train = X_train\n",
    "X =np.stack([np.append(xt,[1]) for xt in X_train.values]).astype(np.float)\n",
    "\n",
    "y = np.array(y_train).reshape(-1,1).astype(np.float)"
   ]
  },
  {
   "cell_type": "code",
   "execution_count": 18,
   "metadata": {},
   "outputs": [],
   "source": [
    "WIE = initial_weight(lr_statis,[64,64,1])"
   ]
  },
  {
   "cell_type": "code",
   "execution_count": 19,
   "metadata": {
    "scrolled": true
   },
   "outputs": [
    {
     "name": "stdout",
     "output_type": "stream",
     "text": [
      "for iteration # 0\n",
      "\n",
      "for iteration # 10\n",
      "\n",
      "for iteration # 20\n",
      "\n",
      "for iteration # 30\n",
      "\n",
      "for iteration # 40\n",
      "\n",
      "for iteration # 50\n",
      "\n",
      "for iteration # 60\n",
      "\n",
      "for iteration # 70\n",
      "\n",
      "for iteration # 80\n",
      "\n",
      "for iteration # 90\n",
      "\n",
      "for iteration # 100\n",
      "\n",
      "for iteration # 110\n",
      "\n",
      "for iteration # 120\n",
      "\n",
      "for iteration # 130\n",
      "\n",
      "for iteration # 140\n",
      "\n"
     ]
    }
   ],
   "source": [
    "NN = NeuralNetwork(X,y,WIE,0.01)\n",
    "for i in range(150): # trains the NN 1,000 times\n",
    "    if i % 10 ==0: \n",
    "        print (\"for iteration # \" + str(i) + \"\\n\")\n",
    "  \n",
    "    NN.train(X, y)"
   ]
  },
  {
   "cell_type": "code",
   "execution_count": 20,
   "metadata": {},
   "outputs": [
    {
     "data": {
      "text/plain": [
       "0.46287127516248144"
      ]
     },
     "execution_count": 20,
     "metadata": {},
     "output_type": "execute_result"
    }
   ],
   "source": [
    "NN.feedforward().mean()"
   ]
  },
  {
   "cell_type": "code",
   "execution_count": 21,
   "metadata": {},
   "outputs": [
    {
     "data": {
      "text/plain": [
       "0.4638243600340797"
      ]
     },
     "execution_count": 21,
     "metadata": {},
     "output_type": "execute_result"
    }
   ],
   "source": [
    "y.mean()"
   ]
  },
  {
   "cell_type": "code",
   "execution_count": 22,
   "metadata": {},
   "outputs": [
    {
     "data": {
      "text/plain": [
       "0.4680597874871536"
      ]
     },
     "execution_count": 22,
     "metadata": {},
     "output_type": "execute_result"
    }
   ],
   "source": [
    "np.array(y_test).reshape(-1,1).astype(np.float).mean()"
   ]
  },
  {
   "cell_type": "code",
   "execution_count": 23,
   "metadata": {},
   "outputs": [
    {
     "data": {
      "text/plain": [
       "462"
      ]
     },
     "execution_count": 23,
     "metadata": {},
     "output_type": "execute_result"
    }
   ],
   "source": [
    "len(NN.feedforward())"
   ]
  },
  {
   "cell_type": "code",
   "execution_count": 48,
   "metadata": {},
   "outputs": [],
   "source": [
    "# 데이터 정렬\n",
    "\n",
    "def ANN_customize(data_drop,maker_name,glass_name):\n",
    "    #glass_name_2= float(glass_name)\n",
    "    data_test = data_drop[data_drop[\"MatlMaker\"]==maker_name]\n",
    "    data_test = data_drop[data_drop[\"MatlG\"]==glass_name]\n",
    "\n",
    "    drop_list = ['MatlMaker','MatlG',\"Model\",\"PP\"]\n",
    "    data_test = data_test.drop(columns=drop_list)\n",
    "\n",
    "    data_x = data_test.values #returns a numpy array\n",
    "    min_max_scaler = preprocessing.Normalizer()\n",
    "    x_scaled = min_max_scaler.fit_transform(data_x)\n",
    "    data_2 = pd.DataFrame(x_scaled,columns=list(data_test.columns))\n",
    "    y = data_2.loc[:,\"Thickness\"]\n",
    "    x = data_2.drop(columns=\"Thickness\")\n",
    "\n",
    "    ## LR\n",
    "    tq =  tqdm(range(100))\n",
    "    n = 0\n",
    "    lr_result = []\n",
    "    for i in tq:\n",
    "        X_train, X_test, y_train, y_test = train_test_split(x,y,test_size=0.2,random_state=n)\n",
    "        lr = linear_model.LinearRegression()\n",
    "        lr.fit(X_train, y_train)\n",
    "        lr_result.append(list(lr.coef_)+[lr.intercept_])\n",
    "        n += 1\n",
    "    lr_df = pd.DataFrame(lr_result,columns=x.columns.to_list() + [\"intercept\"])\n",
    "    lr_statis = lr_df.describe()\n",
    "\n",
    "    # ANN\n",
    "    X_train = X_train\n",
    "    X =np.stack([np.append(xt,[1]) for xt in X_train.values]).astype(np.float)\n",
    "\n",
    "    y = np.array(y_train).reshape(-1,1).astype(np.float)\n",
    "\n",
    "    WIE = initial_weight(lr_statis,[64,64,1])\n",
    "    NN = NeuralNetwork(X,y,WIE,0.01)\n",
    "    for i in range(150): # trains the NN 1,000 times  \n",
    "        NN.train(X, y)\n",
    "    return NN.feedforward().mean()"
   ]
  },
  {
   "cell_type": "code",
   "execution_count": 49,
   "metadata": {},
   "outputs": [
    {
     "data": {
      "application/vnd.jupyter.widget-view+json": {
       "model_id": "7e149c15bcf346a0b1e33532f4f1f602",
       "version_major": 2,
       "version_minor": 0
      },
      "text/plain": [
       "  0%|          | 0/100 [00:00<?, ?it/s]"
      ]
     },
     "metadata": {},
     "output_type": "display_data"
    },
    {
     "data": {
      "text/plain": [
       "0.6845332565772377"
      ]
     },
     "execution_count": 49,
     "metadata": {},
     "output_type": "execute_result"
    }
   ],
   "source": [
    "ANN_customize(data_drop,'DS7402M',203.4)"
   ]
  },
  {
   "cell_type": "code",
   "execution_count": 50,
   "metadata": {},
   "outputs": [
    {
     "data": {
      "application/vnd.jupyter.widget-view+json": {
       "model_id": "929ad228a3f44e5ea99111aa730d959d",
       "version_major": 2,
       "version_minor": 0
      },
      "text/plain": [
       "  0%|          | 0/100 [00:00<?, ?it/s]"
      ]
     },
     "metadata": {},
     "output_type": "display_data"
    },
    {
     "data": {
      "text/plain": [
       "0.46579593845258843"
      ]
     },
     "execution_count": 50,
     "metadata": {},
     "output_type": "execute_result"
    }
   ],
   "source": [
    "ANN_customize(data_drop,'DS7402M',46.8)"
   ]
  },
  {
   "cell_type": "code",
   "execution_count": 25,
   "metadata": {},
   "outputs": [],
   "source": [
    "WIE = initial_weight(lr_statis,[64,64,1])"
   ]
  },
  {
   "cell_type": "code",
   "execution_count": null,
   "metadata": {},
   "outputs": [],
   "source": []
  },
  {
   "cell_type": "code",
   "execution_count": 26,
   "metadata": {},
   "outputs": [
    {
     "name": "stdout",
     "output_type": "stream",
     "text": [
      "2.4.0\n"
     ]
    }
   ],
   "source": [
    "### basic library\n",
    "import pandas as pd\n",
    "import numpy as np\n",
    "import re\n",
    "import matplotlib.pyplot as plt\n",
    "from collections import Counter\n",
    "### ETC\n",
    "from tqdm.notebook import tqdm\n",
    "import pathlib\n",
    "\n",
    "### graph library\n",
    "import plotly.express as px\n",
    "import plotly.graph_objects as go\n",
    "from plotly.offline import download_plotlyjs, init_notebook_mode, plot, iplot\n",
    "import seaborn as sns\n",
    "sns.set\n",
    "\n",
    "\n",
    "\n",
    "### 분석관련 library\n",
    "import statistics\n",
    "from sklearn.preprocessing import StandardScaler\n",
    "from sklearn.cluster import KMeans\n",
    "from sklearn.decomposition import PCA\n",
    "from sklearn import linear_model\n",
    "from sklearn.metrics import mean_squared_error, r2_score,accuracy_score\n",
    "from sklearn.model_selection import train_test_split\n",
    "\n",
    "import tensorflow as tf\n",
    "from tensorflow import keras\n",
    "from tensorflow.keras import layers\n",
    "from keras.utils.vis_utils import plot_model\n",
    "\n",
    "print(tf.__version__)"
   ]
  },
  {
   "cell_type": "code",
   "execution_count": 27,
   "metadata": {},
   "outputs": [
    {
     "data": {
      "text/html": [
       "<div>\n",
       "<style scoped>\n",
       "    .dataframe tbody tr th:only-of-type {\n",
       "        vertical-align: middle;\n",
       "    }\n",
       "\n",
       "    .dataframe tbody tr th {\n",
       "        vertical-align: top;\n",
       "    }\n",
       "\n",
       "    .dataframe thead th {\n",
       "        text-align: right;\n",
       "    }\n",
       "</style>\n",
       "<table border=\"1\" class=\"dataframe\">\n",
       "  <thead>\n",
       "    <tr style=\"text-align: right;\">\n",
       "      <th></th>\n",
       "      <th>Model</th>\n",
       "      <th>LayerNum</th>\n",
       "      <th>PP</th>\n",
       "      <th>MatlMaker</th>\n",
       "      <th>RD</th>\n",
       "      <th>GD</th>\n",
       "      <th>MatlNum</th>\n",
       "      <th>RC</th>\n",
       "      <th>MatlG</th>\n",
       "      <th>Cu1</th>\n",
       "      <th>CP1</th>\n",
       "      <th>Cu2</th>\n",
       "      <th>CP2</th>\n",
       "      <th>Input_T</th>\n",
       "      <th>Thickness</th>\n",
       "    </tr>\n",
       "  </thead>\n",
       "  <tbody>\n",
       "    <tr>\n",
       "      <th>0</th>\n",
       "      <td>1</td>\n",
       "      <td>1</td>\n",
       "      <td>1</td>\n",
       "      <td>DS7402M</td>\n",
       "      <td>1.36</td>\n",
       "      <td>2.56</td>\n",
       "      <td>1080.0</td>\n",
       "      <td>61.0</td>\n",
       "      <td>46.8</td>\n",
       "      <td>8.21</td>\n",
       "      <td>55</td>\n",
       "      <td>14.29</td>\n",
       "      <td>73</td>\n",
       "      <td>60</td>\n",
       "      <td>67.70</td>\n",
       "    </tr>\n",
       "    <tr>\n",
       "      <th>1</th>\n",
       "      <td>1</td>\n",
       "      <td>2</td>\n",
       "      <td>0</td>\n",
       "      <td>DS7402M</td>\n",
       "      <td>1.36</td>\n",
       "      <td>2.56</td>\n",
       "      <td>0.0</td>\n",
       "      <td>0.0</td>\n",
       "      <td>0.0</td>\n",
       "      <td>14.29</td>\n",
       "      <td>73</td>\n",
       "      <td>15.04</td>\n",
       "      <td>56</td>\n",
       "      <td>75</td>\n",
       "      <td>73.71</td>\n",
       "    </tr>\n",
       "    <tr>\n",
       "      <th>2</th>\n",
       "      <td>1</td>\n",
       "      <td>3</td>\n",
       "      <td>1</td>\n",
       "      <td>DS7402M</td>\n",
       "      <td>1.36</td>\n",
       "      <td>2.56</td>\n",
       "      <td>7628.0</td>\n",
       "      <td>47.0</td>\n",
       "      <td>203.4</td>\n",
       "      <td>15.04</td>\n",
       "      <td>56</td>\n",
       "      <td>14.58</td>\n",
       "      <td>46</td>\n",
       "      <td>200</td>\n",
       "      <td>187.25</td>\n",
       "    </tr>\n",
       "    <tr>\n",
       "      <th>3</th>\n",
       "      <td>1</td>\n",
       "      <td>4</td>\n",
       "      <td>0</td>\n",
       "      <td>DS7402M</td>\n",
       "      <td>1.36</td>\n",
       "      <td>2.56</td>\n",
       "      <td>0.0</td>\n",
       "      <td>0.0</td>\n",
       "      <td>0.0</td>\n",
       "      <td>14.58</td>\n",
       "      <td>46</td>\n",
       "      <td>14.29</td>\n",
       "      <td>75</td>\n",
       "      <td>75</td>\n",
       "      <td>77.47</td>\n",
       "    </tr>\n",
       "    <tr>\n",
       "      <th>4</th>\n",
       "      <td>1</td>\n",
       "      <td>5</td>\n",
       "      <td>1</td>\n",
       "      <td>DS7402M</td>\n",
       "      <td>1.36</td>\n",
       "      <td>2.56</td>\n",
       "      <td>3313.0</td>\n",
       "      <td>53.0</td>\n",
       "      <td>81.4</td>\n",
       "      <td>14.29</td>\n",
       "      <td>75</td>\n",
       "      <td>15.04</td>\n",
       "      <td>48</td>\n",
       "      <td>90</td>\n",
       "      <td>80.48</td>\n",
       "    </tr>\n",
       "  </tbody>\n",
       "</table>\n",
       "</div>"
      ],
      "text/plain": [
       "   Model  LayerNum  PP MatlMaker    RD    GD  MatlNum    RC  MatlG    Cu1  \\\n",
       "0      1         1   1   DS7402M  1.36  2.56   1080.0  61.0   46.8   8.21   \n",
       "1      1         2   0   DS7402M  1.36  2.56      0.0   0.0    0.0  14.29   \n",
       "2      1         3   1   DS7402M  1.36  2.56   7628.0  47.0  203.4  15.04   \n",
       "3      1         4   0   DS7402M  1.36  2.56      0.0   0.0    0.0  14.58   \n",
       "4      1         5   1   DS7402M  1.36  2.56   3313.0  53.0   81.4  14.29   \n",
       "\n",
       "   CP1    Cu2  CP2  Input_T  Thickness  \n",
       "0   55  14.29   73       60      67.70  \n",
       "1   73  15.04   56       75      73.71  \n",
       "2   56  14.58   46      200     187.25  \n",
       "3   46  14.29   75       75      77.47  \n",
       "4   75  15.04   48       90      80.48  "
      ]
     },
     "execution_count": 27,
     "metadata": {},
     "output_type": "execute_result"
    }
   ],
   "source": [
    "## 데이터 불러오기\n",
    "data_com = pd.read_excel(r\"C:\\Users\\Samsung\\jupyter\\Project_PCB\\data\\Data_preprocessing5.xlsx\")\n",
    "## 결측값을 \"0\"으로 채우기\n",
    "data_com = data_com.fillna(0)\n",
    "data_com.head()"
   ]
  },
  {
   "cell_type": "code",
   "execution_count": 28,
   "metadata": {},
   "outputs": [],
   "source": [
    "## 사전만들기: MatlG를 통해서 MatlNum을 불러오기 위해\n",
    "dic_glass = {}\n",
    "keys = data_com[\"MatlG\"].groupby(data_com[\"MatlNum\"]).mean().keys()\n",
    "values = data_com[\"MatlG\"].groupby(data_com[\"MatlNum\"]).mean().values\n",
    "for i in range(len(keys)):\n",
    "    dic_glass[keys[i]] = round(values[i],2)\n",
    "## 사전만들기: 위랑 반대로 MatlNum을 통해서 MatlG를 불러올때\n",
    "MatMaker_dic = {}\n",
    "for i in range(len(data_com)):\n",
    "    MatMaker_dic[data_com[\"MatlG\"][i]] = data_com[\"MatlNum\"][i]"
   ]
  },
  {
   "cell_type": "code",
   "execution_count": 29,
   "metadata": {},
   "outputs": [
    {
     "data": {
      "text/html": [
       "<div>\n",
       "<style scoped>\n",
       "    .dataframe tbody tr th:only-of-type {\n",
       "        vertical-align: middle;\n",
       "    }\n",
       "\n",
       "    .dataframe tbody tr th {\n",
       "        vertical-align: top;\n",
       "    }\n",
       "\n",
       "    .dataframe thead th {\n",
       "        text-align: right;\n",
       "    }\n",
       "</style>\n",
       "<table border=\"1\" class=\"dataframe\">\n",
       "  <thead>\n",
       "    <tr style=\"text-align: right;\">\n",
       "      <th></th>\n",
       "      <th>Model</th>\n",
       "      <th>LayerNum</th>\n",
       "      <th>PP</th>\n",
       "      <th>MatlMaker</th>\n",
       "      <th>RC</th>\n",
       "      <th>MatlG</th>\n",
       "      <th>Cu1</th>\n",
       "      <th>CP1</th>\n",
       "      <th>Cu2</th>\n",
       "      <th>CP2</th>\n",
       "      <th>Input_T</th>\n",
       "      <th>Thickness</th>\n",
       "    </tr>\n",
       "  </thead>\n",
       "  <tbody>\n",
       "    <tr>\n",
       "      <th>0</th>\n",
       "      <td>1</td>\n",
       "      <td>1</td>\n",
       "      <td>1</td>\n",
       "      <td>DS7402M</td>\n",
       "      <td>61.0</td>\n",
       "      <td>46.8</td>\n",
       "      <td>8.21</td>\n",
       "      <td>55</td>\n",
       "      <td>14.29</td>\n",
       "      <td>73</td>\n",
       "      <td>60</td>\n",
       "      <td>67.70</td>\n",
       "    </tr>\n",
       "    <tr>\n",
       "      <th>1</th>\n",
       "      <td>1</td>\n",
       "      <td>2</td>\n",
       "      <td>0</td>\n",
       "      <td>DS7402M</td>\n",
       "      <td>0.0</td>\n",
       "      <td>0.0</td>\n",
       "      <td>14.29</td>\n",
       "      <td>73</td>\n",
       "      <td>15.04</td>\n",
       "      <td>56</td>\n",
       "      <td>75</td>\n",
       "      <td>73.71</td>\n",
       "    </tr>\n",
       "    <tr>\n",
       "      <th>2</th>\n",
       "      <td>1</td>\n",
       "      <td>3</td>\n",
       "      <td>1</td>\n",
       "      <td>DS7402M</td>\n",
       "      <td>47.0</td>\n",
       "      <td>203.4</td>\n",
       "      <td>15.04</td>\n",
       "      <td>56</td>\n",
       "      <td>14.58</td>\n",
       "      <td>46</td>\n",
       "      <td>200</td>\n",
       "      <td>187.25</td>\n",
       "    </tr>\n",
       "    <tr>\n",
       "      <th>3</th>\n",
       "      <td>1</td>\n",
       "      <td>4</td>\n",
       "      <td>0</td>\n",
       "      <td>DS7402M</td>\n",
       "      <td>0.0</td>\n",
       "      <td>0.0</td>\n",
       "      <td>14.58</td>\n",
       "      <td>46</td>\n",
       "      <td>14.29</td>\n",
       "      <td>75</td>\n",
       "      <td>75</td>\n",
       "      <td>77.47</td>\n",
       "    </tr>\n",
       "    <tr>\n",
       "      <th>4</th>\n",
       "      <td>1</td>\n",
       "      <td>5</td>\n",
       "      <td>1</td>\n",
       "      <td>DS7402M</td>\n",
       "      <td>53.0</td>\n",
       "      <td>81.4</td>\n",
       "      <td>14.29</td>\n",
       "      <td>75</td>\n",
       "      <td>15.04</td>\n",
       "      <td>48</td>\n",
       "      <td>90</td>\n",
       "      <td>80.48</td>\n",
       "    </tr>\n",
       "  </tbody>\n",
       "</table>\n",
       "</div>"
      ],
      "text/plain": [
       "   Model  LayerNum  PP MatlMaker    RC  MatlG    Cu1  CP1    Cu2  CP2  \\\n",
       "0      1         1   1   DS7402M  61.0   46.8   8.21   55  14.29   73   \n",
       "1      1         2   0   DS7402M   0.0    0.0  14.29   73  15.04   56   \n",
       "2      1         3   1   DS7402M  47.0  203.4  15.04   56  14.58   46   \n",
       "3      1         4   0   DS7402M   0.0    0.0  14.58   46  14.29   75   \n",
       "4      1         5   1   DS7402M  53.0   81.4  14.29   75  15.04   48   \n",
       "\n",
       "   Input_T  Thickness  \n",
       "0       60      67.70  \n",
       "1       75      73.71  \n",
       "2      200     187.25  \n",
       "3       75      77.47  \n",
       "4       90      80.48  "
      ]
     },
     "execution_count": 29,
     "metadata": {},
     "output_type": "execute_result"
    }
   ],
   "source": [
    "## 사전 만들었으니 필요 없는 columns 지우기 \n",
    "data_com = data_com.drop(columns=[\"RD\",\"GD\",\"MatlNum\"])\n",
    "data_com.head()"
   ]
  },
  {
   "cell_type": "code",
   "execution_count": 30,
   "metadata": {},
   "outputs": [],
   "source": [
    "## 사용자함수(def_1): 각 Model 별 하나의 Blind testset(set: 1층~n층) 추출하기\n",
    "def extraction_dataset(data_2,number):\n",
    "    \"\"\"\n",
    "    data_2 = 전체 data\n",
    "    number = 추출하려고 하는 model(:1~65)\n",
    "    \"\"\"\n",
    "    ### 전체 data에서 model=\"number\"인 것만 지정\n",
    "    test_model = data_2[data_2[\"Model\"]==number]\n",
    "    \n",
    "    ### 하나의 set를 가져오기 위해서, model에 있는 layer값들을 정렬(1층~...)\n",
    "    a = list(test_model[\"LayerNum\"].value_counts().sort_index().keys())\n",
    "    a_index = [i-1 for i in a]\n",
    "    ## 뽑아내기\n",
    "    df_ = test_model.iloc[a_index,:]\n",
    "    return df_"
   ]
  },
  {
   "cell_type": "code",
   "execution_count": 31,
   "metadata": {},
   "outputs": [],
   "source": [
    "### model_list = model_1 ~ model_64 \n",
    "model_list = list(data_com[\"Model\"].value_counts().keys())\n",
    "\n",
    "\n",
    "testset_dic = {}\n",
    "\n",
    "### test_list:  뽑힌 정보의 index 정보를 저장하기 위해서 이용\n",
    "#blinde testset으로 뽑힌 데이터는 train 할때 제거해야 하기 때문에,\n",
    "\n",
    "testset_list = []\n",
    "for mo in model_list:\n",
    "    ### 각 model의 testset을 model_(n) 이름의 변수로 저장하기\n",
    "    \"\"\"\n",
    "    사용자함수: extraction_dataset\n",
    "    \"\"\"\n",
    "    globals () [\"model_{}\".format(mo)] = extraction_dataset(data_com,mo)\n",
    "    testset_list.append(globals () [\"model_{}\".format(mo)])\n",
    "    testset_dic[\"model_{}\".format(mo)] = globals () [\"model_{}\".format(mo)]"
   ]
  },
  {
   "cell_type": "code",
   "execution_count": 32,
   "metadata": {},
   "outputs": [
    {
     "data": {
      "text/html": [
       "<div>\n",
       "<style scoped>\n",
       "    .dataframe tbody tr th:only-of-type {\n",
       "        vertical-align: middle;\n",
       "    }\n",
       "\n",
       "    .dataframe tbody tr th {\n",
       "        vertical-align: top;\n",
       "    }\n",
       "\n",
       "    .dataframe thead th {\n",
       "        text-align: right;\n",
       "    }\n",
       "</style>\n",
       "<table border=\"1\" class=\"dataframe\">\n",
       "  <thead>\n",
       "    <tr style=\"text-align: right;\">\n",
       "      <th></th>\n",
       "      <th>Model</th>\n",
       "      <th>LayerNum</th>\n",
       "      <th>PP</th>\n",
       "      <th>MatlMaker</th>\n",
       "      <th>RC</th>\n",
       "      <th>MatlG</th>\n",
       "      <th>Cu1</th>\n",
       "      <th>CP1</th>\n",
       "      <th>Cu2</th>\n",
       "      <th>CP2</th>\n",
       "      <th>Input_T</th>\n",
       "      <th>Thickness</th>\n",
       "      <th>MatlMaker_cate</th>\n",
       "    </tr>\n",
       "  </thead>\n",
       "  <tbody>\n",
       "    <tr>\n",
       "      <th>0</th>\n",
       "      <td>1</td>\n",
       "      <td>1</td>\n",
       "      <td>1</td>\n",
       "      <td>DS7402M</td>\n",
       "      <td>61.0</td>\n",
       "      <td>46.8</td>\n",
       "      <td>8.21</td>\n",
       "      <td>55</td>\n",
       "      <td>14.29</td>\n",
       "      <td>73</td>\n",
       "      <td>60</td>\n",
       "      <td>67.70</td>\n",
       "      <td>1</td>\n",
       "    </tr>\n",
       "    <tr>\n",
       "      <th>1</th>\n",
       "      <td>1</td>\n",
       "      <td>2</td>\n",
       "      <td>0</td>\n",
       "      <td>DS7402M</td>\n",
       "      <td>0.0</td>\n",
       "      <td>0.0</td>\n",
       "      <td>14.29</td>\n",
       "      <td>73</td>\n",
       "      <td>15.04</td>\n",
       "      <td>56</td>\n",
       "      <td>75</td>\n",
       "      <td>73.71</td>\n",
       "      <td>1</td>\n",
       "    </tr>\n",
       "    <tr>\n",
       "      <th>2</th>\n",
       "      <td>1</td>\n",
       "      <td>3</td>\n",
       "      <td>1</td>\n",
       "      <td>DS7402M</td>\n",
       "      <td>47.0</td>\n",
       "      <td>203.4</td>\n",
       "      <td>15.04</td>\n",
       "      <td>56</td>\n",
       "      <td>14.58</td>\n",
       "      <td>46</td>\n",
       "      <td>200</td>\n",
       "      <td>187.25</td>\n",
       "      <td>1</td>\n",
       "    </tr>\n",
       "    <tr>\n",
       "      <th>3</th>\n",
       "      <td>1</td>\n",
       "      <td>4</td>\n",
       "      <td>0</td>\n",
       "      <td>DS7402M</td>\n",
       "      <td>0.0</td>\n",
       "      <td>0.0</td>\n",
       "      <td>14.58</td>\n",
       "      <td>46</td>\n",
       "      <td>14.29</td>\n",
       "      <td>75</td>\n",
       "      <td>75</td>\n",
       "      <td>77.47</td>\n",
       "      <td>1</td>\n",
       "    </tr>\n",
       "    <tr>\n",
       "      <th>4</th>\n",
       "      <td>1</td>\n",
       "      <td>5</td>\n",
       "      <td>1</td>\n",
       "      <td>DS7402M</td>\n",
       "      <td>53.0</td>\n",
       "      <td>81.4</td>\n",
       "      <td>14.29</td>\n",
       "      <td>75</td>\n",
       "      <td>15.04</td>\n",
       "      <td>48</td>\n",
       "      <td>90</td>\n",
       "      <td>80.48</td>\n",
       "      <td>1</td>\n",
       "    </tr>\n",
       "  </tbody>\n",
       "</table>\n",
       "</div>"
      ],
      "text/plain": [
       "   Model  LayerNum  PP MatlMaker    RC  MatlG    Cu1  CP1    Cu2  CP2  \\\n",
       "0      1         1   1   DS7402M  61.0   46.8   8.21   55  14.29   73   \n",
       "1      1         2   0   DS7402M   0.0    0.0  14.29   73  15.04   56   \n",
       "2      1         3   1   DS7402M  47.0  203.4  15.04   56  14.58   46   \n",
       "3      1         4   0   DS7402M   0.0    0.0  14.58   46  14.29   75   \n",
       "4      1         5   1   DS7402M  53.0   81.4  14.29   75  15.04   48   \n",
       "\n",
       "   Input_T  Thickness  MatlMaker_cate  \n",
       "0       60      67.70               1  \n",
       "1       75      73.71               1  \n",
       "2      200     187.25               1  \n",
       "3       75      77.47               1  \n",
       "4       90      80.48               1  "
      ]
     },
     "execution_count": 32,
     "metadata": {},
     "output_type": "execute_result"
    }
   ],
   "source": [
    "data_com2 = data_com.copy()\n",
    "data_com2[\"MatlMaker_cate\"] = data_com2[\"MatlMaker\"].astype(\"category\")\n",
    "cat_col = data_com2.select_dtypes([\"category\"]).columns\n",
    "data_com2[cat_col] = data_com2[cat_col].apply(lambda x: x.cat.codes)\n",
    "#data_com2= data_com2.drop(columns=\"MatlMaker\")    \n",
    "data_com2.head()"
   ]
  },
  {
   "cell_type": "code",
   "execution_count": 33,
   "metadata": {},
   "outputs": [],
   "source": [
    "### total 용으로 \n",
    "model_list_2 = list(data_com2[\"Model\"].value_counts().keys())\n",
    "\n",
    "\n",
    "testset_dic_2 = {}\n",
    "\n",
    "### test_list:  뽑힌 정보의 index 정보를 저장하기 위해서 이용\n",
    "#blinde testset으로 뽑힌 데이터는 train 할때 제거해야 하기 때문에,\n",
    "\n",
    "testset_list_2 = []\n",
    "for mo in model_list_2:\n",
    "    ### 각 model의 testset을 model_(n) 이름의 변수로 저장하기\n",
    "    \"\"\"\n",
    "    사용자함수: extraction_dataset\n",
    "    \"\"\"\n",
    "    globals () [\"model_{}_total\".format(mo)] = extraction_dataset(data_com2,mo)\n",
    "    testset_list_2.append(globals () [\"model_{}_total\".format(mo)])\n",
    "    testset_dic_2[\"model_{}_total\".format(mo)] = globals () [\"model_{}\".format(mo)]"
   ]
  },
  {
   "cell_type": "code",
   "execution_count": 34,
   "metadata": {
    "scrolled": true
   },
   "outputs": [
    {
     "data": {
      "text/html": [
       "<div>\n",
       "<style scoped>\n",
       "    .dataframe tbody tr th:only-of-type {\n",
       "        vertical-align: middle;\n",
       "    }\n",
       "\n",
       "    .dataframe tbody tr th {\n",
       "        vertical-align: top;\n",
       "    }\n",
       "\n",
       "    .dataframe thead th {\n",
       "        text-align: right;\n",
       "    }\n",
       "</style>\n",
       "<table border=\"1\" class=\"dataframe\">\n",
       "  <thead>\n",
       "    <tr style=\"text-align: right;\">\n",
       "      <th></th>\n",
       "      <th>Model</th>\n",
       "      <th>LayerNum</th>\n",
       "      <th>PP</th>\n",
       "      <th>MatlMaker</th>\n",
       "      <th>RC</th>\n",
       "      <th>MatlG</th>\n",
       "      <th>Cu1</th>\n",
       "      <th>CP1</th>\n",
       "      <th>Cu2</th>\n",
       "      <th>CP2</th>\n",
       "      <th>Input_T</th>\n",
       "      <th>Thickness</th>\n",
       "    </tr>\n",
       "  </thead>\n",
       "  <tbody>\n",
       "    <tr>\n",
       "      <th>0</th>\n",
       "      <td>1</td>\n",
       "      <td>1</td>\n",
       "      <td>1</td>\n",
       "      <td>DS7402M</td>\n",
       "      <td>61.0</td>\n",
       "      <td>46.8</td>\n",
       "      <td>8.21</td>\n",
       "      <td>55</td>\n",
       "      <td>14.29</td>\n",
       "      <td>73</td>\n",
       "      <td>60</td>\n",
       "      <td>67.70</td>\n",
       "    </tr>\n",
       "    <tr>\n",
       "      <th>1</th>\n",
       "      <td>1</td>\n",
       "      <td>2</td>\n",
       "      <td>0</td>\n",
       "      <td>DS7402M</td>\n",
       "      <td>0.0</td>\n",
       "      <td>0.0</td>\n",
       "      <td>14.29</td>\n",
       "      <td>73</td>\n",
       "      <td>15.04</td>\n",
       "      <td>56</td>\n",
       "      <td>75</td>\n",
       "      <td>73.71</td>\n",
       "    </tr>\n",
       "    <tr>\n",
       "      <th>2</th>\n",
       "      <td>1</td>\n",
       "      <td>3</td>\n",
       "      <td>1</td>\n",
       "      <td>DS7402M</td>\n",
       "      <td>47.0</td>\n",
       "      <td>203.4</td>\n",
       "      <td>15.04</td>\n",
       "      <td>56</td>\n",
       "      <td>14.58</td>\n",
       "      <td>46</td>\n",
       "      <td>200</td>\n",
       "      <td>187.25</td>\n",
       "    </tr>\n",
       "    <tr>\n",
       "      <th>3</th>\n",
       "      <td>1</td>\n",
       "      <td>4</td>\n",
       "      <td>0</td>\n",
       "      <td>DS7402M</td>\n",
       "      <td>0.0</td>\n",
       "      <td>0.0</td>\n",
       "      <td>14.58</td>\n",
       "      <td>46</td>\n",
       "      <td>14.29</td>\n",
       "      <td>75</td>\n",
       "      <td>75</td>\n",
       "      <td>77.47</td>\n",
       "    </tr>\n",
       "    <tr>\n",
       "      <th>4</th>\n",
       "      <td>1</td>\n",
       "      <td>5</td>\n",
       "      <td>1</td>\n",
       "      <td>DS7402M</td>\n",
       "      <td>53.0</td>\n",
       "      <td>81.4</td>\n",
       "      <td>14.29</td>\n",
       "      <td>75</td>\n",
       "      <td>15.04</td>\n",
       "      <td>48</td>\n",
       "      <td>90</td>\n",
       "      <td>80.48</td>\n",
       "    </tr>\n",
       "    <tr>\n",
       "      <th>5</th>\n",
       "      <td>1</td>\n",
       "      <td>6</td>\n",
       "      <td>0</td>\n",
       "      <td>DS7402M</td>\n",
       "      <td>0.0</td>\n",
       "      <td>0.0</td>\n",
       "      <td>15.04</td>\n",
       "      <td>48</td>\n",
       "      <td>14.29</td>\n",
       "      <td>48</td>\n",
       "      <td>180</td>\n",
       "      <td>173.75</td>\n",
       "    </tr>\n",
       "    <tr>\n",
       "      <th>6</th>\n",
       "      <td>1</td>\n",
       "      <td>7</td>\n",
       "      <td>1</td>\n",
       "      <td>DS7402M</td>\n",
       "      <td>53.0</td>\n",
       "      <td>81.4</td>\n",
       "      <td>14.29</td>\n",
       "      <td>48</td>\n",
       "      <td>14.29</td>\n",
       "      <td>75</td>\n",
       "      <td>90</td>\n",
       "      <td>81.44</td>\n",
       "    </tr>\n",
       "    <tr>\n",
       "      <th>7</th>\n",
       "      <td>1</td>\n",
       "      <td>8</td>\n",
       "      <td>0</td>\n",
       "      <td>DS7402M</td>\n",
       "      <td>0.0</td>\n",
       "      <td>0.0</td>\n",
       "      <td>14.29</td>\n",
       "      <td>75</td>\n",
       "      <td>15.04</td>\n",
       "      <td>50</td>\n",
       "      <td>75</td>\n",
       "      <td>73.71</td>\n",
       "    </tr>\n",
       "    <tr>\n",
       "      <th>8</th>\n",
       "      <td>1</td>\n",
       "      <td>9</td>\n",
       "      <td>1</td>\n",
       "      <td>DS7402M</td>\n",
       "      <td>47.0</td>\n",
       "      <td>203.4</td>\n",
       "      <td>15.04</td>\n",
       "      <td>50</td>\n",
       "      <td>15.80</td>\n",
       "      <td>60</td>\n",
       "      <td>200</td>\n",
       "      <td>193.23</td>\n",
       "    </tr>\n",
       "    <tr>\n",
       "      <th>9</th>\n",
       "      <td>1</td>\n",
       "      <td>10</td>\n",
       "      <td>0</td>\n",
       "      <td>DS7402M</td>\n",
       "      <td>0.0</td>\n",
       "      <td>0.0</td>\n",
       "      <td>15.80</td>\n",
       "      <td>60</td>\n",
       "      <td>15.04</td>\n",
       "      <td>73</td>\n",
       "      <td>75</td>\n",
       "      <td>75.97</td>\n",
       "    </tr>\n",
       "    <tr>\n",
       "      <th>10</th>\n",
       "      <td>1</td>\n",
       "      <td>11</td>\n",
       "      <td>1</td>\n",
       "      <td>DS7402M</td>\n",
       "      <td>61.0</td>\n",
       "      <td>46.8</td>\n",
       "      <td>15.04</td>\n",
       "      <td>73</td>\n",
       "      <td>8.05</td>\n",
       "      <td>56</td>\n",
       "      <td>60</td>\n",
       "      <td>65.44</td>\n",
       "    </tr>\n",
       "  </tbody>\n",
       "</table>\n",
       "</div>"
      ],
      "text/plain": [
       "    Model  LayerNum  PP MatlMaker    RC  MatlG    Cu1  CP1    Cu2  CP2  \\\n",
       "0       1         1   1   DS7402M  61.0   46.8   8.21   55  14.29   73   \n",
       "1       1         2   0   DS7402M   0.0    0.0  14.29   73  15.04   56   \n",
       "2       1         3   1   DS7402M  47.0  203.4  15.04   56  14.58   46   \n",
       "3       1         4   0   DS7402M   0.0    0.0  14.58   46  14.29   75   \n",
       "4       1         5   1   DS7402M  53.0   81.4  14.29   75  15.04   48   \n",
       "5       1         6   0   DS7402M   0.0    0.0  15.04   48  14.29   48   \n",
       "6       1         7   1   DS7402M  53.0   81.4  14.29   48  14.29   75   \n",
       "7       1         8   0   DS7402M   0.0    0.0  14.29   75  15.04   50   \n",
       "8       1         9   1   DS7402M  47.0  203.4  15.04   50  15.80   60   \n",
       "9       1        10   0   DS7402M   0.0    0.0  15.80   60  15.04   73   \n",
       "10      1        11   1   DS7402M  61.0   46.8  15.04   73   8.05   56   \n",
       "\n",
       "    Input_T  Thickness  \n",
       "0        60      67.70  \n",
       "1        75      73.71  \n",
       "2       200     187.25  \n",
       "3        75      77.47  \n",
       "4        90      80.48  \n",
       "5       180     173.75  \n",
       "6        90      81.44  \n",
       "7        75      73.71  \n",
       "8       200     193.23  \n",
       "9        75      75.97  \n",
       "10       60      65.44  "
      ]
     },
     "execution_count": 34,
     "metadata": {},
     "output_type": "execute_result"
    }
   ],
   "source": [
    "## 예시: model_1 의 testset 불러오기\n",
    "testset_dic[\"model_1\"]"
   ]
  },
  {
   "cell_type": "code",
   "execution_count": 35,
   "metadata": {},
   "outputs": [],
   "source": [
    "### train 할 데이터에서 Blind에서 뽑힌 데이터 제거하기\n",
    "# 위의 testset_list 이용\n",
    "drop_index = []\n",
    "for i in testset_list:\n",
    "    drop_index.extend(list(i.index))\n",
    "data_drop = data_com.drop(drop_index).reset_index(drop=True)\n",
    "\n",
    "### 제거된 데이터 = data_drop: 학습에 이용"
   ]
  },
  {
   "cell_type": "code",
   "execution_count": 36,
   "metadata": {},
   "outputs": [
    {
     "data": {
      "text/html": [
       "<div>\n",
       "<style scoped>\n",
       "    .dataframe tbody tr th:only-of-type {\n",
       "        vertical-align: middle;\n",
       "    }\n",
       "\n",
       "    .dataframe tbody tr th {\n",
       "        vertical-align: top;\n",
       "    }\n",
       "\n",
       "    .dataframe thead th {\n",
       "        text-align: right;\n",
       "    }\n",
       "</style>\n",
       "<table border=\"1\" class=\"dataframe\">\n",
       "  <thead>\n",
       "    <tr style=\"text-align: right;\">\n",
       "      <th></th>\n",
       "      <th>Model</th>\n",
       "      <th>LayerNum</th>\n",
       "      <th>PP</th>\n",
       "      <th>MatlMaker</th>\n",
       "      <th>RC</th>\n",
       "      <th>MatlG</th>\n",
       "      <th>Cu1</th>\n",
       "      <th>CP1</th>\n",
       "      <th>Cu2</th>\n",
       "      <th>CP2</th>\n",
       "      <th>Input_T</th>\n",
       "      <th>Thickness</th>\n",
       "    </tr>\n",
       "  </thead>\n",
       "  <tbody>\n",
       "    <tr>\n",
       "      <th>0</th>\n",
       "      <td>1</td>\n",
       "      <td>1</td>\n",
       "      <td>1</td>\n",
       "      <td>DS7402M</td>\n",
       "      <td>61.0</td>\n",
       "      <td>46.8</td>\n",
       "      <td>8.37</td>\n",
       "      <td>55</td>\n",
       "      <td>14.29</td>\n",
       "      <td>73</td>\n",
       "      <td>60</td>\n",
       "      <td>66.19</td>\n",
       "    </tr>\n",
       "    <tr>\n",
       "      <th>1</th>\n",
       "      <td>1</td>\n",
       "      <td>2</td>\n",
       "      <td>0</td>\n",
       "      <td>DS7402M</td>\n",
       "      <td>0.0</td>\n",
       "      <td>0.0</td>\n",
       "      <td>14.29</td>\n",
       "      <td>73</td>\n",
       "      <td>15.04</td>\n",
       "      <td>56</td>\n",
       "      <td>75</td>\n",
       "      <td>74.47</td>\n",
       "    </tr>\n",
       "    <tr>\n",
       "      <th>2</th>\n",
       "      <td>1</td>\n",
       "      <td>3</td>\n",
       "      <td>1</td>\n",
       "      <td>DS7402M</td>\n",
       "      <td>47.0</td>\n",
       "      <td>203.4</td>\n",
       "      <td>15.04</td>\n",
       "      <td>56</td>\n",
       "      <td>15.04</td>\n",
       "      <td>46</td>\n",
       "      <td>200</td>\n",
       "      <td>196.32</td>\n",
       "    </tr>\n",
       "    <tr>\n",
       "      <th>3</th>\n",
       "      <td>1</td>\n",
       "      <td>4</td>\n",
       "      <td>0</td>\n",
       "      <td>DS7402M</td>\n",
       "      <td>0.0</td>\n",
       "      <td>0.0</td>\n",
       "      <td>15.04</td>\n",
       "      <td>46</td>\n",
       "      <td>15.04</td>\n",
       "      <td>75</td>\n",
       "      <td>75</td>\n",
       "      <td>75.22</td>\n",
       "    </tr>\n",
       "    <tr>\n",
       "      <th>4</th>\n",
       "      <td>1</td>\n",
       "      <td>5</td>\n",
       "      <td>1</td>\n",
       "      <td>DS7402M</td>\n",
       "      <td>53.0</td>\n",
       "      <td>81.4</td>\n",
       "      <td>15.04</td>\n",
       "      <td>75</td>\n",
       "      <td>15.04</td>\n",
       "      <td>48</td>\n",
       "      <td>90</td>\n",
       "      <td>82.26</td>\n",
       "    </tr>\n",
       "  </tbody>\n",
       "</table>\n",
       "</div>"
      ],
      "text/plain": [
       "   Model  LayerNum  PP MatlMaker    RC  MatlG    Cu1  CP1    Cu2  CP2  \\\n",
       "0      1         1   1   DS7402M  61.0   46.8   8.37   55  14.29   73   \n",
       "1      1         2   0   DS7402M   0.0    0.0  14.29   73  15.04   56   \n",
       "2      1         3   1   DS7402M  47.0  203.4  15.04   56  15.04   46   \n",
       "3      1         4   0   DS7402M   0.0    0.0  15.04   46  15.04   75   \n",
       "4      1         5   1   DS7402M  53.0   81.4  15.04   75  15.04   48   \n",
       "\n",
       "   Input_T  Thickness  \n",
       "0       60      66.19  \n",
       "1       75      74.47  \n",
       "2      200     196.32  \n",
       "3       75      75.22  \n",
       "4       90      82.26  "
      ]
     },
     "execution_count": 36,
     "metadata": {},
     "output_type": "execute_result"
    }
   ],
   "source": [
    "data_drop.head()"
   ]
  },
  {
   "cell_type": "code",
   "execution_count": 37,
   "metadata": {},
   "outputs": [
    {
     "data": {
      "text/html": [
       "<div>\n",
       "<style scoped>\n",
       "    .dataframe tbody tr th:only-of-type {\n",
       "        vertical-align: middle;\n",
       "    }\n",
       "\n",
       "    .dataframe tbody tr th {\n",
       "        vertical-align: top;\n",
       "    }\n",
       "\n",
       "    .dataframe thead th {\n",
       "        text-align: right;\n",
       "    }\n",
       "</style>\n",
       "<table border=\"1\" class=\"dataframe\">\n",
       "  <thead>\n",
       "    <tr style=\"text-align: right;\">\n",
       "      <th></th>\n",
       "      <th>Model</th>\n",
       "      <th>LayerNum</th>\n",
       "      <th>PP</th>\n",
       "      <th>MatlMaker</th>\n",
       "      <th>RC</th>\n",
       "      <th>MatlG</th>\n",
       "      <th>Cu1</th>\n",
       "      <th>CP1</th>\n",
       "      <th>Cu2</th>\n",
       "      <th>CP2</th>\n",
       "      <th>Input_T</th>\n",
       "      <th>Thickness</th>\n",
       "    </tr>\n",
       "  </thead>\n",
       "  <tbody>\n",
       "    <tr>\n",
       "      <th>0</th>\n",
       "      <td>0</td>\n",
       "      <td>1</td>\n",
       "      <td>1</td>\n",
       "      <td>All</td>\n",
       "      <td>61.0</td>\n",
       "      <td>46.8</td>\n",
       "      <td>8.37</td>\n",
       "      <td>55</td>\n",
       "      <td>14.29</td>\n",
       "      <td>73</td>\n",
       "      <td>60</td>\n",
       "      <td>66.19</td>\n",
       "    </tr>\n",
       "    <tr>\n",
       "      <th>1</th>\n",
       "      <td>0</td>\n",
       "      <td>2</td>\n",
       "      <td>0</td>\n",
       "      <td>All</td>\n",
       "      <td>0.0</td>\n",
       "      <td>0.0</td>\n",
       "      <td>14.29</td>\n",
       "      <td>73</td>\n",
       "      <td>15.04</td>\n",
       "      <td>56</td>\n",
       "      <td>75</td>\n",
       "      <td>74.47</td>\n",
       "    </tr>\n",
       "    <tr>\n",
       "      <th>2</th>\n",
       "      <td>0</td>\n",
       "      <td>3</td>\n",
       "      <td>1</td>\n",
       "      <td>All</td>\n",
       "      <td>47.0</td>\n",
       "      <td>203.4</td>\n",
       "      <td>15.04</td>\n",
       "      <td>56</td>\n",
       "      <td>15.04</td>\n",
       "      <td>46</td>\n",
       "      <td>200</td>\n",
       "      <td>196.32</td>\n",
       "    </tr>\n",
       "    <tr>\n",
       "      <th>3</th>\n",
       "      <td>0</td>\n",
       "      <td>4</td>\n",
       "      <td>0</td>\n",
       "      <td>All</td>\n",
       "      <td>0.0</td>\n",
       "      <td>0.0</td>\n",
       "      <td>15.04</td>\n",
       "      <td>46</td>\n",
       "      <td>15.04</td>\n",
       "      <td>75</td>\n",
       "      <td>75</td>\n",
       "      <td>75.22</td>\n",
       "    </tr>\n",
       "    <tr>\n",
       "      <th>4</th>\n",
       "      <td>0</td>\n",
       "      <td>5</td>\n",
       "      <td>1</td>\n",
       "      <td>All</td>\n",
       "      <td>53.0</td>\n",
       "      <td>81.4</td>\n",
       "      <td>15.04</td>\n",
       "      <td>75</td>\n",
       "      <td>15.04</td>\n",
       "      <td>48</td>\n",
       "      <td>90</td>\n",
       "      <td>82.26</td>\n",
       "    </tr>\n",
       "  </tbody>\n",
       "</table>\n",
       "</div>"
      ],
      "text/plain": [
       "  Model  LayerNum  PP MatlMaker    RC  MatlG    Cu1  CP1    Cu2  CP2  Input_T  \\\n",
       "0     0         1   1       All  61.0   46.8   8.37   55  14.29   73       60   \n",
       "1     0         2   0       All   0.0    0.0  14.29   73  15.04   56       75   \n",
       "2     0         3   1       All  47.0  203.4  15.04   56  15.04   46      200   \n",
       "3     0         4   0       All   0.0    0.0  15.04   46  15.04   75       75   \n",
       "4     0         5   1       All  53.0   81.4  15.04   75  15.04   48       90   \n",
       "\n",
       "   Thickness  \n",
       "0      66.19  \n",
       "1      74.47  \n",
       "2     196.32  \n",
       "3      75.22  \n",
       "4      82.26  "
      ]
     },
     "execution_count": 37,
     "metadata": {},
     "output_type": "execute_result"
    }
   ],
   "source": [
    "data_total = data_drop.copy()\n",
    "data_total[\"Model\"] = \"0\"\n",
    "data_total[\"MatlMaker\"] = \"All\"\n",
    "data_total.head()"
   ]
  },
  {
   "cell_type": "code",
   "execution_count": 38,
   "metadata": {},
   "outputs": [
    {
     "data": {
      "text/html": [
       "<div>\n",
       "<style scoped>\n",
       "    .dataframe tbody tr th:only-of-type {\n",
       "        vertical-align: middle;\n",
       "    }\n",
       "\n",
       "    .dataframe tbody tr th {\n",
       "        vertical-align: top;\n",
       "    }\n",
       "\n",
       "    .dataframe thead th {\n",
       "        text-align: right;\n",
       "    }\n",
       "</style>\n",
       "<table border=\"1\" class=\"dataframe\">\n",
       "  <thead>\n",
       "    <tr style=\"text-align: right;\">\n",
       "      <th></th>\n",
       "      <th>Model</th>\n",
       "      <th>LayerNum</th>\n",
       "      <th>PP</th>\n",
       "      <th>MatlMaker</th>\n",
       "      <th>RC</th>\n",
       "      <th>MatlG</th>\n",
       "      <th>Cu1</th>\n",
       "      <th>CP1</th>\n",
       "      <th>Cu2</th>\n",
       "      <th>CP2</th>\n",
       "      <th>Input_T</th>\n",
       "      <th>Thickness</th>\n",
       "    </tr>\n",
       "  </thead>\n",
       "  <tbody>\n",
       "    <tr>\n",
       "      <th>0</th>\n",
       "      <td>1</td>\n",
       "      <td>1</td>\n",
       "      <td>1</td>\n",
       "      <td>DS7402M</td>\n",
       "      <td>61.0</td>\n",
       "      <td>46.8</td>\n",
       "      <td>8.37</td>\n",
       "      <td>55</td>\n",
       "      <td>14.29</td>\n",
       "      <td>73</td>\n",
       "      <td>60</td>\n",
       "      <td>66.19</td>\n",
       "    </tr>\n",
       "    <tr>\n",
       "      <th>2</th>\n",
       "      <td>1</td>\n",
       "      <td>3</td>\n",
       "      <td>1</td>\n",
       "      <td>DS7402M</td>\n",
       "      <td>47.0</td>\n",
       "      <td>203.4</td>\n",
       "      <td>15.04</td>\n",
       "      <td>56</td>\n",
       "      <td>15.04</td>\n",
       "      <td>46</td>\n",
       "      <td>200</td>\n",
       "      <td>196.32</td>\n",
       "    </tr>\n",
       "    <tr>\n",
       "      <th>4</th>\n",
       "      <td>1</td>\n",
       "      <td>5</td>\n",
       "      <td>1</td>\n",
       "      <td>DS7402M</td>\n",
       "      <td>53.0</td>\n",
       "      <td>81.4</td>\n",
       "      <td>15.04</td>\n",
       "      <td>75</td>\n",
       "      <td>15.04</td>\n",
       "      <td>48</td>\n",
       "      <td>90</td>\n",
       "      <td>82.26</td>\n",
       "    </tr>\n",
       "    <tr>\n",
       "      <th>6</th>\n",
       "      <td>1</td>\n",
       "      <td>7</td>\n",
       "      <td>1</td>\n",
       "      <td>DS7402M</td>\n",
       "      <td>53.0</td>\n",
       "      <td>81.4</td>\n",
       "      <td>14.58</td>\n",
       "      <td>48</td>\n",
       "      <td>14.58</td>\n",
       "      <td>75</td>\n",
       "      <td>90</td>\n",
       "      <td>80.48</td>\n",
       "    </tr>\n",
       "    <tr>\n",
       "      <th>8</th>\n",
       "      <td>1</td>\n",
       "      <td>9</td>\n",
       "      <td>1</td>\n",
       "      <td>DS7402M</td>\n",
       "      <td>47.0</td>\n",
       "      <td>203.4</td>\n",
       "      <td>15.80</td>\n",
       "      <td>50</td>\n",
       "      <td>15.04</td>\n",
       "      <td>60</td>\n",
       "      <td>200</td>\n",
       "      <td>202.85</td>\n",
       "    </tr>\n",
       "  </tbody>\n",
       "</table>\n",
       "</div>"
      ],
      "text/plain": [
       "   Model  LayerNum  PP MatlMaker    RC  MatlG    Cu1  CP1    Cu2  CP2  \\\n",
       "0      1         1   1   DS7402M  61.0   46.8   8.37   55  14.29   73   \n",
       "2      1         3   1   DS7402M  47.0  203.4  15.04   56  15.04   46   \n",
       "4      1         5   1   DS7402M  53.0   81.4  15.04   75  15.04   48   \n",
       "6      1         7   1   DS7402M  53.0   81.4  14.58   48  14.58   75   \n",
       "8      1         9   1   DS7402M  47.0  203.4  15.80   50  15.04   60   \n",
       "\n",
       "   Input_T  Thickness  \n",
       "0       60      66.19  \n",
       "2      200     196.32  \n",
       "4       90      82.26  \n",
       "6       90      80.48  \n",
       "8      200     202.85  "
      ]
     },
     "execution_count": 38,
     "metadata": {},
     "output_type": "execute_result"
    }
   ],
   "source": [
    "### 이번에는 pp층만 불러오기\n",
    "data_pp = data_drop[data_drop[\"PP\"]==1]\n",
    "data_pp.head()"
   ]
  },
  {
   "cell_type": "code",
   "execution_count": 39,
   "metadata": {},
   "outputs": [],
   "source": [
    "def linear_reg(i,j,X_train,y_train,X_test,y_test):\n",
    "    \"\"\"\n",
    "    i: Maker이름\n",
    "    j: Glass이름\n",
    "    나머지= data\n",
    "    \"\"\"\n",
    "    # 충돌을 막기위해서 module 초기화 하기\n",
    "    tf.keras.backend.clear_session()\n",
    "    \"\"\"\n",
    "LR_DS7402M_48_8(:원래 46.8이지만, python에서 \".\"은 다른 의미로 사용되고 있어서, \"_\"로 변경\n",
    "    \"\"\"\n",
    "    \n",
    "    ### LR_Maker_Glass 이름으로 된 model 만들기\n",
    "    globals()['LR_{}_{}'.format(i,str(j).replace(\".\",\"_\"))] = linear_model.LinearRegression()\n",
    "    # 모델 학습하기\n",
    "    globals()['LR_{}_{}'.format(i,str(j).replace(\".\",\"_\"))].fit(X_train, y_train)\n",
    "    # 학습한 모델로 값 예측하기\n",
    "    y_pred = globals()['LR_{}_{}'.format(i,str(j).replace(\".\",\"_\"))].predict(X_test)\n",
    "    \"\"\"\n",
    "    사용자함수: rsq\n",
    "    \"\"\"\n",
    "    # R_square 값 계산하기\n",
    "    rsqr_ = rsq(y_pred,y_test)\n",
    "    # MSE 계산하기\n",
    "    mse_ = mean_squared_error(y_test, y_pred)\n",
    "    \n",
    "    # 기타 기초통계 값 산출하기\n",
    "    min_ = round(min(abs(y_test - y_pred)),3)\n",
    "    max_ = round(max(abs(y_test - y_pred)),3)\n",
    "    mean_ = round((abs(y_test - y_pred)).mean(),3)\n",
    "    std_ = round(statistics.stdev(y_test - y_pred),3)\n",
    "    return rsqr_,mse_,y_test,y_pred,[min_,max_,mean_,std_]"
   ]
  },
  {
   "cell_type": "code",
   "execution_count": 40,
   "metadata": {},
   "outputs": [],
   "source": [
    "### 사용자함수: 기본 통계값을 산출해주는 함수\n",
    "def print_statis(y_pred,y_test):\n",
    "    rsqr_ = rsq(y_pred,y_test)\n",
    "    min_ = round(min(abs(y_test - y_pred)),3)\n",
    "    max_ = round(max(abs(y_test - y_pred)),3)\n",
    "    mean_ = round((abs(y_test - y_pred)).mean(),3)\n",
    "    std_ = round(statistics.stdev(y_test - y_pred),3)\n",
    "    print(\"R SQR :\" , rsqr_)        \n",
    "    print(\"Min :\" , min_)\n",
    "    print(\"Max :\" , max_)\n",
    "    print(\"Mean : \" , mean_)\n",
    "    print(\"Std : \", std_)"
   ]
  },
  {
   "cell_type": "code",
   "execution_count": 41,
   "metadata": {},
   "outputs": [],
   "source": [
    "def ann_model(i,j,X_train,y_train,X_test,y_test):\n",
    "    \"\"\"\n",
    "    i: Maker이름\n",
    "    j: Glass이름\n",
    "    나머지= data\n",
    "    \"\"\"\n",
    "    # 충돌을 막기위해서 module 초기화 하기\n",
    "    tf.keras.backend.clear_session()\n",
    "    \n",
    "    ### ANN_Maker_Glass 이름으로 알고리즘 만들기\n",
    "    # Basic Structure\n",
    "    globals()['ANN_{}_{}'.format(i,str(j).replace(\".\",\"_\"))] = keras.Sequential([\n",
    "        layers.Dense(64, activation='relu', input_shape=[len(X_train.keys())]),\n",
    "        layers.Dense(64, activation='relu'),\n",
    "        layers.Dense(1)\n",
    "      ])\n",
    "    # Optimizer\n",
    "    optimizer = tf.keras.optimizers.RMSprop(0.001)\n",
    "    # Loss function\n",
    "    globals()['ANN_{}_{}'.format(i,str(j).replace(\".\",\"_\"))].compile(loss='mse',\n",
    "                optimizer=optimizer,\n",
    "                metrics=['mae', 'mse'])\n",
    "    # 학습하기 (epoch= 300번으로)\n",
    "    history = globals()['ANN_{}_{}'.format(i,str(j).replace(\".\",\"_\"))].fit(X_train, y_train, epochs=300,verbose=0)\n",
    "    \n",
    "    # 학습결과 dataframe으로 저장하기\n",
    "    hist = pd.DataFrame(history.history)\n",
    "    hist['epoch'] = history.epoch\n",
    "    \n",
    "    ### 알고리즘 평가\n",
    "    # loss, mae, mse 값 도출\n",
    "    loss_, mae_, mse_ = globals()['ANN_{}_{}'.format(i,str(j).replace(\".\",\"_\"))].evaluate(X_test, y_test, verbose=2)\n",
    "    # 값 예측하기\n",
    "    y_pred = globals()['ANN_{}_{}'.format(i,str(j).replace(\".\",\"_\"))].predict(X_test).flatten()\n",
    "    \"\"\"\n",
    "    사용자함수: rsq\n",
    "    \"\"\"\n",
    "    rsqr_ = rsq(y_pred,y_test)\n",
    "    # 기초 통계값\n",
    "    min_ = round(min(abs(y_test - y_pred)),3)\n",
    "    max_ = round(max(abs(y_test - y_pred)),3)\n",
    "    mean_ = round((abs(y_test - y_pred)).mean(),3)\n",
    "    std_ = round(statistics.stdev(y_test - y_pred),3)\n",
    "    return rsqr_,mse_,y_test,y_pred,[min_,max_,mean_,std_]    "
   ]
  },
  {
   "cell_type": "code",
   "execution_count": 42,
   "metadata": {},
   "outputs": [],
   "source": [
    "### 사용자 함수: Linear regression, ANN 같이 돌리는 함수\n",
    "def anal(data_drop,Drop_col,Graph_show):\n",
    "    \"\"\"\n",
    "    data_drop: 데이터\n",
    "    Drop_col: 데이터에서 제거해야 하는  columns 목록\n",
    "    Graph_show: (yes,no) yes면 학습된 결과 graph로 표현\n",
    "    \"\"\"\n",
    "    # Data 에 있는 Maker 목록\n",
    "    Maker = data_drop['MatlMaker'].unique()\n",
    "    # Data 에 있는 Glass 목록\n",
    "    Glass_all = data_drop['MatlG'].unique()\n",
    "    all_lr_2 = {}\n",
    "    all_ann_2 = {}\n",
    "\n",
    "    for i in Maker:\n",
    "        # data 에서 i Maker만 뽑아오기\n",
    "        df = data_drop[data_drop['MatlMaker'] == i]\n",
    "        # 뽑은 데이터에 있는 Glass 종류\n",
    "        Glass = df['MatlG'].unique()\n",
    "        for j in Glass:   \n",
    "            # 해당 Maker의 j의 Glass 만 뽑아내기\n",
    "            df2 = df[df['MatlG'] == j]\n",
    "            # input 으로 받은 분석에 필요 없는 columns 제거하기\n",
    "            df3 = df2.drop(columns=Drop_col)\n",
    "            # x,y 나누기\n",
    "            y = df3.loc[:,\"Thickness\"]\n",
    "            x = df3.drop(columns=\"Thickness\")\n",
    "            # train, test 나누기\n",
    "            X_train, X_test, y_train, y_test = train_test_split(x,y,test_size=0.2,random_state=42)\n",
    "            \"\"\"\n",
    "            사용자함수: linear_reg (LR 학습)\n",
    "            \"\"\"\n",
    "            rsqr_LR,mse_LR,y_test_LR,y_pred_LR,statis_LR = linear_reg(i,j,X_train,y_train,X_test,y_test)\n",
    "            \"\"\"\n",
    "            사용자함수: ann_model (ANN 학습)\n",
    "            \"\"\"\n",
    "            rsqr_ANN,mse_ANN,y_test_ANN,y_pred_ANN,statis_ANN = ann_model(i,j,X_train,y_train,X_test,y_test)\n",
    "            \n",
    "            # 결과값 저장하기\n",
    "            all_lr_2[\"LR_{}_{}\".format(i,j)]= [rsqr_LR,mse_LR,statis_LR[0],statis_LR[1],statis_LR[2],statis_LR[3]]\n",
    "            all_ann_2[\"ANN_{}_{}\".format(i,j)]= [rsqr_ANN,mse_ANN,statis_ANN[0],statis_ANN[1],statis_ANN[2],statis_ANN[3]]\n",
    "            \n",
    "            if Graph_show==\"yes\":\n",
    "                print(\"#\"*50,\"{}_{}\".format(i,j),\"#\"*50)\n",
    "                display(\" \"*40,\"LR\",\" \"*40)\n",
    "                \"\"\"\n",
    "                사용자함수: make_graph\n",
    "                \"\"\"\n",
    "                make_graph(y_test_LR,y_pred_LR)\n",
    "                \"\"\"\n",
    "                사용자함수: print_statis\n",
    "                \"\"\"\n",
    "                print_statis(y_test_LR,y_pred_LR)\n",
    "                display(\" \"*40,\"ANN\",\" \"*40)\n",
    "                \"\"\"\n",
    "                사용자함수: make_graph\n",
    "                \"\"\"\n",
    "                make_graph(y_test_ANN,y_pred_ANN)\n",
    "                \"\"\"\n",
    "                사용자함수: print_statis\n",
    "                \"\"\"\n",
    "                print_statis(y_test_ANN,y_pred_ANN)\n",
    "            \n",
    "                print(\"-\"*120)\n",
    "            else:\n",
    "                pass\n",
    "    # 결과값 저장\n",
    "    hist_lr_2 = pd.DataFrame(all_lr_2).T\n",
    "    hist_lr_2 = hist_lr_2.rename(columns={0:\"R square\",1:\"MSE\",2:\"Min\",3:\"Max\",4:\"Mean\",5:\"Std\"})\n",
    "\n",
    "    hist_ann_2 = pd.DataFrame(all_ann_2).T\n",
    "    hist_ann_2 = hist_ann_2.rename(columns={0:\"R square\",1:\"MSE\",2:\"Min\",3:\"Max\",4:\"Mean\",5:\"Std\"})\n",
    "    return hist_lr_2,hist_ann_2"
   ]
  },
  {
   "cell_type": "code",
   "execution_count": 43,
   "metadata": {
    "scrolled": true
   },
   "outputs": [
    {
     "name": "stdout",
     "output_type": "stream",
     "text": [
      "2/2 - 0s - loss: 12.3709 - mae: 2.6653 - mse: 12.3709\n",
      "2/2 - 0s - loss: 26.2599 - mae: 3.7579 - mse: 26.2599\n",
      "1/1 - 0s - loss: 7.3296 - mae: 2.4283 - mse: 7.3296\n",
      "1/1 - 0s - loss: 6.5353 - mae: 1.9939 - mse: 6.5353\n",
      "WARNING:tensorflow:5 out of the last 7 calls to <function Model.make_test_function.<locals>.test_function at 0x000001F74F93D708> triggered tf.function retracing. Tracing is expensive and the excessive number of tracings could be due to (1) creating @tf.function repeatedly in a loop, (2) passing tensors with different shapes, (3) passing Python objects instead of tensors. For (1), please define your @tf.function outside of the loop. For (2), @tf.function has experimental_relax_shapes=True option that relaxes argument shapes that can avoid unnecessary retracing. For (3), please refer to https://www.tensorflow.org/guide/function#controlling_retracing and https://www.tensorflow.org/api_docs/python/tf/function for  more details.\n",
      "2/2 - 0s - loss: 55.1959 - mae: 6.7989 - mse: 55.1959\n",
      "WARNING:tensorflow:5 out of the last 7 calls to <function Model.make_predict_function.<locals>.predict_function at 0x000001F74FAB1798> triggered tf.function retracing. Tracing is expensive and the excessive number of tracings could be due to (1) creating @tf.function repeatedly in a loop, (2) passing tensors with different shapes, (3) passing Python objects instead of tensors. For (1), please define your @tf.function outside of the loop. For (2), @tf.function has experimental_relax_shapes=True option that relaxes argument shapes that can avoid unnecessary retracing. For (3), please refer to https://www.tensorflow.org/guide/function#controlling_retracing and https://www.tensorflow.org/api_docs/python/tf/function for  more details.\n",
      "WARNING:tensorflow:6 out of the last 9 calls to <function Model.make_test_function.<locals>.test_function at 0x000001F74E784DC8> triggered tf.function retracing. Tracing is expensive and the excessive number of tracings could be due to (1) creating @tf.function repeatedly in a loop, (2) passing tensors with different shapes, (3) passing Python objects instead of tensors. For (1), please define your @tf.function outside of the loop. For (2), @tf.function has experimental_relax_shapes=True option that relaxes argument shapes that can avoid unnecessary retracing. For (3), please refer to https://www.tensorflow.org/guide/function#controlling_retracing and https://www.tensorflow.org/api_docs/python/tf/function for  more details.\n",
      "1/1 - 0s - loss: 24.0223 - mae: 4.3196 - mse: 24.0223\n",
      "WARNING:tensorflow:6 out of the last 9 calls to <function Model.make_predict_function.<locals>.predict_function at 0x000001F74E7A7A68> triggered tf.function retracing. Tracing is expensive and the excessive number of tracings could be due to (1) creating @tf.function repeatedly in a loop, (2) passing tensors with different shapes, (3) passing Python objects instead of tensors. For (1), please define your @tf.function outside of the loop. For (2), @tf.function has experimental_relax_shapes=True option that relaxes argument shapes that can avoid unnecessary retracing. For (3), please refer to https://www.tensorflow.org/guide/function#controlling_retracing and https://www.tensorflow.org/api_docs/python/tf/function for  more details.\n",
      "WARNING:tensorflow:7 out of the last 10 calls to <function Model.make_test_function.<locals>.test_function at 0x000001F74F93DA68> triggered tf.function retracing. Tracing is expensive and the excessive number of tracings could be due to (1) creating @tf.function repeatedly in a loop, (2) passing tensors with different shapes, (3) passing Python objects instead of tensors. For (1), please define your @tf.function outside of the loop. For (2), @tf.function has experimental_relax_shapes=True option that relaxes argument shapes that can avoid unnecessary retracing. For (3), please refer to https://www.tensorflow.org/guide/function#controlling_retracing and https://www.tensorflow.org/api_docs/python/tf/function for  more details.\n",
      "1/1 - 0s - loss: 12.0186 - mae: 2.9097 - mse: 12.0186\n",
      "WARNING:tensorflow:7 out of the last 10 calls to <function Model.make_predict_function.<locals>.predict_function at 0x000001F740150318> triggered tf.function retracing. Tracing is expensive and the excessive number of tracings could be due to (1) creating @tf.function repeatedly in a loop, (2) passing tensors with different shapes, (3) passing Python objects instead of tensors. For (1), please define your @tf.function outside of the loop. For (2), @tf.function has experimental_relax_shapes=True option that relaxes argument shapes that can avoid unnecessary retracing. For (3), please refer to https://www.tensorflow.org/guide/function#controlling_retracing and https://www.tensorflow.org/api_docs/python/tf/function for  more details.\n",
      "WARNING:tensorflow:8 out of the last 11 calls to <function Model.make_test_function.<locals>.test_function at 0x000001F740445C18> triggered tf.function retracing. Tracing is expensive and the excessive number of tracings could be due to (1) creating @tf.function repeatedly in a loop, (2) passing tensors with different shapes, (3) passing Python objects instead of tensors. For (1), please define your @tf.function outside of the loop. For (2), @tf.function has experimental_relax_shapes=True option that relaxes argument shapes that can avoid unnecessary retracing. For (3), please refer to https://www.tensorflow.org/guide/function#controlling_retracing and https://www.tensorflow.org/api_docs/python/tf/function for  more details.\n",
      "1/1 - 0s - loss: 6.7806 - mae: 2.1337 - mse: 6.7806\n",
      "WARNING:tensorflow:8 out of the last 11 calls to <function Model.make_predict_function.<locals>.predict_function at 0x000001F74048F5E8> triggered tf.function retracing. Tracing is expensive and the excessive number of tracings could be due to (1) creating @tf.function repeatedly in a loop, (2) passing tensors with different shapes, (3) passing Python objects instead of tensors. For (1), please define your @tf.function outside of the loop. For (2), @tf.function has experimental_relax_shapes=True option that relaxes argument shapes that can avoid unnecessary retracing. For (3), please refer to https://www.tensorflow.org/guide/function#controlling_retracing and https://www.tensorflow.org/api_docs/python/tf/function for  more details.\n",
      "WARNING:tensorflow:9 out of the last 12 calls to <function Model.make_test_function.<locals>.test_function at 0x000001F74007BA68> triggered tf.function retracing. Tracing is expensive and the excessive number of tracings could be due to (1) creating @tf.function repeatedly in a loop, (2) passing tensors with different shapes, (3) passing Python objects instead of tensors. For (1), please define your @tf.function outside of the loop. For (2), @tf.function has experimental_relax_shapes=True option that relaxes argument shapes that can avoid unnecessary retracing. For (3), please refer to https://www.tensorflow.org/guide/function#controlling_retracing and https://www.tensorflow.org/api_docs/python/tf/function for  more details.\n",
      "1/1 - 0s - loss: 7.5455 - mae: 2.4856 - mse: 7.5455\n",
      "WARNING:tensorflow:9 out of the last 12 calls to <function Model.make_predict_function.<locals>.predict_function at 0x000001F7401CAD38> triggered tf.function retracing. Tracing is expensive and the excessive number of tracings could be due to (1) creating @tf.function repeatedly in a loop, (2) passing tensors with different shapes, (3) passing Python objects instead of tensors. For (1), please define your @tf.function outside of the loop. For (2), @tf.function has experimental_relax_shapes=True option that relaxes argument shapes that can avoid unnecessary retracing. For (3), please refer to https://www.tensorflow.org/guide/function#controlling_retracing and https://www.tensorflow.org/api_docs/python/tf/function for  more details.\n",
      "WARNING:tensorflow:9 out of the last 11 calls to <function Model.make_test_function.<locals>.test_function at 0x000001F73FF66288> triggered tf.function retracing. Tracing is expensive and the excessive number of tracings could be due to (1) creating @tf.function repeatedly in a loop, (2) passing tensors with different shapes, (3) passing Python objects instead of tensors. For (1), please define your @tf.function outside of the loop. For (2), @tf.function has experimental_relax_shapes=True option that relaxes argument shapes that can avoid unnecessary retracing. For (3), please refer to https://www.tensorflow.org/guide/function#controlling_retracing and https://www.tensorflow.org/api_docs/python/tf/function for  more details.\n"
     ]
    },
    {
     "name": "stdout",
     "output_type": "stream",
     "text": [
      "1/1 - 0s - loss: 3.8996 - mae: 1.7404 - mse: 3.8996\n",
      "WARNING:tensorflow:9 out of the last 11 calls to <function Model.make_predict_function.<locals>.predict_function at 0x000001F73FF5C9D8> triggered tf.function retracing. Tracing is expensive and the excessive number of tracings could be due to (1) creating @tf.function repeatedly in a loop, (2) passing tensors with different shapes, (3) passing Python objects instead of tensors. For (1), please define your @tf.function outside of the loop. For (2), @tf.function has experimental_relax_shapes=True option that relaxes argument shapes that can avoid unnecessary retracing. For (3), please refer to https://www.tensorflow.org/guide/function#controlling_retracing and https://www.tensorflow.org/api_docs/python/tf/function for  more details.\n",
      "WARNING:tensorflow:10 out of the last 12 calls to <function Model.make_test_function.<locals>.test_function at 0x000001F7402EFCA8> triggered tf.function retracing. Tracing is expensive and the excessive number of tracings could be due to (1) creating @tf.function repeatedly in a loop, (2) passing tensors with different shapes, (3) passing Python objects instead of tensors. For (1), please define your @tf.function outside of the loop. For (2), @tf.function has experimental_relax_shapes=True option that relaxes argument shapes that can avoid unnecessary retracing. For (3), please refer to https://www.tensorflow.org/guide/function#controlling_retracing and https://www.tensorflow.org/api_docs/python/tf/function for  more details.\n",
      "1/1 - 0s - loss: 44.8208 - mae: 6.6516 - mse: 44.8208\n",
      "WARNING:tensorflow:10 out of the last 12 calls to <function Model.make_predict_function.<locals>.predict_function at 0x000001F754B22CA8> triggered tf.function retracing. Tracing is expensive and the excessive number of tracings could be due to (1) creating @tf.function repeatedly in a loop, (2) passing tensors with different shapes, (3) passing Python objects instead of tensors. For (1), please define your @tf.function outside of the loop. For (2), @tf.function has experimental_relax_shapes=True option that relaxes argument shapes that can avoid unnecessary retracing. For (3), please refer to https://www.tensorflow.org/guide/function#controlling_retracing and https://www.tensorflow.org/api_docs/python/tf/function for  more details.\n",
      "WARNING:tensorflow:10 out of the last 11 calls to <function Model.make_test_function.<locals>.test_function at 0x000001F754CDB4C8> triggered tf.function retracing. Tracing is expensive and the excessive number of tracings could be due to (1) creating @tf.function repeatedly in a loop, (2) passing tensors with different shapes, (3) passing Python objects instead of tensors. For (1), please define your @tf.function outside of the loop. For (2), @tf.function has experimental_relax_shapes=True option that relaxes argument shapes that can avoid unnecessary retracing. For (3), please refer to https://www.tensorflow.org/guide/function#controlling_retracing and https://www.tensorflow.org/api_docs/python/tf/function for  more details.\n",
      "1/1 - 0s - loss: 4.6003 - mae: 2.0168 - mse: 4.6003\n",
      "WARNING:tensorflow:10 out of the last 11 calls to <function Model.make_predict_function.<locals>.predict_function at 0x000001F754CF8C18> triggered tf.function retracing. Tracing is expensive and the excessive number of tracings could be due to (1) creating @tf.function repeatedly in a loop, (2) passing tensors with different shapes, (3) passing Python objects instead of tensors. For (1), please define your @tf.function outside of the loop. For (2), @tf.function has experimental_relax_shapes=True option that relaxes argument shapes that can avoid unnecessary retracing. For (3), please refer to https://www.tensorflow.org/guide/function#controlling_retracing and https://www.tensorflow.org/api_docs/python/tf/function for  more details.\n",
      "WARNING:tensorflow:10 out of the last 11 calls to <function Model.make_test_function.<locals>.test_function at 0x000001F754CDB708> triggered tf.function retracing. Tracing is expensive and the excessive number of tracings could be due to (1) creating @tf.function repeatedly in a loop, (2) passing tensors with different shapes, (3) passing Python objects instead of tensors. For (1), please define your @tf.function outside of the loop. For (2), @tf.function has experimental_relax_shapes=True option that relaxes argument shapes that can avoid unnecessary retracing. For (3), please refer to https://www.tensorflow.org/guide/function#controlling_retracing and https://www.tensorflow.org/api_docs/python/tf/function for  more details.\n",
      "1/1 - 0s - loss: 8.1397 - mae: 2.4045 - mse: 8.1397\n",
      "WARNING:tensorflow:10 out of the last 11 calls to <function Model.make_predict_function.<locals>.predict_function at 0x000001F755E83C18> triggered tf.function retracing. Tracing is expensive and the excessive number of tracings could be due to (1) creating @tf.function repeatedly in a loop, (2) passing tensors with different shapes, (3) passing Python objects instead of tensors. For (1), please define your @tf.function outside of the loop. For (2), @tf.function has experimental_relax_shapes=True option that relaxes argument shapes that can avoid unnecessary retracing. For (3), please refer to https://www.tensorflow.org/guide/function#controlling_retracing and https://www.tensorflow.org/api_docs/python/tf/function for  more details.\n",
      "WARNING:tensorflow:10 out of the last 11 calls to <function Model.make_test_function.<locals>.test_function at 0x000001F755FB28B8> triggered tf.function retracing. Tracing is expensive and the excessive number of tracings could be due to (1) creating @tf.function repeatedly in a loop, (2) passing tensors with different shapes, (3) passing Python objects instead of tensors. For (1), please define your @tf.function outside of the loop. For (2), @tf.function has experimental_relax_shapes=True option that relaxes argument shapes that can avoid unnecessary retracing. For (3), please refer to https://www.tensorflow.org/guide/function#controlling_retracing and https://www.tensorflow.org/api_docs/python/tf/function for  more details.\n",
      "1/1 - 0s - loss: 2.7911 - mae: 1.4520 - mse: 2.7911\n",
      "WARNING:tensorflow:10 out of the last 11 calls to <function Model.make_predict_function.<locals>.predict_function at 0x000001F756059EE8> triggered tf.function retracing. Tracing is expensive and the excessive number of tracings could be due to (1) creating @tf.function repeatedly in a loop, (2) passing tensors with different shapes, (3) passing Python objects instead of tensors. For (1), please define your @tf.function outside of the loop. For (2), @tf.function has experimental_relax_shapes=True option that relaxes argument shapes that can avoid unnecessary retracing. For (3), please refer to https://www.tensorflow.org/guide/function#controlling_retracing and https://www.tensorflow.org/api_docs/python/tf/function for  more details.\n",
      "WARNING:tensorflow:11 out of the last 12 calls to <function Model.make_test_function.<locals>.test_function at 0x000001F754D52048> triggered tf.function retracing. Tracing is expensive and the excessive number of tracings could be due to (1) creating @tf.function repeatedly in a loop, (2) passing tensors with different shapes, (3) passing Python objects instead of tensors. For (1), please define your @tf.function outside of the loop. For (2), @tf.function has experimental_relax_shapes=True option that relaxes argument shapes that can avoid unnecessary retracing. For (3), please refer to https://www.tensorflow.org/guide/function#controlling_retracing and https://www.tensorflow.org/api_docs/python/tf/function for  more details.\n",
      "1/1 - 0s - loss: 3.2466 - mae: 1.4314 - mse: 3.2466\n",
      "WARNING:tensorflow:11 out of the last 12 calls to <function Model.make_predict_function.<locals>.predict_function at 0x000001F744DABDC8> triggered tf.function retracing. Tracing is expensive and the excessive number of tracings could be due to (1) creating @tf.function repeatedly in a loop, (2) passing tensors with different shapes, (3) passing Python objects instead of tensors. For (1), please define your @tf.function outside of the loop. For (2), @tf.function has experimental_relax_shapes=True option that relaxes argument shapes that can avoid unnecessary retracing. For (3), please refer to https://www.tensorflow.org/guide/function#controlling_retracing and https://www.tensorflow.org/api_docs/python/tf/function for  more details.\n"
     ]
    },
    {
     "name": "stdout",
     "output_type": "stream",
     "text": [
      "WARNING:tensorflow:11 out of the last 11 calls to <function Model.make_test_function.<locals>.test_function at 0x000001F740150B88> triggered tf.function retracing. Tracing is expensive and the excessive number of tracings could be due to (1) creating @tf.function repeatedly in a loop, (2) passing tensors with different shapes, (3) passing Python objects instead of tensors. For (1), please define your @tf.function outside of the loop. For (2), @tf.function has experimental_relax_shapes=True option that relaxes argument shapes that can avoid unnecessary retracing. For (3), please refer to https://www.tensorflow.org/guide/function#controlling_retracing and https://www.tensorflow.org/api_docs/python/tf/function for  more details.\n",
      "1/1 - 0s - loss: 3.5768 - mae: 1.7727 - mse: 3.5768\n",
      "WARNING:tensorflow:11 out of the last 11 calls to <function Model.make_predict_function.<locals>.predict_function at 0x000001F7415B24C8> triggered tf.function retracing. Tracing is expensive and the excessive number of tracings could be due to (1) creating @tf.function repeatedly in a loop, (2) passing tensors with different shapes, (3) passing Python objects instead of tensors. For (1), please define your @tf.function outside of the loop. For (2), @tf.function has experimental_relax_shapes=True option that relaxes argument shapes that can avoid unnecessary retracing. For (3), please refer to https://www.tensorflow.org/guide/function#controlling_retracing and https://www.tensorflow.org/api_docs/python/tf/function for  more details.\n",
      "WARNING:tensorflow:11 out of the last 11 calls to <function Model.make_test_function.<locals>.test_function at 0x000001F7570CA5E8> triggered tf.function retracing. Tracing is expensive and the excessive number of tracings could be due to (1) creating @tf.function repeatedly in a loop, (2) passing tensors with different shapes, (3) passing Python objects instead of tensors. For (1), please define your @tf.function outside of the loop. For (2), @tf.function has experimental_relax_shapes=True option that relaxes argument shapes that can avoid unnecessary retracing. For (3), please refer to https://www.tensorflow.org/guide/function#controlling_retracing and https://www.tensorflow.org/api_docs/python/tf/function for  more details.\n",
      "1/1 - 0s - loss: 3.3310 - mae: 1.7784 - mse: 3.3310\n",
      "WARNING:tensorflow:11 out of the last 11 calls to <function Model.make_predict_function.<locals>.predict_function at 0x000001F754B70288> triggered tf.function retracing. Tracing is expensive and the excessive number of tracings could be due to (1) creating @tf.function repeatedly in a loop, (2) passing tensors with different shapes, (3) passing Python objects instead of tensors. For (1), please define your @tf.function outside of the loop. For (2), @tf.function has experimental_relax_shapes=True option that relaxes argument shapes that can avoid unnecessary retracing. For (3), please refer to https://www.tensorflow.org/guide/function#controlling_retracing and https://www.tensorflow.org/api_docs/python/tf/function for  more details.\n",
      "WARNING:tensorflow:11 out of the last 11 calls to <function Model.make_test_function.<locals>.test_function at 0x000001F756059CA8> triggered tf.function retracing. Tracing is expensive and the excessive number of tracings could be due to (1) creating @tf.function repeatedly in a loop, (2) passing tensors with different shapes, (3) passing Python objects instead of tensors. For (1), please define your @tf.function outside of the loop. For (2), @tf.function has experimental_relax_shapes=True option that relaxes argument shapes that can avoid unnecessary retracing. For (3), please refer to https://www.tensorflow.org/guide/function#controlling_retracing and https://www.tensorflow.org/api_docs/python/tf/function for  more details.\n",
      "1/1 - 0s - loss: 1.7751 - mae: 1.3106 - mse: 1.7751\n",
      "WARNING:tensorflow:11 out of the last 11 calls to <function Model.make_predict_function.<locals>.predict_function at 0x000001F7595EFEE8> triggered tf.function retracing. Tracing is expensive and the excessive number of tracings could be due to (1) creating @tf.function repeatedly in a loop, (2) passing tensors with different shapes, (3) passing Python objects instead of tensors. For (1), please define your @tf.function outside of the loop. For (2), @tf.function has experimental_relax_shapes=True option that relaxes argument shapes that can avoid unnecessary retracing. For (3), please refer to https://www.tensorflow.org/guide/function#controlling_retracing and https://www.tensorflow.org/api_docs/python/tf/function for  more details.\n",
      "WARNING:tensorflow:11 out of the last 11 calls to <function Model.make_test_function.<locals>.test_function at 0x000001F7596F4168> triggered tf.function retracing. Tracing is expensive and the excessive number of tracings could be due to (1) creating @tf.function repeatedly in a loop, (2) passing tensors with different shapes, (3) passing Python objects instead of tensors. For (1), please define your @tf.function outside of the loop. For (2), @tf.function has experimental_relax_shapes=True option that relaxes argument shapes that can avoid unnecessary retracing. For (3), please refer to https://www.tensorflow.org/guide/function#controlling_retracing and https://www.tensorflow.org/api_docs/python/tf/function for  more details.\n",
      "1/1 - 0s - loss: 5.6175 - mae: 1.8329 - mse: 5.6175\n",
      "WARNING:tensorflow:11 out of the last 11 calls to <function Model.make_predict_function.<locals>.predict_function at 0x000001F75A7B63A8> triggered tf.function retracing. Tracing is expensive and the excessive number of tracings could be due to (1) creating @tf.function repeatedly in a loop, (2) passing tensors with different shapes, (3) passing Python objects instead of tensors. For (1), please define your @tf.function outside of the loop. For (2), @tf.function has experimental_relax_shapes=True option that relaxes argument shapes that can avoid unnecessary retracing. For (3), please refer to https://www.tensorflow.org/guide/function#controlling_retracing and https://www.tensorflow.org/api_docs/python/tf/function for  more details.\n",
      "WARNING:tensorflow:11 out of the last 11 calls to <function Model.make_test_function.<locals>.test_function at 0x000001F7596F4558> triggered tf.function retracing. Tracing is expensive and the excessive number of tracings could be due to (1) creating @tf.function repeatedly in a loop, (2) passing tensors with different shapes, (3) passing Python objects instead of tensors. For (1), please define your @tf.function outside of the loop. For (2), @tf.function has experimental_relax_shapes=True option that relaxes argument shapes that can avoid unnecessary retracing. For (3), please refer to https://www.tensorflow.org/guide/function#controlling_retracing and https://www.tensorflow.org/api_docs/python/tf/function for  more details.\n",
      "1/1 - 0s - loss: 109.0633 - mae: 9.5593 - mse: 109.0633\n",
      "WARNING:tensorflow:11 out of the last 11 calls to <function Model.make_predict_function.<locals>.predict_function at 0x000001F75B938438> triggered tf.function retracing. Tracing is expensive and the excessive number of tracings could be due to (1) creating @tf.function repeatedly in a loop, (2) passing tensors with different shapes, (3) passing Python objects instead of tensors. For (1), please define your @tf.function outside of the loop. For (2), @tf.function has experimental_relax_shapes=True option that relaxes argument shapes that can avoid unnecessary retracing. For (3), please refer to https://www.tensorflow.org/guide/function#controlling_retracing and https://www.tensorflow.org/api_docs/python/tf/function for  more details.\n",
      "WARNING:tensorflow:11 out of the last 11 calls to <function Model.make_test_function.<locals>.test_function at 0x000001F75BA203A8> triggered tf.function retracing. Tracing is expensive and the excessive number of tracings could be due to (1) creating @tf.function repeatedly in a loop, (2) passing tensors with different shapes, (3) passing Python objects instead of tensors. For (1), please define your @tf.function outside of the loop. For (2), @tf.function has experimental_relax_shapes=True option that relaxes argument shapes that can avoid unnecessary retracing. For (3), please refer to https://www.tensorflow.org/guide/function#controlling_retracing and https://www.tensorflow.org/api_docs/python/tf/function for  more details.\n"
     ]
    },
    {
     "name": "stdout",
     "output_type": "stream",
     "text": [
      "1/1 - 0s - loss: 18.8460 - mae: 4.0818 - mse: 18.8460\n",
      "WARNING:tensorflow:11 out of the last 11 calls to <function Model.make_predict_function.<locals>.predict_function at 0x000001F75BB153A8> triggered tf.function retracing. Tracing is expensive and the excessive number of tracings could be due to (1) creating @tf.function repeatedly in a loop, (2) passing tensors with different shapes, (3) passing Python objects instead of tensors. For (1), please define your @tf.function outside of the loop. For (2), @tf.function has experimental_relax_shapes=True option that relaxes argument shapes that can avoid unnecessary retracing. For (3), please refer to https://www.tensorflow.org/guide/function#controlling_retracing and https://www.tensorflow.org/api_docs/python/tf/function for  more details.\n",
      "WARNING:tensorflow:11 out of the last 11 calls to <function Model.make_test_function.<locals>.test_function at 0x000001F75BA20828> triggered tf.function retracing. Tracing is expensive and the excessive number of tracings could be due to (1) creating @tf.function repeatedly in a loop, (2) passing tensors with different shapes, (3) passing Python objects instead of tensors. For (1), please define your @tf.function outside of the loop. For (2), @tf.function has experimental_relax_shapes=True option that relaxes argument shapes that can avoid unnecessary retracing. For (3), please refer to https://www.tensorflow.org/guide/function#controlling_retracing and https://www.tensorflow.org/api_docs/python/tf/function for  more details.\n",
      "1/1 - 0s - loss: 38.5626 - mae: 5.9880 - mse: 38.5626\n",
      "WARNING:tensorflow:11 out of the last 11 calls to <function Model.make_predict_function.<locals>.predict_function at 0x000001F75BA20708> triggered tf.function retracing. Tracing is expensive and the excessive number of tracings could be due to (1) creating @tf.function repeatedly in a loop, (2) passing tensors with different shapes, (3) passing Python objects instead of tensors. For (1), please define your @tf.function outside of the loop. For (2), @tf.function has experimental_relax_shapes=True option that relaxes argument shapes that can avoid unnecessary retracing. For (3), please refer to https://www.tensorflow.org/guide/function#controlling_retracing and https://www.tensorflow.org/api_docs/python/tf/function for  more details.\n"
     ]
    }
   ],
   "source": [
    "drop_list = ['MatlMaker','MatlG',\"Model\",\"PP\"]\n",
    "hist_lr,hist_ann = anal(data_pp,drop_list,\"no\")"
   ]
  },
  {
   "cell_type": "code",
   "execution_count": 54,
   "metadata": {
    "scrolled": true
   },
   "outputs": [
    {
     "data": {
      "text/html": [
       "<div>\n",
       "<style scoped>\n",
       "    .dataframe tbody tr th:only-of-type {\n",
       "        vertical-align: middle;\n",
       "    }\n",
       "\n",
       "    .dataframe tbody tr th {\n",
       "        vertical-align: top;\n",
       "    }\n",
       "\n",
       "    .dataframe thead th {\n",
       "        text-align: right;\n",
       "    }\n",
       "</style>\n",
       "<table border=\"1\" class=\"dataframe\">\n",
       "  <thead>\n",
       "    <tr style=\"text-align: right;\">\n",
       "      <th></th>\n",
       "      <th>R square</th>\n",
       "      <th>MSE</th>\n",
       "      <th>Min</th>\n",
       "      <th>Max</th>\n",
       "      <th>Mean</th>\n",
       "      <th>Std</th>\n",
       "    </tr>\n",
       "  </thead>\n",
       "  <tbody>\n",
       "    <tr>\n",
       "      <th>ANN_DS7402M_46.8</th>\n",
       "      <td>0.622758</td>\n",
       "      <td>12.370939</td>\n",
       "      <td>0.043</td>\n",
       "      <td>10.296</td>\n",
       "      <td>2.665</td>\n",
       "      <td>3.406</td>\n",
       "    </tr>\n",
       "    <tr>\n",
       "      <th>ANN_DS7402M_203.4</th>\n",
       "      <td>0.857187</td>\n",
       "      <td>26.259924</td>\n",
       "      <td>0.009</td>\n",
       "      <td>13.570</td>\n",
       "      <td>3.758</td>\n",
       "      <td>5.187</td>\n",
       "    </tr>\n",
       "    <tr>\n",
       "      <th>ANN_DS7402M_81.4</th>\n",
       "      <td>0.904751</td>\n",
       "      <td>7.329594</td>\n",
       "      <td>0.236</td>\n",
       "      <td>3.928</td>\n",
       "      <td>2.428</td>\n",
       "      <td>1.280</td>\n",
       "    </tr>\n",
       "    <tr>\n",
       "      <th>ANN_DS7402M_165.0</th>\n",
       "      <td>0.853180</td>\n",
       "      <td>6.535273</td>\n",
       "      <td>0.117</td>\n",
       "      <td>5.751</td>\n",
       "      <td>1.994</td>\n",
       "      <td>2.632</td>\n",
       "    </tr>\n",
       "    <tr>\n",
       "      <th>ANN_DS7402M_31.0</th>\n",
       "      <td>-0.493646</td>\n",
       "      <td>55.195881</td>\n",
       "      <td>0.556</td>\n",
       "      <td>11.970</td>\n",
       "      <td>6.799</td>\n",
       "      <td>3.536</td>\n",
       "    </tr>\n",
       "    <tr>\n",
       "      <th>ANN_DS7402M_103.8</th>\n",
       "      <td>0.768050</td>\n",
       "      <td>24.022308</td>\n",
       "      <td>0.850</td>\n",
       "      <td>8.464</td>\n",
       "      <td>4.320</td>\n",
       "      <td>3.002</td>\n",
       "    </tr>\n",
       "    <tr>\n",
       "      <th>ANN_DS7402M_24.4</th>\n",
       "      <td>0.092830</td>\n",
       "      <td>12.018620</td>\n",
       "      <td>0.292</td>\n",
       "      <td>5.413</td>\n",
       "      <td>2.910</td>\n",
       "      <td>2.221</td>\n",
       "    </tr>\n",
       "    <tr>\n",
       "      <th>ANN_NPG-151_46.8</th>\n",
       "      <td>-0.174718</td>\n",
       "      <td>6.780555</td>\n",
       "      <td>0.379</td>\n",
       "      <td>4.621</td>\n",
       "      <td>2.134</td>\n",
       "      <td>2.174</td>\n",
       "    </tr>\n",
       "    <tr>\n",
       "      <th>ANN_EM-370Z_46.8</th>\n",
       "      <td>0.847225</td>\n",
       "      <td>7.545461</td>\n",
       "      <td>1.039</td>\n",
       "      <td>4.504</td>\n",
       "      <td>2.486</td>\n",
       "      <td>2.266</td>\n",
       "    </tr>\n",
       "    <tr>\n",
       "      <th>ANN_EM-370Z_103.8</th>\n",
       "      <td>-0.054530</td>\n",
       "      <td>3.899554</td>\n",
       "      <td>0.141</td>\n",
       "      <td>2.939</td>\n",
       "      <td>1.740</td>\n",
       "      <td>1.952</td>\n",
       "    </tr>\n",
       "    <tr>\n",
       "      <th>ANN_EM-370Z_31.0</th>\n",
       "      <td>-76.598406</td>\n",
       "      <td>44.820847</td>\n",
       "      <td>5.892</td>\n",
       "      <td>7.412</td>\n",
       "      <td>6.652</td>\n",
       "      <td>1.075</td>\n",
       "    </tr>\n",
       "    <tr>\n",
       "      <th>ANN_EM-370Z_81.4</th>\n",
       "      <td>-7.632557</td>\n",
       "      <td>4.600326</td>\n",
       "      <td>1.287</td>\n",
       "      <td>2.747</td>\n",
       "      <td>2.017</td>\n",
       "      <td>1.032</td>\n",
       "    </tr>\n",
       "    <tr>\n",
       "      <th>ANN_DS7402LC_31.0</th>\n",
       "      <td>0.517700</td>\n",
       "      <td>8.139709</td>\n",
       "      <td>0.037</td>\n",
       "      <td>5.637</td>\n",
       "      <td>2.404</td>\n",
       "      <td>2.520</td>\n",
       "    </tr>\n",
       "    <tr>\n",
       "      <th>ANN_DS7402LC_103.8</th>\n",
       "      <td>0.298194</td>\n",
       "      <td>2.791116</td>\n",
       "      <td>0.561</td>\n",
       "      <td>3.135</td>\n",
       "      <td>1.452</td>\n",
       "      <td>1.626</td>\n",
       "    </tr>\n",
       "    <tr>\n",
       "      <th>ANN_DS7402LC_46.8</th>\n",
       "      <td>0.670056</td>\n",
       "      <td>3.246576</td>\n",
       "      <td>0.088</td>\n",
       "      <td>4.430</td>\n",
       "      <td>1.431</td>\n",
       "      <td>1.740</td>\n",
       "    </tr>\n",
       "    <tr>\n",
       "      <th>ANN_DS7402LC_24.4</th>\n",
       "      <td>0.631834</td>\n",
       "      <td>3.576780</td>\n",
       "      <td>0.812</td>\n",
       "      <td>2.609</td>\n",
       "      <td>1.773</td>\n",
       "      <td>0.761</td>\n",
       "    </tr>\n",
       "    <tr>\n",
       "      <th>ANN_DS7402LC_81.4</th>\n",
       "      <td>0.619272</td>\n",
       "      <td>3.330959</td>\n",
       "      <td>1.362</td>\n",
       "      <td>2.241</td>\n",
       "      <td>1.778</td>\n",
       "      <td>0.474</td>\n",
       "    </tr>\n",
       "    <tr>\n",
       "      <th>ANN_DS7402LC_165.0</th>\n",
       "      <td>-32.556407</td>\n",
       "      <td>1.775147</td>\n",
       "      <td>1.071</td>\n",
       "      <td>1.550</td>\n",
       "      <td>1.311</td>\n",
       "      <td>0.339</td>\n",
       "    </tr>\n",
       "    <tr>\n",
       "      <th>ANN_IT150G_46.8</th>\n",
       "      <td>0.816495</td>\n",
       "      <td>5.617543</td>\n",
       "      <td>0.120</td>\n",
       "      <td>4.811</td>\n",
       "      <td>1.833</td>\n",
       "      <td>2.447</td>\n",
       "    </tr>\n",
       "    <tr>\n",
       "      <th>ANN_IT150G_203.4</th>\n",
       "      <td>-4.131283</td>\n",
       "      <td>109.063324</td>\n",
       "      <td>4.884</td>\n",
       "      <td>15.080</td>\n",
       "      <td>9.559</td>\n",
       "      <td>5.150</td>\n",
       "    </tr>\n",
       "    <tr>\n",
       "      <th>ANN_EM-526_46.8</th>\n",
       "      <td>0.510847</td>\n",
       "      <td>18.846043</td>\n",
       "      <td>1.584</td>\n",
       "      <td>5.327</td>\n",
       "      <td>4.082</td>\n",
       "      <td>1.653</td>\n",
       "    </tr>\n",
       "    <tr>\n",
       "      <th>ANN_EM-526_103.8</th>\n",
       "      <td>-0.047664</td>\n",
       "      <td>38.562630</td>\n",
       "      <td>3.899</td>\n",
       "      <td>8.857</td>\n",
       "      <td>5.988</td>\n",
       "      <td>6.398</td>\n",
       "    </tr>\n",
       "  </tbody>\n",
       "</table>\n",
       "</div>"
      ],
      "text/plain": [
       "                     R square         MSE    Min     Max   Mean    Std\n",
       "ANN_DS7402M_46.8     0.622758   12.370939  0.043  10.296  2.665  3.406\n",
       "ANN_DS7402M_203.4    0.857187   26.259924  0.009  13.570  3.758  5.187\n",
       "ANN_DS7402M_81.4     0.904751    7.329594  0.236   3.928  2.428  1.280\n",
       "ANN_DS7402M_165.0    0.853180    6.535273  0.117   5.751  1.994  2.632\n",
       "ANN_DS7402M_31.0    -0.493646   55.195881  0.556  11.970  6.799  3.536\n",
       "ANN_DS7402M_103.8    0.768050   24.022308  0.850   8.464  4.320  3.002\n",
       "ANN_DS7402M_24.4     0.092830   12.018620  0.292   5.413  2.910  2.221\n",
       "ANN_NPG-151_46.8    -0.174718    6.780555  0.379   4.621  2.134  2.174\n",
       "ANN_EM-370Z_46.8     0.847225    7.545461  1.039   4.504  2.486  2.266\n",
       "ANN_EM-370Z_103.8   -0.054530    3.899554  0.141   2.939  1.740  1.952\n",
       "ANN_EM-370Z_31.0   -76.598406   44.820847  5.892   7.412  6.652  1.075\n",
       "ANN_EM-370Z_81.4    -7.632557    4.600326  1.287   2.747  2.017  1.032\n",
       "ANN_DS7402LC_31.0    0.517700    8.139709  0.037   5.637  2.404  2.520\n",
       "ANN_DS7402LC_103.8   0.298194    2.791116  0.561   3.135  1.452  1.626\n",
       "ANN_DS7402LC_46.8    0.670056    3.246576  0.088   4.430  1.431  1.740\n",
       "ANN_DS7402LC_24.4    0.631834    3.576780  0.812   2.609  1.773  0.761\n",
       "ANN_DS7402LC_81.4    0.619272    3.330959  1.362   2.241  1.778  0.474\n",
       "ANN_DS7402LC_165.0 -32.556407    1.775147  1.071   1.550  1.311  0.339\n",
       "ANN_IT150G_46.8      0.816495    5.617543  0.120   4.811  1.833  2.447\n",
       "ANN_IT150G_203.4    -4.131283  109.063324  4.884  15.080  9.559  5.150\n",
       "ANN_EM-526_46.8      0.510847   18.846043  1.584   5.327  4.082  1.653\n",
       "ANN_EM-526_103.8    -0.047664   38.562630  3.899   8.857  5.988  6.398"
      ]
     },
     "execution_count": 54,
     "metadata": {},
     "output_type": "execute_result"
    }
   ],
   "source": [
    "hist_ann"
   ]
  },
  {
   "cell_type": "code",
   "execution_count": 57,
   "metadata": {},
   "outputs": [],
   "source": [
    "makers,glasses = [],[]\n",
    "for index_ in hist_ann.index:\n",
    "    maker_,glass_= index_.split(\"_\")[1:]\n",
    "    makers.append(maker_)\n",
    "    glasses.append(glass_)\n"
   ]
  },
  {
   "cell_type": "code",
   "execution_count": 64,
   "metadata": {
    "scrolled": true
   },
   "outputs": [
    {
     "data": {
      "text/plain": [
       "[2.665,\n",
       " 3.758,\n",
       " 2.428,\n",
       " 1.994,\n",
       " 6.799,\n",
       " 4.32,\n",
       " 2.91,\n",
       " 2.134,\n",
       " 2.486,\n",
       " 1.74,\n",
       " 6.652,\n",
       " 2.017,\n",
       " 2.404,\n",
       " 1.452,\n",
       " 1.431,\n",
       " 1.773,\n",
       " 1.778,\n",
       " 1.311,\n",
       " 1.833,\n",
       " 9.559,\n",
       " 4.082,\n",
       " 5.988]"
      ]
     },
     "execution_count": 64,
     "metadata": {},
     "output_type": "execute_result"
    }
   ],
   "source": [
    "mean_va = []\n",
    "for i in hist_ann[\"Mean\"]:\n",
    "    mean_va.append(i)\n",
    "mean_va"
   ]
  },
  {
   "cell_type": "code",
   "execution_count": 68,
   "metadata": {
    "scrolled": true
   },
   "outputs": [
    {
     "name": "stdout",
     "output_type": "stream",
     "text": [
      "DS7402M 46.8\n"
     ]
    },
    {
     "data": {
      "application/vnd.jupyter.widget-view+json": {
       "model_id": "7d20e201b9644df1961340c0fa732758",
       "version_major": 2,
       "version_minor": 0
      },
      "text/plain": [
       "  0%|          | 0/100 [00:00<?, ?it/s]"
      ]
     },
     "metadata": {},
     "output_type": "display_data"
    },
    {
     "name": "stdout",
     "output_type": "stream",
     "text": [
      "DS7402M 203.4\n"
     ]
    },
    {
     "data": {
      "application/vnd.jupyter.widget-view+json": {
       "model_id": "03343cc20e7f4706b9edeb289ec23750",
       "version_major": 2,
       "version_minor": 0
      },
      "text/plain": [
       "  0%|          | 0/100 [00:00<?, ?it/s]"
      ]
     },
     "metadata": {},
     "output_type": "display_data"
    },
    {
     "name": "stdout",
     "output_type": "stream",
     "text": [
      "DS7402M 81.4\n"
     ]
    },
    {
     "data": {
      "application/vnd.jupyter.widget-view+json": {
       "model_id": "cfb9e489e5ac4c9abc4b830b98be5de5",
       "version_major": 2,
       "version_minor": 0
      },
      "text/plain": [
       "  0%|          | 0/100 [00:00<?, ?it/s]"
      ]
     },
     "metadata": {},
     "output_type": "display_data"
    },
    {
     "name": "stdout",
     "output_type": "stream",
     "text": [
      "DS7402M 165.0\n"
     ]
    },
    {
     "data": {
      "application/vnd.jupyter.widget-view+json": {
       "model_id": "60990eae53074e2dad628b96f529e529",
       "version_major": 2,
       "version_minor": 0
      },
      "text/plain": [
       "  0%|          | 0/100 [00:00<?, ?it/s]"
      ]
     },
     "metadata": {},
     "output_type": "display_data"
    },
    {
     "name": "stdout",
     "output_type": "stream",
     "text": [
      "DS7402M 31.0\n"
     ]
    },
    {
     "data": {
      "application/vnd.jupyter.widget-view+json": {
       "model_id": "bc99bfab7fad4e37ab7f11952b70dc6f",
       "version_major": 2,
       "version_minor": 0
      },
      "text/plain": [
       "  0%|          | 0/100 [00:00<?, ?it/s]"
      ]
     },
     "metadata": {},
     "output_type": "display_data"
    },
    {
     "name": "stdout",
     "output_type": "stream",
     "text": [
      "DS7402M 103.8\n"
     ]
    },
    {
     "data": {
      "application/vnd.jupyter.widget-view+json": {
       "model_id": "667c87bf581543358cfd53345ae4acf8",
       "version_major": 2,
       "version_minor": 0
      },
      "text/plain": [
       "  0%|          | 0/100 [00:00<?, ?it/s]"
      ]
     },
     "metadata": {},
     "output_type": "display_data"
    },
    {
     "name": "stdout",
     "output_type": "stream",
     "text": [
      "DS7402M 24.4\n"
     ]
    },
    {
     "data": {
      "application/vnd.jupyter.widget-view+json": {
       "model_id": "75ceca57e7c8410b8a8c88bed1c18c47",
       "version_major": 2,
       "version_minor": 0
      },
      "text/plain": [
       "  0%|          | 0/100 [00:00<?, ?it/s]"
      ]
     },
     "metadata": {},
     "output_type": "display_data"
    },
    {
     "name": "stdout",
     "output_type": "stream",
     "text": [
      "NPG-151 46.8\n"
     ]
    },
    {
     "data": {
      "application/vnd.jupyter.widget-view+json": {
       "model_id": "a7a72cb5094f4838a6ea38fbe8fd6635",
       "version_major": 2,
       "version_minor": 0
      },
      "text/plain": [
       "  0%|          | 0/100 [00:00<?, ?it/s]"
      ]
     },
     "metadata": {},
     "output_type": "display_data"
    },
    {
     "name": "stdout",
     "output_type": "stream",
     "text": [
      "EM-370Z 46.8\n"
     ]
    },
    {
     "data": {
      "application/vnd.jupyter.widget-view+json": {
       "model_id": "f3f0374b02f646a38657f3789fda0b96",
       "version_major": 2,
       "version_minor": 0
      },
      "text/plain": [
       "  0%|          | 0/100 [00:00<?, ?it/s]"
      ]
     },
     "metadata": {},
     "output_type": "display_data"
    },
    {
     "name": "stdout",
     "output_type": "stream",
     "text": [
      "EM-370Z 103.8\n"
     ]
    },
    {
     "data": {
      "application/vnd.jupyter.widget-view+json": {
       "model_id": "2b689ffce17b4f4ba16e1414cc50d211",
       "version_major": 2,
       "version_minor": 0
      },
      "text/plain": [
       "  0%|          | 0/100 [00:00<?, ?it/s]"
      ]
     },
     "metadata": {},
     "output_type": "display_data"
    },
    {
     "name": "stdout",
     "output_type": "stream",
     "text": [
      "EM-370Z 31.0\n"
     ]
    },
    {
     "data": {
      "application/vnd.jupyter.widget-view+json": {
       "model_id": "40c169aafb164c258bf3f17ab105f052",
       "version_major": 2,
       "version_minor": 0
      },
      "text/plain": [
       "  0%|          | 0/100 [00:00<?, ?it/s]"
      ]
     },
     "metadata": {},
     "output_type": "display_data"
    },
    {
     "name": "stdout",
     "output_type": "stream",
     "text": [
      "EM-370Z 81.4\n"
     ]
    },
    {
     "data": {
      "application/vnd.jupyter.widget-view+json": {
       "model_id": "05b14a1b388d4d78ab99e4cfb2614a7e",
       "version_major": 2,
       "version_minor": 0
      },
      "text/plain": [
       "  0%|          | 0/100 [00:00<?, ?it/s]"
      ]
     },
     "metadata": {},
     "output_type": "display_data"
    },
    {
     "name": "stdout",
     "output_type": "stream",
     "text": [
      "DS7402LC 31.0\n"
     ]
    },
    {
     "data": {
      "application/vnd.jupyter.widget-view+json": {
       "model_id": "6b2c0264b28d47c883285db95e600f8b",
       "version_major": 2,
       "version_minor": 0
      },
      "text/plain": [
       "  0%|          | 0/100 [00:00<?, ?it/s]"
      ]
     },
     "metadata": {},
     "output_type": "display_data"
    },
    {
     "name": "stdout",
     "output_type": "stream",
     "text": [
      "DS7402LC 103.8\n"
     ]
    },
    {
     "data": {
      "application/vnd.jupyter.widget-view+json": {
       "model_id": "29d38cb2cbc14d529bbcbf16f133975d",
       "version_major": 2,
       "version_minor": 0
      },
      "text/plain": [
       "  0%|          | 0/100 [00:00<?, ?it/s]"
      ]
     },
     "metadata": {},
     "output_type": "display_data"
    },
    {
     "name": "stdout",
     "output_type": "stream",
     "text": [
      "DS7402LC 46.8\n"
     ]
    },
    {
     "data": {
      "application/vnd.jupyter.widget-view+json": {
       "model_id": "558e268a677b4ef5841c52c7e93ea16c",
       "version_major": 2,
       "version_minor": 0
      },
      "text/plain": [
       "  0%|          | 0/100 [00:00<?, ?it/s]"
      ]
     },
     "metadata": {},
     "output_type": "display_data"
    },
    {
     "name": "stdout",
     "output_type": "stream",
     "text": [
      "DS7402LC 24.4\n"
     ]
    },
    {
     "data": {
      "application/vnd.jupyter.widget-view+json": {
       "model_id": "e59811dc96724511b964fc85127b2805",
       "version_major": 2,
       "version_minor": 0
      },
      "text/plain": [
       "  0%|          | 0/100 [00:00<?, ?it/s]"
      ]
     },
     "metadata": {},
     "output_type": "display_data"
    },
    {
     "name": "stdout",
     "output_type": "stream",
     "text": [
      "DS7402LC 81.4\n"
     ]
    },
    {
     "data": {
      "application/vnd.jupyter.widget-view+json": {
       "model_id": "f1f0d41312514cef9439c70c77919867",
       "version_major": 2,
       "version_minor": 0
      },
      "text/plain": [
       "  0%|          | 0/100 [00:00<?, ?it/s]"
      ]
     },
     "metadata": {},
     "output_type": "display_data"
    },
    {
     "name": "stdout",
     "output_type": "stream",
     "text": [
      "DS7402LC 165.0\n"
     ]
    },
    {
     "data": {
      "application/vnd.jupyter.widget-view+json": {
       "model_id": "38fa4217942f479ca86351c575211f61",
       "version_major": 2,
       "version_minor": 0
      },
      "text/plain": [
       "  0%|          | 0/100 [00:00<?, ?it/s]"
      ]
     },
     "metadata": {},
     "output_type": "display_data"
    },
    {
     "name": "stdout",
     "output_type": "stream",
     "text": [
      "IT150G 46.8\n"
     ]
    },
    {
     "data": {
      "application/vnd.jupyter.widget-view+json": {
       "model_id": "c8cbcb112e194fc892087b9f720b1b21",
       "version_major": 2,
       "version_minor": 0
      },
      "text/plain": [
       "  0%|          | 0/100 [00:00<?, ?it/s]"
      ]
     },
     "metadata": {},
     "output_type": "display_data"
    },
    {
     "name": "stdout",
     "output_type": "stream",
     "text": [
      "IT150G 203.4\n"
     ]
    },
    {
     "data": {
      "application/vnd.jupyter.widget-view+json": {
       "model_id": "7581a8c865d648f98ea51d2f1b888a57",
       "version_major": 2,
       "version_minor": 0
      },
      "text/plain": [
       "  0%|          | 0/100 [00:00<?, ?it/s]"
      ]
     },
     "metadata": {},
     "output_type": "display_data"
    },
    {
     "name": "stdout",
     "output_type": "stream",
     "text": [
      "EM-526 46.8\n"
     ]
    },
    {
     "data": {
      "application/vnd.jupyter.widget-view+json": {
       "model_id": "2cedb2d68d9447b08ae07b029827a575",
       "version_major": 2,
       "version_minor": 0
      },
      "text/plain": [
       "  0%|          | 0/100 [00:00<?, ?it/s]"
      ]
     },
     "metadata": {},
     "output_type": "display_data"
    },
    {
     "name": "stdout",
     "output_type": "stream",
     "text": [
      "EM-526 103.8\n"
     ]
    },
    {
     "data": {
      "application/vnd.jupyter.widget-view+json": {
       "model_id": "227e957b24624434be82f1eaa03e1837",
       "version_major": 2,
       "version_minor": 0
      },
      "text/plain": [
       "  0%|          | 0/100 [00:00<?, ?it/s]"
      ]
     },
     "metadata": {},
     "output_type": "display_data"
    }
   ],
   "source": [
    "customs = []\n",
    "for i in range(len(makers)):\n",
    "    maker_ = makers[i]\n",
    "    glass_ = float(glasses[i])\n",
    "    print(maker_,glass_)\n",
    "    custom_ = ANN_customize(data_drop,maker_,glass_)\n",
    "    customs.append(custom_)"
   ]
  },
  {
   "cell_type": "code",
   "execution_count": null,
   "metadata": {},
   "outputs": [],
   "source": []
  },
  {
   "cell_type": "code",
   "execution_count": 70,
   "metadata": {
    "scrolled": true
   },
   "outputs": [
    {
     "data": {
      "text/html": [
       "<div>\n",
       "<style scoped>\n",
       "    .dataframe tbody tr th:only-of-type {\n",
       "        vertical-align: middle;\n",
       "    }\n",
       "\n",
       "    .dataframe tbody tr th {\n",
       "        vertical-align: top;\n",
       "    }\n",
       "\n",
       "    .dataframe thead th {\n",
       "        text-align: right;\n",
       "    }\n",
       "</style>\n",
       "<table border=\"1\" class=\"dataframe\">\n",
       "  <thead>\n",
       "    <tr style=\"text-align: right;\">\n",
       "      <th></th>\n",
       "      <th>Maker</th>\n",
       "      <th>Glass</th>\n",
       "      <th>Mean</th>\n",
       "      <th>Customize</th>\n",
       "    </tr>\n",
       "  </thead>\n",
       "  <tbody>\n",
       "    <tr>\n",
       "      <th>0</th>\n",
       "      <td>DS7402M</td>\n",
       "      <td>46.8</td>\n",
       "      <td>2.665</td>\n",
       "      <td>0.465724</td>\n",
       "    </tr>\n",
       "    <tr>\n",
       "      <th>1</th>\n",
       "      <td>DS7402M</td>\n",
       "      <td>203.4</td>\n",
       "      <td>3.758</td>\n",
       "      <td>0.68991</td>\n",
       "    </tr>\n",
       "    <tr>\n",
       "      <th>2</th>\n",
       "      <td>DS7402M</td>\n",
       "      <td>81.4</td>\n",
       "      <td>2.428</td>\n",
       "      <td>0.561181</td>\n",
       "    </tr>\n",
       "    <tr>\n",
       "      <th>3</th>\n",
       "      <td>DS7402M</td>\n",
       "      <td>165.0</td>\n",
       "      <td>1.994</td>\n",
       "      <td>0.689664</td>\n",
       "    </tr>\n",
       "    <tr>\n",
       "      <th>4</th>\n",
       "      <td>DS7402M</td>\n",
       "      <td>31.0</td>\n",
       "      <td>6.799</td>\n",
       "      <td>0.379479</td>\n",
       "    </tr>\n",
       "    <tr>\n",
       "      <th>5</th>\n",
       "      <td>DS7402M</td>\n",
       "      <td>103.8</td>\n",
       "      <td>4.32</td>\n",
       "      <td>0.633192</td>\n",
       "    </tr>\n",
       "    <tr>\n",
       "      <th>6</th>\n",
       "      <td>DS7402M</td>\n",
       "      <td>24.4</td>\n",
       "      <td>2.91</td>\n",
       "      <td>0.361414</td>\n",
       "    </tr>\n",
       "    <tr>\n",
       "      <th>7</th>\n",
       "      <td>NPG-151</td>\n",
       "      <td>46.8</td>\n",
       "      <td>2.134</td>\n",
       "      <td>0.465795</td>\n",
       "    </tr>\n",
       "    <tr>\n",
       "      <th>8</th>\n",
       "      <td>EM-370Z</td>\n",
       "      <td>46.8</td>\n",
       "      <td>2.486</td>\n",
       "      <td>0.465745</td>\n",
       "    </tr>\n",
       "    <tr>\n",
       "      <th>9</th>\n",
       "      <td>EM-370Z</td>\n",
       "      <td>103.8</td>\n",
       "      <td>1.74</td>\n",
       "      <td>0.633518</td>\n",
       "    </tr>\n",
       "    <tr>\n",
       "      <th>10</th>\n",
       "      <td>EM-370Z</td>\n",
       "      <td>31.0</td>\n",
       "      <td>6.652</td>\n",
       "      <td>0.379491</td>\n",
       "    </tr>\n",
       "    <tr>\n",
       "      <th>11</th>\n",
       "      <td>EM-370Z</td>\n",
       "      <td>81.4</td>\n",
       "      <td>2.017</td>\n",
       "      <td>0.561358</td>\n",
       "    </tr>\n",
       "    <tr>\n",
       "      <th>12</th>\n",
       "      <td>DS7402LC</td>\n",
       "      <td>31.0</td>\n",
       "      <td>2.404</td>\n",
       "      <td>0.379486</td>\n",
       "    </tr>\n",
       "    <tr>\n",
       "      <th>13</th>\n",
       "      <td>DS7402LC</td>\n",
       "      <td>103.8</td>\n",
       "      <td>1.452</td>\n",
       "      <td>0.640338</td>\n",
       "    </tr>\n",
       "    <tr>\n",
       "      <th>14</th>\n",
       "      <td>DS7402LC</td>\n",
       "      <td>46.8</td>\n",
       "      <td>1.431</td>\n",
       "      <td>0.465819</td>\n",
       "    </tr>\n",
       "    <tr>\n",
       "      <th>15</th>\n",
       "      <td>DS7402LC</td>\n",
       "      <td>24.4</td>\n",
       "      <td>1.773</td>\n",
       "      <td>0.361357</td>\n",
       "    </tr>\n",
       "    <tr>\n",
       "      <th>16</th>\n",
       "      <td>DS7402LC</td>\n",
       "      <td>81.4</td>\n",
       "      <td>1.778</td>\n",
       "      <td>0.561298</td>\n",
       "    </tr>\n",
       "    <tr>\n",
       "      <th>17</th>\n",
       "      <td>DS7402LC</td>\n",
       "      <td>165.0</td>\n",
       "      <td>1.311</td>\n",
       "      <td>0.689662</td>\n",
       "    </tr>\n",
       "    <tr>\n",
       "      <th>18</th>\n",
       "      <td>IT150G</td>\n",
       "      <td>46.8</td>\n",
       "      <td>1.833</td>\n",
       "      <td>0.465788</td>\n",
       "    </tr>\n",
       "    <tr>\n",
       "      <th>19</th>\n",
       "      <td>IT150G</td>\n",
       "      <td>203.4</td>\n",
       "      <td>9.559</td>\n",
       "      <td>0.690937</td>\n",
       "    </tr>\n",
       "    <tr>\n",
       "      <th>20</th>\n",
       "      <td>EM-526</td>\n",
       "      <td>46.8</td>\n",
       "      <td>4.082</td>\n",
       "      <td>0.465755</td>\n",
       "    </tr>\n",
       "    <tr>\n",
       "      <th>21</th>\n",
       "      <td>EM-526</td>\n",
       "      <td>103.8</td>\n",
       "      <td>5.988</td>\n",
       "      <td>0.639766</td>\n",
       "    </tr>\n",
       "  </tbody>\n",
       "</table>\n",
       "</div>"
      ],
      "text/plain": [
       "       Maker  Glass   Mean Customize\n",
       "0    DS7402M   46.8  2.665  0.465724\n",
       "1    DS7402M  203.4  3.758   0.68991\n",
       "2    DS7402M   81.4  2.428  0.561181\n",
       "3    DS7402M  165.0  1.994  0.689664\n",
       "4    DS7402M   31.0  6.799  0.379479\n",
       "5    DS7402M  103.8   4.32  0.633192\n",
       "6    DS7402M   24.4   2.91  0.361414\n",
       "7    NPG-151   46.8  2.134  0.465795\n",
       "8    EM-370Z   46.8  2.486  0.465745\n",
       "9    EM-370Z  103.8   1.74  0.633518\n",
       "10   EM-370Z   31.0  6.652  0.379491\n",
       "11   EM-370Z   81.4  2.017  0.561358\n",
       "12  DS7402LC   31.0  2.404  0.379486\n",
       "13  DS7402LC  103.8  1.452  0.640338\n",
       "14  DS7402LC   46.8  1.431  0.465819\n",
       "15  DS7402LC   24.4  1.773  0.361357\n",
       "16  DS7402LC   81.4  1.778  0.561298\n",
       "17  DS7402LC  165.0  1.311  0.689662\n",
       "18    IT150G   46.8  1.833  0.465788\n",
       "19    IT150G  203.4  9.559  0.690937\n",
       "20    EM-526   46.8  4.082  0.465755\n",
       "21    EM-526  103.8  5.988  0.639766"
      ]
     },
     "execution_count": 70,
     "metadata": {},
     "output_type": "execute_result"
    }
   ],
   "source": [
    "(pd.DataFrame([makers,glasses,mean_va,customs]).T).rename(columns={0:\"Maker\",1:\"Glass\",2:\"Mean\",3:\"Customize\"})"
   ]
  },
  {
   "cell_type": "code",
   "execution_count": null,
   "metadata": {},
   "outputs": [],
   "source": []
  },
  {
   "cell_type": "code",
   "execution_count": null,
   "metadata": {},
   "outputs": [],
   "source": []
  }
 ],
 "metadata": {
  "kernelspec": {
   "display_name": "Python 3",
   "language": "python",
   "name": "python3"
  },
  "language_info": {
   "codemirror_mode": {
    "name": "ipython",
    "version": 3
   },
   "file_extension": ".py",
   "mimetype": "text/x-python",
   "name": "python",
   "nbconvert_exporter": "python",
   "pygments_lexer": "ipython3",
   "version": "3.7.6"
  }
 },
 "nbformat": 4,
 "nbformat_minor": 4
}
