{
 "cells": [
  {
   "cell_type": "code",
   "execution_count": 1,
   "metadata": {},
   "outputs": [
    {
     "name": "stdout",
     "output_type": "stream",
     "text": [
      "2.3.0\n"
     ]
    }
   ],
   "source": [
    "import sys\n",
    "import pandas as pd\n",
    "import numpy as np \n",
    "import tensorflow as tf\n",
    "from tensorflow import keras\n",
    "from tensorflow.keras.models import Sequential\n",
    "from tensorflow.keras.layers import SimpleRNN\n",
    "from tensorflow.keras import optimizers\n",
    "from tensorflow.keras import layers\n",
    "from sklearn import svm\n",
    "import sklearn.svm as svm\n",
    "import sklearn.metrics as mt\n",
    "from sklearn import model_selection as ms\n",
    "from sklearn.preprocessing import StandardScaler\n",
    "from sklearn.decomposition import PCA\n",
    "from sklearn.linear_model import LinearRegression\n",
    "from scipy import stats\n",
    "from random import *\n",
    "from tensorflow.keras import utils\n",
    "print(tf.__version__)\n",
    "\n",
    "import matplotlib.pyplot as plt\n",
    "%matplotlib inline"
   ]
  },
  {
   "cell_type": "code",
   "execution_count": 2,
   "metadata": {
    "scrolled": false
   },
   "outputs": [
    {
     "name": "stdout",
     "output_type": "stream",
     "text": [
      "2.3.0\n"
     ]
    }
   ],
   "source": [
    "print(tf.__version__)"
   ]
  },
  {
   "cell_type": "markdown",
   "metadata": {},
   "source": [
    "### Input값과 실제 값의 차이 확인"
   ]
  },
  {
   "cell_type": "code",
   "execution_count": 3,
   "metadata": {
    "scrolled": true
   },
   "outputs": [],
   "source": [
    "raw_diff = pd.read_excel('Data_preprocessing5.xlsx')\n",
    "\n",
    "#Input과 실제 값의 차이 column 생성\n",
    "diff = raw_diff.copy()\n",
    "diff['Difference'] = abs(diff['Input_T'] - diff['Thickness'])\n",
    "\n",
    "pp_diff = diff[diff['PP'] == 1] # pp층\n",
    "ccl_diff = diff[diff['PP'] ==0] # ccl층"
   ]
  },
  {
   "cell_type": "code",
   "execution_count": 4,
   "metadata": {
    "scrolled": true
   },
   "outputs": [
    {
     "data": {
      "image/png": "[encoded data removed]",
      "text/plain": [
       "<Figure size 576x360 with 1 Axes>"
      ]
     },
     "metadata": {
      "needs_background": "light"
     },
     "output_type": "display_data"
    }
   ],
   "source": [
    "#PP층의 Input값과 실제 값 차이 시각화\n",
    "plt.figure(figsize=(8,5))\n",
    "plt.hist(pp_diff['Difference'], bins = 50)\n",
    "plt.xlim([0,30])\n",
    "plt.show()"
   ]
  },
  {
   "cell_type": "code",
   "execution_count": 5,
   "metadata": {
    "scrolled": false
   },
   "outputs": [
    {
     "data": {
      "image/png": "[encoded data removed]",
      "text/plain": [
       "<Figure size 576x360 with 1 Axes>"
      ]
     },
     "metadata": {
      "needs_background": "light"
     },
     "output_type": "display_data"
    }
   ],
   "source": [
    "#CCL층의 Input값과 실제 값 차이 시각화\n",
    "plt.figure(figsize=(8,5))\n",
    "plt.hist(ccl_diff['Difference'], bins = 50)\n",
    "plt.xlim([0,30])\n",
    "plt.show()"
   ]
  },
  {
   "cell_type": "code",
   "execution_count": null,
   "metadata": {},
   "outputs": [],
   "source": []
  },
  {
   "cell_type": "markdown",
   "metadata": {},
   "source": [
    "## RNN"
   ]
  },
  {
   "cell_type": "markdown",
   "metadata": {},
   "source": [
    "### 데이터 전처리"
   ]
  },
  {
   "cell_type": "code",
   "execution_count": 6,
   "metadata": {
    "scrolled": true
   },
   "outputs": [
    {
     "data": {
      "text/html": [
       "<div>\n",
       "<style scoped>\n",
       "    .dataframe tbody tr th:only-of-type {\n",
       "        vertical-align: middle;\n",
       "    }\n",
       "\n",
       "    .dataframe tbody tr th {\n",
       "        vertical-align: top;\n",
       "    }\n",
       "\n",
       "    .dataframe thead th {\n",
       "        text-align: right;\n",
       "    }\n",
       "</style>\n",
       "<table border=\"1\" class=\"dataframe\">\n",
       "  <thead>\n",
       "    <tr style=\"text-align: right;\">\n",
       "      <th></th>\n",
       "      <th>Model</th>\n",
       "      <th>LayerNum</th>\n",
       "      <th>RD</th>\n",
       "      <th>GD</th>\n",
       "      <th>RC</th>\n",
       "      <th>MatlG</th>\n",
       "      <th>Cu1</th>\n",
       "      <th>CP1</th>\n",
       "      <th>Cu2</th>\n",
       "      <th>CP2</th>\n",
       "      <th>Input_T</th>\n",
       "      <th>Thickness</th>\n",
       "    </tr>\n",
       "  </thead>\n",
       "  <tbody>\n",
       "    <tr>\n",
       "      <th>0</th>\n",
       "      <td>1</td>\n",
       "      <td>1</td>\n",
       "      <td>1.36</td>\n",
       "      <td>2.56</td>\n",
       "      <td>61</td>\n",
       "      <td>46.8</td>\n",
       "      <td>8.21</td>\n",
       "      <td>55</td>\n",
       "      <td>14.29</td>\n",
       "      <td>73</td>\n",
       "      <td>60</td>\n",
       "      <td>67.70</td>\n",
       "    </tr>\n",
       "    <tr>\n",
       "      <th>1</th>\n",
       "      <td>1</td>\n",
       "      <td>3</td>\n",
       "      <td>1.36</td>\n",
       "      <td>2.56</td>\n",
       "      <td>47</td>\n",
       "      <td>203.4</td>\n",
       "      <td>15.04</td>\n",
       "      <td>56</td>\n",
       "      <td>14.58</td>\n",
       "      <td>46</td>\n",
       "      <td>200</td>\n",
       "      <td>187.25</td>\n",
       "    </tr>\n",
       "    <tr>\n",
       "      <th>2</th>\n",
       "      <td>1</td>\n",
       "      <td>5</td>\n",
       "      <td>1.36</td>\n",
       "      <td>2.56</td>\n",
       "      <td>53</td>\n",
       "      <td>81.4</td>\n",
       "      <td>14.29</td>\n",
       "      <td>75</td>\n",
       "      <td>15.04</td>\n",
       "      <td>48</td>\n",
       "      <td>90</td>\n",
       "      <td>80.48</td>\n",
       "    </tr>\n",
       "    <tr>\n",
       "      <th>3</th>\n",
       "      <td>1</td>\n",
       "      <td>7</td>\n",
       "      <td>1.36</td>\n",
       "      <td>2.56</td>\n",
       "      <td>53</td>\n",
       "      <td>81.4</td>\n",
       "      <td>14.29</td>\n",
       "      <td>48</td>\n",
       "      <td>14.29</td>\n",
       "      <td>75</td>\n",
       "      <td>90</td>\n",
       "      <td>81.44</td>\n",
       "    </tr>\n",
       "    <tr>\n",
       "      <th>4</th>\n",
       "      <td>1</td>\n",
       "      <td>9</td>\n",
       "      <td>1.36</td>\n",
       "      <td>2.56</td>\n",
       "      <td>47</td>\n",
       "      <td>203.4</td>\n",
       "      <td>15.04</td>\n",
       "      <td>50</td>\n",
       "      <td>15.80</td>\n",
       "      <td>60</td>\n",
       "      <td>200</td>\n",
       "      <td>193.23</td>\n",
       "    </tr>\n",
       "  </tbody>\n",
       "</table>\n",
       "</div>"
      ],
      "text/plain": [
       "   Model  LayerNum    RD    GD  RC  MatlG    Cu1  CP1    Cu2  CP2  Input_T  \\\n",
       "0      1         1  1.36  2.56  61   46.8   8.21   55  14.29   73       60   \n",
       "1      1         3  1.36  2.56  47  203.4  15.04   56  14.58   46      200   \n",
       "2      1         5  1.36  2.56  53   81.4  14.29   75  15.04   48       90   \n",
       "3      1         7  1.36  2.56  53   81.4  14.29   48  14.29   75       90   \n",
       "4      1         9  1.36  2.56  47  203.4  15.04   50  15.80   60      200   \n",
       "\n",
       "   Thickness  \n",
       "0      67.70  \n",
       "1     187.25  \n",
       "2      80.48  \n",
       "3      81.44  \n",
       "4     193.23  "
      ]
     },
     "execution_count": 6,
     "metadata": {},
     "output_type": "execute_result"
    }
   ],
   "source": [
    "raw_data = pd.read_excel('Data_preprocessing6.xlsx')\n",
    "data = raw_data.copy()\n",
    "\n",
    "#결측치 0으로 대체\n",
    "data = data.fillna(0)\n",
    "data_rnn = data.copy()\n",
    "\n",
    "#예측에 사용되지 않는 칼럼은 제거\n",
    "data_rnn = data_rnn.drop(['PP','MatlMaker','MatlNum','CCL1','CCL2'],axis='columns')\n",
    "data_rnn.head()"
   ]
  },
  {
   "cell_type": "code",
   "execution_count": 7,
   "metadata": {},
   "outputs": [],
   "source": [
    "#sequence data 생성\n",
    "def make_seq(data_rnn):\n",
    "    # 모델별로 sequence 생성위해 범위 설정\n",
    "    range_ = data_rnn['Model'].unique().tolist()\n",
    "    a =[]\n",
    "    seq_all = []\n",
    "\n",
    "    for i in range_:\n",
    "        #모델별로 데이터 생성 \n",
    "        globals()['data_{}'.format(i)] = data_rnn[data_rnn['Model'] == i]\n",
    "        globals()['data_{}'.format(i)].reset_index(drop = True, inplace=True)\n",
    "        \n",
    "        #모델에서 층만 분류 --> 나중에 제로패딩을 위한 작업\n",
    "        a.append(len(globals()['data_{}'.format(i)]['LayerNum'].unique()))\n",
    "\n",
    "        # 모델별로 생성한 데이터에서 제품 하나씩 분리\n",
    "        l1 = len(globals()['data_{}'.format(i)]['LayerNum'].unique())\n",
    "        l2 = len(globals()['data_{}'.format(i)])\n",
    "        l3 = int(l2/l1)\n",
    "\n",
    "        # seq_a_b : a모델의 b번째 제품\n",
    "        for j in range(1, l3+1):\n",
    "            globals()['seq_{}_{}'.format(i,j)] = globals()['data_{}'.format(i)].copy().iloc[l1*(j-1):l1*j]\n",
    "            globals()['seq_{}_{}'.format(i,j)].drop(['Model'], axis='columns', inplace=True)\n",
    "            seq_all.append(globals()['seq_{}_{}'.format(i,j)])\n",
    "\n",
    "    maxlen = max(a) #최대 층 갯수 저장 --> 제로패딩을 위한 작업\n",
    "    \n",
    "    return range_ , seq_all, maxlen"
   ]
  },
  {
   "cell_type": "code",
   "execution_count": 8,
   "metadata": {},
   "outputs": [],
   "source": [
    "def make_dataset(data_rnn):\n",
    "    range_, seq_all, maxlen = make_seq(data_rnn)\n",
    "    dataset = []\n",
    "\n",
    "    #제품 Layer층이 제일 큰 기준에 맞춰 zero padding 실시\n",
    "    for i in range(1,len(range_)+1):\n",
    "        l1 = len(globals()['data_{}'.format(i)]['LayerNum'].unique())\n",
    "        l2 = len(globals()['data_{}'.format(i)])\n",
    "        l3 = int(l2/l1)\n",
    "\n",
    "        for j in range(1, l3+1):  \n",
    "            size0 = globals()['seq_{}_{}'.format(i,j)].shape[0] #각 sequence의 행의 수\n",
    "            size1 = globals()['seq_{}_{}'.format(i,j)].shape[1] #각 sequence의 열의 수\n",
    "            #최대 행의 수에서 현재 sequence의 행의 수를 뺀 만큼 패딩\n",
    "            pad = pd.DataFrame([[0]*size1],columns=globals()['seq_{}_{}'.format(i,j)].columns, index = range(maxlen - size0))\n",
    "            globals()['seq_{}_{}'.format(i,j)] = pd.concat([globals()['seq_{}_{}'.format(i,j)], pad]).reset_index(drop=True)\n",
    "            dataset.append(globals()['seq_{}_{}'.format(i,j)])\n",
    "    return dataset"
   ]
  },
  {
   "cell_type": "code",
   "execution_count": 9,
   "metadata": {},
   "outputs": [],
   "source": [
    "dataset = make_dataset(data_rnn)"
   ]
  },
  {
   "cell_type": "markdown",
   "metadata": {},
   "source": [
    "### Train/Test dataset 분리"
   ]
  },
  {
   "cell_type": "code",
   "execution_count": 10,
   "metadata": {},
   "outputs": [],
   "source": [
    "def train_test_set(dataset):\n",
    "    train_len = int(0.8 * len(dataset))\n",
    "    \n",
    "    # 전체 데이터 셋의 80% 무작위 추출\n",
    "    np.random.seed(10)\n",
    "    p = np.random.choice(len(dataset), train_len , replace=False)\n",
    "    train_dataset = [dataset[i] for i in p]\n",
    "    \n",
    "    # 나머지 20% 추출\n",
    "    q = [i for i in range(len(dataset)) if i not in p]\n",
    "    test_dataset = [dataset[i] for i in q]\n",
    "    \n",
    "    # 하나로 통합\n",
    "    for i in range(len(p)-1):\n",
    "        train_dataset[0] = train_dataset[0].append(train_dataset[i+1])\n",
    "\n",
    "    for i in range(len(q)-1):\n",
    "        test_dataset[0] = test_dataset[0].append(test_dataset[i+1])\n",
    "        \n",
    "    #두께를 y값으로 나머지를 x값으로 설정\n",
    "    train_seq_x = train_dataset[0].drop('Thickness', axis = 1)\n",
    "    train_seq_y = train_dataset[0]['Thickness']\n",
    "    \n",
    "    test_seq_x = test_dataset[0].drop('Thickness', axis = 1)\n",
    "    test_seq_y = test_dataset[0]['Thickness']\n",
    "    \n",
    "    # RNN Input 형태에 맞추기 위해 reshape\n",
    "    temp, temp2, maxlen = make_seq(data_rnn)\n",
    "    train_seq_x2 = train_seq_x.values.reshape(-1,maxlen,train_seq_x.shape[1])\n",
    "    train_seq_y2 = train_seq_y.values.reshape(-1,maxlen,1)\n",
    "\n",
    "    test_seq_x2 = test_seq_x.values.reshape(-1,maxlen,test_seq_x.shape[1])\n",
    "    test_seq_y2 = test_seq_y.values.reshape(-1,maxlen,1)\n",
    "    \n",
    "    return train_seq_x2, train_seq_y2, test_seq_x2, test_seq_y2"
   ]
  },
  {
   "cell_type": "code",
   "execution_count": 11,
   "metadata": {},
   "outputs": [],
   "source": [
    "train_seq_x2, train_seq_y2, test_seq_x2, test_seq_y2 = train_test_set(dataset)"
   ]
  },
  {
   "cell_type": "markdown",
   "metadata": {},
   "source": [
    "### SimpleRNN Modeling"
   ]
  },
  {
   "cell_type": "code",
   "execution_count": 12,
   "metadata": {},
   "outputs": [],
   "source": [
    "#예측 모델 생성\n",
    "def build_model():\n",
    "    #SimpleRNN 모델 설정, input사이즈는 데이터에 따라 유동적일 수 있도록 설정\n",
    "    #return_sequences = Ture를 통해 각 층마다 결과값 도출\n",
    "    model = keras.Sequential()\n",
    "    model.add(SimpleRNN(32, input_shape=(train_seq_x2.shape[1],train_seq_x2.shape[2]),return_sequences = True))\n",
    "    model.add(layers.Dense(8, activation='relu'))\n",
    "    model.add(layers.Dense(8, activation='relu'))\n",
    "    model.add(layers.Dense(1))\n",
    "    \n",
    "    adam = optimizers.Adam(lr = 0.001)\n",
    "\n",
    "    model.compile(loss='mse',\n",
    "                optimizer=adam,\n",
    "                metrics=['mae', 'mse'])\n",
    "    \n",
    "    return model"
   ]
  },
  {
   "cell_type": "code",
   "execution_count": 13,
   "metadata": {},
   "outputs": [],
   "source": [
    "model = build_model()"
   ]
  },
  {
   "cell_type": "code",
   "execution_count": 14,
   "metadata": {
    "scrolled": true
   },
   "outputs": [],
   "source": [
    "class PrintDot(keras.callbacks.Callback):\n",
    "    def on_epoch_end(self, epoch, logs):\n",
    "        if epoch % 100 == 0: print('')\n",
    "        print('.', end='')\n",
    "\n",
    "EPOCHS = 200"
   ]
  },
  {
   "cell_type": "code",
   "execution_count": 15,
   "metadata": {},
   "outputs": [
    {
     "name": "stdout",
     "output_type": "stream",
     "text": [
      "\n",
      "....................................................................................................\n",
      "...................................................................................................."
     ]
    }
   ],
   "source": [
    "history = model.fit(train_seq_x2, train_seq_y2,epochs=EPOCHS, validation_split = 0.3, verbose=0, callbacks=[PrintDot()])"
   ]
  },
  {
   "cell_type": "markdown",
   "metadata": {},
   "source": [
    "### Training 시각화"
   ]
  },
  {
   "cell_type": "code",
   "execution_count": 16,
   "metadata": {
    "scrolled": true
   },
   "outputs": [],
   "source": [
    "import matplotlib.pyplot as plt\n",
    "\n",
    "#Epoch 변화에 따른 Training data, Validation data의 MAE, MSE 변화 파악\n",
    "def plot_history(history):\n",
    "    hist= pd.DataFrame(history.history)\n",
    "    hist['epoch'] = history.epoch\n",
    "\n",
    "    plt.figure(figsize=(8,12))\n",
    "\n",
    "    plt.subplot(2,1,1)\n",
    "    plt.xlabel('Epoch')\n",
    "    plt.ylabel('Mean Abs Error')\n",
    "    plt.plot(hist['epoch'], hist['mae'],\n",
    "           label='Train Error')\n",
    "    plt.plot(hist['epoch'], hist['val_mae'],\n",
    "           label = 'Val Error')\n",
    "#     plt.ylim([0,5])\n",
    "    plt.legend()\n",
    "\n",
    "    plt.subplot(2,1,2)\n",
    "    plt.xlabel('Epoch')\n",
    "    plt.ylabel('Mean Square Error')\n",
    "    plt.plot(hist['epoch'], hist['mse'],\n",
    "           label='Train Error')\n",
    "    plt.plot(hist['epoch'], hist['val_mse'],\n",
    "           label = 'Val Error')\n",
    "#     plt.ylim([0,200])\n",
    "    plt.legend()\n",
    "    plt.show()"
   ]
  },
  {
   "cell_type": "code",
   "execution_count": 17,
   "metadata": {},
   "outputs": [
    {
     "data": {
      "image/png": "[encoded data removed]",
      "text/plain": [
       "<Figure size 576x864 with 2 Axes>"
      ]
     },
     "metadata": {
      "needs_background": "light"
     },
     "output_type": "display_data"
    }
   ],
   "source": [
    "plot_history(history)"
   ]
  },
  {
   "cell_type": "code",
   "execution_count": 18,
   "metadata": {
    "scrolled": true
   },
   "outputs": [],
   "source": [
    "test_predictions = model.predict(test_seq_x2)"
   ]
  },
  {
   "cell_type": "code",
   "execution_count": 19,
   "metadata": {},
   "outputs": [
    {
     "data": {
      "text/plain": [
       "[<matplotlib.lines.Line2D at 0x17f729fd148>]"
      ]
     },
     "execution_count": 19,
     "metadata": {},
     "output_type": "execute_result"
    },
    {
     "data": {
      "image/png": "[encoded data removed]",
      "text/plain": [
       "<Figure size 432x288 with 1 Axes>"
      ]
     },
     "metadata": {
      "needs_background": "light"
     },
     "output_type": "display_data"
    }
   ],
   "source": [
    "# 실제 값과 예측 값의 차이를 y=x 직선 위에 표현\n",
    "plt.scatter(test_seq_y2,test_predictions)\n",
    "plt.xlabel('True Values')\n",
    "plt.ylabel('Predictions')\n",
    "plt.axis('equal')\n",
    "plt.axis('square')\n",
    "plt.plot([-100, 250], [-100, 250])"
   ]
  },
  {
   "cell_type": "markdown",
   "metadata": {},
   "source": [
    "### R-squared"
   ]
  },
  {
   "cell_type": "code",
   "execution_count": 20,
   "metadata": {},
   "outputs": [],
   "source": [
    "#R-squared 값 계산\n",
    "def val(test_predictions):\n",
    "    se = test_seq_y2 - test_predictions\n",
    "    se2 = se ** 2\n",
    "    s = sum(i for i in se2)\n",
    "\n",
    "    st = test_seq_y2 - sum(test_seq_y2)/64\n",
    "    st2 = st ** 2\n",
    "    t = sum(i for i in st2)\n",
    "\n",
    "    r_sqr = 1 - (s/t)\n",
    "    return r_sqr"
   ]
  },
  {
   "cell_type": "code",
   "execution_count": 21,
   "metadata": {
    "scrolled": true
   },
   "outputs": [
    {
     "data": {
      "text/plain": [
       "array([[0.84715159],\n",
       "       [0.98291068],\n",
       "       [0.96166042],\n",
       "       [0.9680995 ],\n",
       "       [0.9714486 ],\n",
       "       [0.98567321],\n",
       "       [0.98711601],\n",
       "       [0.9882225 ],\n",
       "       [0.96995879]])"
      ]
     },
     "execution_count": 21,
     "metadata": {},
     "output_type": "execute_result"
    }
   ],
   "source": [
    "#각 층마다 R-squared 값 계산\n",
    "val(test_predictions)"
   ]
  },
  {
   "cell_type": "markdown",
   "metadata": {},
   "source": [
    "### 오차 그래프 시각화"
   ]
  },
  {
   "cell_type": "code",
   "execution_count": 22,
   "metadata": {
    "scrolled": false
   },
   "outputs": [
    {
     "data": {
      "image/png": "[encoded data removed]",
      "text/plain": [
       "<Figure size 576x216 with 1 Axes>"
      ]
     },
     "metadata": {
      "needs_background": "light"
     },
     "output_type": "display_data"
    }
   ],
   "source": [
    "# 예측값과 실제값의 차이 그래프로 표현\n",
    "plt.figure(figsize=(8, 3))\n",
    "plt.hist((test_seq_y2 - test_predictions).flatten(), bins = 30)\n",
    "plt.xlabel(\"Error\")\n",
    "plt.title(\"prediction\")\n",
    "plt.tight_layout()\n",
    "plt.show()"
   ]
  },
  {
   "cell_type": "code",
   "execution_count": null,
   "metadata": {},
   "outputs": [],
   "source": []
  },
  {
   "cell_type": "code",
   "execution_count": null,
   "metadata": {},
   "outputs": [],
   "source": []
  },
  {
   "cell_type": "markdown",
   "metadata": {},
   "source": [
    "### Bidirectional RNN Modeling"
   ]
  },
  {
   "cell_type": "code",
   "execution_count": 23,
   "metadata": {},
   "outputs": [],
   "source": [
    "def build_model2():\n",
    "    model2 = keras.Sequential()\n",
    "    model2.add(layers.Bidirectional(SimpleRNN(32, input_shape = (train_seq_x2.shape[1],train_seq_x2.shape[2]), return_sequences = True)))\n",
    "    model2.add(layers.Dense(8, activation='relu'))\n",
    "    model2.add(layers.Dense(8, activation='relu'))\n",
    "    model2.add(layers.Dense(1))\n",
    "    \n",
    "    adam = optimizers.Adam(lr = 0.001)\n",
    "\n",
    "    model2.compile(loss='mse',\n",
    "                optimizer=adam,\n",
    "                metrics=['mae', 'mse'])\n",
    "    \n",
    "    return model2"
   ]
  },
  {
   "cell_type": "code",
   "execution_count": 24,
   "metadata": {},
   "outputs": [],
   "source": [
    "model2 = build_model2()"
   ]
  },
  {
   "cell_type": "code",
   "execution_count": 25,
   "metadata": {},
   "outputs": [],
   "source": [
    "class PrintDot(keras.callbacks.Callback):\n",
    "    def on_epoch_end(self, epoch, logs):\n",
    "        if epoch % 100 == 0: print('')\n",
    "        print('.', end='')\n",
    "\n",
    "EPOCHS = 200"
   ]
  },
  {
   "cell_type": "code",
   "execution_count": 26,
   "metadata": {},
   "outputs": [
    {
     "name": "stdout",
     "output_type": "stream",
     "text": [
      "\n",
      "....................................................................................................\n",
      "...................................................................................................."
     ]
    }
   ],
   "source": [
    "history2 = model2.fit(train_seq_x2, train_seq_y2,epochs=EPOCHS, validation_split = 0.3, verbose=0, callbacks=[PrintDot()])"
   ]
  },
  {
   "cell_type": "markdown",
   "metadata": {},
   "source": [
    "### Training 시각화"
   ]
  },
  {
   "cell_type": "code",
   "execution_count": 27,
   "metadata": {},
   "outputs": [
    {
     "data": {
      "image/png": "[encoded data removed]",
      "text/plain": [
       "<Figure size 576x864 with 2 Axes>"
      ]
     },
     "metadata": {
      "needs_background": "light"
     },
     "output_type": "display_data"
    }
   ],
   "source": [
    "plot_history(history2)"
   ]
  },
  {
   "cell_type": "code",
   "execution_count": 28,
   "metadata": {
    "scrolled": true
   },
   "outputs": [],
   "source": [
    "test_predictions2 = model2.predict(test_seq_x2)"
   ]
  },
  {
   "cell_type": "code",
   "execution_count": 29,
   "metadata": {},
   "outputs": [
    {
     "data": {
      "text/plain": [
       "[<matplotlib.lines.Line2D at 0x17f82f75688>]"
      ]
     },
     "execution_count": 29,
     "metadata": {},
     "output_type": "execute_result"
    },
    {
     "data": {
      "image/png": "[encoded data removed]",
      "text/plain": [
       "<Figure size 432x288 with 1 Axes>"
      ]
     },
     "metadata": {
      "needs_background": "light"
     },
     "output_type": "display_data"
    }
   ],
   "source": [
    "plt.scatter(test_seq_y2, test_predictions2)\n",
    "plt.xlabel('True Values')\n",
    "plt.ylabel('Predictions')\n",
    "plt.axis('equal')\n",
    "plt.axis('square')\n",
    "plt.plot([-100, 250], [-100, 250])"
   ]
  },
  {
   "cell_type": "markdown",
   "metadata": {},
   "source": [
    "### R-squared"
   ]
  },
  {
   "cell_type": "code",
   "execution_count": 30,
   "metadata": {},
   "outputs": [
    {
     "data": {
      "text/plain": [
       "array([[0.94369216],\n",
       "       [0.98801548],\n",
       "       [0.98881046],\n",
       "       [0.9886112 ],\n",
       "       [0.99176444],\n",
       "       [0.99079401],\n",
       "       [0.99697964],\n",
       "       [0.99689674],\n",
       "       [0.97908454]])"
      ]
     },
     "execution_count": 30,
     "metadata": {},
     "output_type": "execute_result"
    }
   ],
   "source": [
    "val(test_predictions2)"
   ]
  },
  {
   "cell_type": "markdown",
   "metadata": {},
   "source": [
    "### 오차 그래프 시각화"
   ]
  },
  {
   "cell_type": "code",
   "execution_count": 31,
   "metadata": {
    "scrolled": false
   },
   "outputs": [
    {
     "data": {
      "image/png": "[encoded data removed]",
      "text/plain": [
       "<Figure size 576x216 with 1 Axes>"
      ]
     },
     "metadata": {
      "needs_background": "light"
     },
     "output_type": "display_data"
    }
   ],
   "source": [
    "plt.figure(figsize=(8, 3))\n",
    "plt.hist((test_seq_y2 - test_predictions2).flatten(), bins = 30)\n",
    "plt.xlabel(\"Error\")\n",
    "plt.title(\"prediction\")\n",
    "plt.tight_layout()\n",
    "plt.show()"
   ]
  },
  {
   "cell_type": "code",
   "execution_count": 32,
   "metadata": {},
   "outputs": [
    {
     "data": {
      "text/plain": [
       "array([[2.58268024],\n",
       "       [5.29258218],\n",
       "       [4.31434942],\n",
       "       [4.58537119],\n",
       "       [3.87097495],\n",
       "       [2.694758  ],\n",
       "       [1.11585415],\n",
       "       [0.59582026],\n",
       "       [0.5066038 ]])"
      ]
     },
     "execution_count": 32,
     "metadata": {},
     "output_type": "execute_result"
    }
   ],
   "source": [
    "sum(abs(test_seq_y2 - test_predictions2)/64)"
   ]
  },
  {
   "cell_type": "code",
   "execution_count": 33,
   "metadata": {
    "scrolled": true
   },
   "outputs": [
    {
     "data": {
      "text/plain": [
       "array([ 0.2423037 ,  1.40904736,  0.95256819, -0.10370815,  1.13659794,\n",
       "       -1.0279164 , -0.22076611,  0.41852215,  0.47865368])"
      ]
     },
     "execution_count": 33,
     "metadata": {},
     "output_type": "execute_result"
    }
   ],
   "source": [
    "sum((test_seq_y2-test_predictions2).reshape(64,9))/64"
   ]
  },
  {
   "cell_type": "code",
   "execution_count": 34,
   "metadata": {},
   "outputs": [],
   "source": [
    "abs_value = sum((abs(test_seq_y2-test_predictions2).reshape(64,9)))/64"
   ]
  },
  {
   "cell_type": "code",
   "execution_count": 35,
   "metadata": {},
   "outputs": [
    {
     "data": {
      "image/png": "[encoded data removed]",
      "text/plain": [
       "<Figure size 360x216 with 1 Axes>"
      ]
     },
     "metadata": {
      "needs_background": "light"
     },
     "output_type": "display_data"
    }
   ],
   "source": [
    "#각 층마다 예측값과 실제값의 차이 그래프로 표현\n",
    "plt.figure(figsize=(5, 3))\n",
    "plt.bar(range(1,10),abs_value)\n",
    "plt.xlabel(\"Layer\")\n",
    "plt.ylabel(\"Thickness\")\n",
    "plt.title(\"Average Abs Error\")\n",
    "# plt.tight_layout()\n",
    "plt.show()"
   ]
  },
  {
   "cell_type": "code",
   "execution_count": null,
   "metadata": {},
   "outputs": [],
   "source": []
  }
 ],
 "metadata": {
  "kernelspec": {
   "display_name": "Python 3",
   "language": "python",
   "name": "python3"
  },
  "language_info": {
   "codemirror_mode": {
    "name": "ipython",
    "version": 3
   },
   "file_extension": ".py",
   "mimetype": "text/x-python",
   "name": "python",
   "nbconvert_exporter": "python",
   "pygments_lexer": "ipython3",
   "version": "3.7.10"
  }
 },
 "nbformat": 4,
 "nbformat_minor": 4
}
